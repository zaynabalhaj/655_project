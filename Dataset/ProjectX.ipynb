{
 "cells": [
  {
   "cell_type": "markdown",
   "id": "068283e8-aefd-4aa4-a640-57a5105d835e",
   "metadata": {
    "id": "068283e8-aefd-4aa4-a640-57a5105d835e"
   },
   "source": [
    "# 1.) Importing all Libraries & Modules"
   ]
  },
  {
   "cell_type": "code",
   "execution_count": null,
   "id": "74f050d5-baf9-4c1b-b611-7a8c13edba05",
   "metadata": {
    "id": "74f050d5-baf9-4c1b-b611-7a8c13edba05"
   },
   "outputs": [],
   "source": [
    "import pandas as pd\n",
    "import matplotlib.pyplot as plt\n",
    "import seaborn as sns\n",
    "import ipaddress\n",
    "import xgboost as xgb\n",
    "import numpy as np\n",
    "\n",
    "\n",
    "\n",
    "from matplotlib.pyplot import *\n",
    "from sklearn.preprocessing import LabelEncoder\n",
    "from sklearn.preprocessing import OneHotEncoder\n",
    "from sklearn.preprocessing import MinMaxScaler\n",
    "from sklearn.model_selection import train_test_split\n",
    "from sklearn.naive_bayes import GaussianNB,MultinomialNB,BernoulliNB\n",
    "from sklearn.metrics import accuracy_score,confusion_matrix,precision_score,recall_score, f1_score\n",
    "from sklearn.linear_model import LogisticRegression\n",
    "from sklearn.svm import SVC\n",
    "from sklearn.naive_bayes import MultinomialNB\n",
    "from sklearn.tree import DecisionTreeClassifier\n",
    "from sklearn.neighbors import KNeighborsClassifier\n",
    "from sklearn.ensemble import RandomForestClassifier\n",
    "from sklearn.ensemble import AdaBoostClassifier\n",
    "from sklearn.ensemble import BaggingClassifier\n",
    "from sklearn.ensemble import ExtraTreesClassifier\n",
    "from sklearn.ensemble import GradientBoostingClassifier\n",
    "from xgboost import XGBClassifier\n",
    "from sklearn.ensemble import VotingClassifier\n",
    "from sklearn.ensemble import StackingClassifier\n",
    "from sklearn.metrics import roc_curve, auc\n",
    "from sklearn.metrics import precision_recall_curve\n",
    "from sklearn.model_selection import cross_val_score, cross_val_predict\n",
    "from sklearn.preprocessing import label_binarize\n",
    "from sklearn.model_selection import StratifiedKFold"
   ]
  },
  {
   "cell_type": "markdown",
   "id": "56c1054a-e017-43d8-8c3b-fcdd62deadbe",
   "metadata": {
    "id": "56c1054a-e017-43d8-8c3b-fcdd62deadbe"
   },
   "source": [
    "# 2.) Loading The Dataset"
   ]
  },
  {
   "cell_type": "code",
   "execution_count": null,
   "id": "7320ce5e-1b38-4ee5-b847-4de3035acebb",
   "metadata": {
    "id": "7320ce5e-1b38-4ee5-b847-4de3035acebb"
   },
   "outputs": [],
   "source": [
    "# Load the dataset into a pandas DataFrame\n",
    "#df = pd.read_csv(\"dataset1.csv\")\n",
    "df = pd.read_csv(\"dataset1.csv\", low_memory=False)\n"
   ]
  },
  {
   "cell_type": "code",
   "execution_count": null,
   "id": "0309c79a-c3e3-4a97-8cda-0a76d789d4fe",
   "metadata": {
    "colab": {
     "base_uri": "https://localhost:8080/"
    },
    "id": "0309c79a-c3e3-4a97-8cda-0a76d789d4fe",
    "outputId": "7d1e1f23-0ab2-453e-b7fd-74f6f500064e"
   },
   "outputs": [
    {
     "data": {
      "text/plain": [
       "(171843, 22)"
      ]
     },
     "execution_count": 50,
     "metadata": {},
     "output_type": "execute_result"
    }
   ],
   "source": [
    "df.shape"
   ]
  },
  {
   "cell_type": "code",
   "execution_count": null,
   "id": "be143516-112f-4a9b-870b-69c3ea3579cc",
   "metadata": {
    "colab": {
     "base_uri": "https://localhost:8080/"
    },
    "id": "be143516-112f-4a9b-870b-69c3ea3579cc",
    "outputId": "a746b40b-f2db-4004-ae21-1ef7f59dc2f2"
   },
   "outputs": [
    {
     "name": "stdout",
     "output_type": "stream",
     "text": [
      "This Dataset has 171843 rows and 22 columns\n"
     ]
    }
   ],
   "source": [
    "print(\"This Dataset has {} rows and {} columns\".format(df.shape[0], df.shape[1]))"
   ]
  },
  {
   "cell_type": "code",
   "execution_count": null,
   "id": "2962cfe8-7dff-4a6a-8ee3-d52746e23d73",
   "metadata": {
    "colab": {
     "base_uri": "https://localhost:8080/",
     "height": 256
    },
    "id": "2962cfe8-7dff-4a6a-8ee3-d52746e23d73",
    "outputId": "6692ced1-54d5-415d-f96e-09779a022ee5"
   },
   "outputs": [
    {
     "data": {
      "application/vnd.google.colaboratory.intrinsic+json": {
       "type": "dataframe"
      },
      "text/html": [
       "\n",
       "  <div id=\"df-ddc9ff1a-01c9-4414-884b-806a3e9b5d10\" class=\"colab-df-container\">\n",
       "    <div>\n",
       "<style scoped>\n",
       "    .dataframe tbody tr th:only-of-type {\n",
       "        vertical-align: middle;\n",
       "    }\n",
       "\n",
       "    .dataframe tbody tr th {\n",
       "        vertical-align: top;\n",
       "    }\n",
       "\n",
       "    .dataframe thead th {\n",
       "        text-align: right;\n",
       "    }\n",
       "</style>\n",
       "<table border=\"1\" class=\"dataframe\">\n",
       "  <thead>\n",
       "    <tr style=\"text-align: right;\">\n",
       "      <th></th>\n",
       "      <th>Timestamp</th>\n",
       "      <th>datapath.id</th>\n",
       "      <th>flow_id</th>\n",
       "      <th>ip_src</th>\n",
       "      <th>tp_src</th>\n",
       "      <th>ip_dst</th>\n",
       "      <th>tp_dst</th>\n",
       "      <th>ip_proto</th>\n",
       "      <th>icmp_code</th>\n",
       "      <th>icmp_type</th>\n",
       "      <th>...</th>\n",
       "      <th>idle_timeout</th>\n",
       "      <th>hard_timeout</th>\n",
       "      <th>flags</th>\n",
       "      <th>packet_count</th>\n",
       "      <th>byte_count</th>\n",
       "      <th>packet_count_per_second</th>\n",
       "      <th>packet_count_per_nsecond</th>\n",
       "      <th>byte_count_per_second</th>\n",
       "      <th>byte_count_per_nsecond</th>\n",
       "      <th>label</th>\n",
       "    </tr>\n",
       "  </thead>\n",
       "  <tbody>\n",
       "    <tr>\n",
       "      <th>85697</th>\n",
       "      <td>1733142706</td>\n",
       "      <td>2</td>\n",
       "      <td>10.0.0.54723610.0.0.650511</td>\n",
       "      <td>10.0.0.5</td>\n",
       "      <td>47236</td>\n",
       "      <td>10.0.0.6</td>\n",
       "      <td>5051</td>\n",
       "      <td>1</td>\n",
       "      <td>0</td>\n",
       "      <td>8</td>\n",
       "      <td>...</td>\n",
       "      <td>20</td>\n",
       "      <td>100</td>\n",
       "      <td>0</td>\n",
       "      <td>9</td>\n",
       "      <td>882</td>\n",
       "      <td>1.125000</td>\n",
       "      <td>9.40E-09</td>\n",
       "      <td>110.250000</td>\n",
       "      <td>9.22E-07</td>\n",
       "      <td>0</td>\n",
       "    </tr>\n",
       "    <tr>\n",
       "      <th>100472</th>\n",
       "      <td>1733146507</td>\n",
       "      <td>6</td>\n",
       "      <td>10.0.0.174019010.0.0.250501</td>\n",
       "      <td>10.0.0.17</td>\n",
       "      <td>40190</td>\n",
       "      <td>10.0.0.2</td>\n",
       "      <td>5050</td>\n",
       "      <td>1</td>\n",
       "      <td>0</td>\n",
       "      <td>8</td>\n",
       "      <td>...</td>\n",
       "      <td>20</td>\n",
       "      <td>100</td>\n",
       "      <td>0</td>\n",
       "      <td>8</td>\n",
       "      <td>760</td>\n",
       "      <td>1.333333</td>\n",
       "      <td>1.05E-08</td>\n",
       "      <td>126.666667</td>\n",
       "      <td>1.00E-06</td>\n",
       "      <td>0</td>\n",
       "    </tr>\n",
       "    <tr>\n",
       "      <th>25441</th>\n",
       "      <td>1733611323</td>\n",
       "      <td>6</td>\n",
       "      <td>10.0.0.16010.0.0.1601</td>\n",
       "      <td>10.0.0.16</td>\n",
       "      <td>0</td>\n",
       "      <td>10.0.0.16</td>\n",
       "      <td>0</td>\n",
       "      <td>1</td>\n",
       "      <td>0</td>\n",
       "      <td>8</td>\n",
       "      <td>...</td>\n",
       "      <td>20</td>\n",
       "      <td>100</td>\n",
       "      <td>0</td>\n",
       "      <td>37776</td>\n",
       "      <td>6119712</td>\n",
       "      <td>994.105263</td>\n",
       "      <td>0.000108865</td>\n",
       "      <td>161045.052600</td>\n",
       "      <td>0.017636058</td>\n",
       "      <td>1</td>\n",
       "    </tr>\n",
       "    <tr>\n",
       "      <th>120222</th>\n",
       "      <td>1733129682</td>\n",
       "      <td>2</td>\n",
       "      <td>10.0.0.23683010.0.0.1150501</td>\n",
       "      <td>10.0.0.2</td>\n",
       "      <td>36830</td>\n",
       "      <td>10.0.0.11</td>\n",
       "      <td>5050</td>\n",
       "      <td>1</td>\n",
       "      <td>0</td>\n",
       "      <td>8</td>\n",
       "      <td>...</td>\n",
       "      <td>20</td>\n",
       "      <td>100</td>\n",
       "      <td>0</td>\n",
       "      <td>21</td>\n",
       "      <td>2058</td>\n",
       "      <td>1.050000</td>\n",
       "      <td>3.30E-08</td>\n",
       "      <td>102.900000</td>\n",
       "      <td>3.23E-06</td>\n",
       "      <td>0</td>\n",
       "    </tr>\n",
       "    <tr>\n",
       "      <th>133071</th>\n",
       "      <td>1733405780</td>\n",
       "      <td>3</td>\n",
       "      <td>10.0.0.162010.0.0.324916</td>\n",
       "      <td>10.0.0.16</td>\n",
       "      <td>20</td>\n",
       "      <td>10.0.0.3</td>\n",
       "      <td>2491</td>\n",
       "      <td>6</td>\n",
       "      <td>-1</td>\n",
       "      <td>0</td>\n",
       "      <td>...</td>\n",
       "      <td>20</td>\n",
       "      <td>100</td>\n",
       "      <td>0</td>\n",
       "      <td>1</td>\n",
       "      <td>54</td>\n",
       "      <td>1.000000</td>\n",
       "      <td>1.41E-09</td>\n",
       "      <td>54.000000</td>\n",
       "      <td>7.63E-08</td>\n",
       "      <td>2</td>\n",
       "    </tr>\n",
       "  </tbody>\n",
       "</table>\n",
       "<p>5 rows × 22 columns</p>\n",
       "</div>\n",
       "    <div class=\"colab-df-buttons\">\n",
       "\n",
       "  <div class=\"colab-df-container\">\n",
       "    <button class=\"colab-df-convert\" onclick=\"convertToInteractive('df-ddc9ff1a-01c9-4414-884b-806a3e9b5d10')\"\n",
       "            title=\"Convert this dataframe to an interactive table.\"\n",
       "            style=\"display:none;\">\n",
       "\n",
       "  <svg xmlns=\"http://www.w3.org/2000/svg\" height=\"24px\" viewBox=\"0 -960 960 960\">\n",
       "    <path d=\"M120-120v-720h720v720H120Zm60-500h600v-160H180v160Zm220 220h160v-160H400v160Zm0 220h160v-160H400v160ZM180-400h160v-160H180v160Zm440 0h160v-160H620v160ZM180-180h160v-160H180v160Zm440 0h160v-160H620v160Z\"/>\n",
       "  </svg>\n",
       "    </button>\n",
       "\n",
       "  <style>\n",
       "    .colab-df-container {\n",
       "      display:flex;\n",
       "      gap: 12px;\n",
       "    }\n",
       "\n",
       "    .colab-df-convert {\n",
       "      background-color: #E8F0FE;\n",
       "      border: none;\n",
       "      border-radius: 50%;\n",
       "      cursor: pointer;\n",
       "      display: none;\n",
       "      fill: #1967D2;\n",
       "      height: 32px;\n",
       "      padding: 0 0 0 0;\n",
       "      width: 32px;\n",
       "    }\n",
       "\n",
       "    .colab-df-convert:hover {\n",
       "      background-color: #E2EBFA;\n",
       "      box-shadow: 0px 1px 2px rgba(60, 64, 67, 0.3), 0px 1px 3px 1px rgba(60, 64, 67, 0.15);\n",
       "      fill: #174EA6;\n",
       "    }\n",
       "\n",
       "    .colab-df-buttons div {\n",
       "      margin-bottom: 4px;\n",
       "    }\n",
       "\n",
       "    [theme=dark] .colab-df-convert {\n",
       "      background-color: #3B4455;\n",
       "      fill: #D2E3FC;\n",
       "    }\n",
       "\n",
       "    [theme=dark] .colab-df-convert:hover {\n",
       "      background-color: #434B5C;\n",
       "      box-shadow: 0px 1px 3px 1px rgba(0, 0, 0, 0.15);\n",
       "      filter: drop-shadow(0px 1px 2px rgba(0, 0, 0, 0.3));\n",
       "      fill: #FFFFFF;\n",
       "    }\n",
       "  </style>\n",
       "\n",
       "    <script>\n",
       "      const buttonEl =\n",
       "        document.querySelector('#df-ddc9ff1a-01c9-4414-884b-806a3e9b5d10 button.colab-df-convert');\n",
       "      buttonEl.style.display =\n",
       "        google.colab.kernel.accessAllowed ? 'block' : 'none';\n",
       "\n",
       "      async function convertToInteractive(key) {\n",
       "        const element = document.querySelector('#df-ddc9ff1a-01c9-4414-884b-806a3e9b5d10');\n",
       "        const dataTable =\n",
       "          await google.colab.kernel.invokeFunction('convertToInteractive',\n",
       "                                                    [key], {});\n",
       "        if (!dataTable) return;\n",
       "\n",
       "        const docLinkHtml = 'Like what you see? Visit the ' +\n",
       "          '<a target=\"_blank\" href=https://colab.research.google.com/notebooks/data_table.ipynb>data table notebook</a>'\n",
       "          + ' to learn more about interactive tables.';\n",
       "        element.innerHTML = '';\n",
       "        dataTable['output_type'] = 'display_data';\n",
       "        await google.colab.output.renderOutput(dataTable, element);\n",
       "        const docLink = document.createElement('div');\n",
       "        docLink.innerHTML = docLinkHtml;\n",
       "        element.appendChild(docLink);\n",
       "      }\n",
       "    </script>\n",
       "  </div>\n",
       "\n",
       "\n",
       "<div id=\"df-9f66a477-5933-41bd-b007-3da200bc6016\">\n",
       "  <button class=\"colab-df-quickchart\" onclick=\"quickchart('df-9f66a477-5933-41bd-b007-3da200bc6016')\"\n",
       "            title=\"Suggest charts\"\n",
       "            style=\"display:none;\">\n",
       "\n",
       "<svg xmlns=\"http://www.w3.org/2000/svg\" height=\"24px\"viewBox=\"0 0 24 24\"\n",
       "     width=\"24px\">\n",
       "    <g>\n",
       "        <path d=\"M19 3H5c-1.1 0-2 .9-2 2v14c0 1.1.9 2 2 2h14c1.1 0 2-.9 2-2V5c0-1.1-.9-2-2-2zM9 17H7v-7h2v7zm4 0h-2V7h2v10zm4 0h-2v-4h2v4z\"/>\n",
       "    </g>\n",
       "</svg>\n",
       "  </button>\n",
       "\n",
       "<style>\n",
       "  .colab-df-quickchart {\n",
       "      --bg-color: #E8F0FE;\n",
       "      --fill-color: #1967D2;\n",
       "      --hover-bg-color: #E2EBFA;\n",
       "      --hover-fill-color: #174EA6;\n",
       "      --disabled-fill-color: #AAA;\n",
       "      --disabled-bg-color: #DDD;\n",
       "  }\n",
       "\n",
       "  [theme=dark] .colab-df-quickchart {\n",
       "      --bg-color: #3B4455;\n",
       "      --fill-color: #D2E3FC;\n",
       "      --hover-bg-color: #434B5C;\n",
       "      --hover-fill-color: #FFFFFF;\n",
       "      --disabled-bg-color: #3B4455;\n",
       "      --disabled-fill-color: #666;\n",
       "  }\n",
       "\n",
       "  .colab-df-quickchart {\n",
       "    background-color: var(--bg-color);\n",
       "    border: none;\n",
       "    border-radius: 50%;\n",
       "    cursor: pointer;\n",
       "    display: none;\n",
       "    fill: var(--fill-color);\n",
       "    height: 32px;\n",
       "    padding: 0;\n",
       "    width: 32px;\n",
       "  }\n",
       "\n",
       "  .colab-df-quickchart:hover {\n",
       "    background-color: var(--hover-bg-color);\n",
       "    box-shadow: 0 1px 2px rgba(60, 64, 67, 0.3), 0 1px 3px 1px rgba(60, 64, 67, 0.15);\n",
       "    fill: var(--button-hover-fill-color);\n",
       "  }\n",
       "\n",
       "  .colab-df-quickchart-complete:disabled,\n",
       "  .colab-df-quickchart-complete:disabled:hover {\n",
       "    background-color: var(--disabled-bg-color);\n",
       "    fill: var(--disabled-fill-color);\n",
       "    box-shadow: none;\n",
       "  }\n",
       "\n",
       "  .colab-df-spinner {\n",
       "    border: 2px solid var(--fill-color);\n",
       "    border-color: transparent;\n",
       "    border-bottom-color: var(--fill-color);\n",
       "    animation:\n",
       "      spin 1s steps(1) infinite;\n",
       "  }\n",
       "\n",
       "  @keyframes spin {\n",
       "    0% {\n",
       "      border-color: transparent;\n",
       "      border-bottom-color: var(--fill-color);\n",
       "      border-left-color: var(--fill-color);\n",
       "    }\n",
       "    20% {\n",
       "      border-color: transparent;\n",
       "      border-left-color: var(--fill-color);\n",
       "      border-top-color: var(--fill-color);\n",
       "    }\n",
       "    30% {\n",
       "      border-color: transparent;\n",
       "      border-left-color: var(--fill-color);\n",
       "      border-top-color: var(--fill-color);\n",
       "      border-right-color: var(--fill-color);\n",
       "    }\n",
       "    40% {\n",
       "      border-color: transparent;\n",
       "      border-right-color: var(--fill-color);\n",
       "      border-top-color: var(--fill-color);\n",
       "    }\n",
       "    60% {\n",
       "      border-color: transparent;\n",
       "      border-right-color: var(--fill-color);\n",
       "    }\n",
       "    80% {\n",
       "      border-color: transparent;\n",
       "      border-right-color: var(--fill-color);\n",
       "      border-bottom-color: var(--fill-color);\n",
       "    }\n",
       "    90% {\n",
       "      border-color: transparent;\n",
       "      border-bottom-color: var(--fill-color);\n",
       "    }\n",
       "  }\n",
       "</style>\n",
       "\n",
       "  <script>\n",
       "    async function quickchart(key) {\n",
       "      const quickchartButtonEl =\n",
       "        document.querySelector('#' + key + ' button');\n",
       "      quickchartButtonEl.disabled = true;  // To prevent multiple clicks.\n",
       "      quickchartButtonEl.classList.add('colab-df-spinner');\n",
       "      try {\n",
       "        const charts = await google.colab.kernel.invokeFunction(\n",
       "            'suggestCharts', [key], {});\n",
       "      } catch (error) {\n",
       "        console.error('Error during call to suggestCharts:', error);\n",
       "      }\n",
       "      quickchartButtonEl.classList.remove('colab-df-spinner');\n",
       "      quickchartButtonEl.classList.add('colab-df-quickchart-complete');\n",
       "    }\n",
       "    (() => {\n",
       "      let quickchartButtonEl =\n",
       "        document.querySelector('#df-9f66a477-5933-41bd-b007-3da200bc6016 button');\n",
       "      quickchartButtonEl.style.display =\n",
       "        google.colab.kernel.accessAllowed ? 'block' : 'none';\n",
       "    })();\n",
       "  </script>\n",
       "</div>\n",
       "\n",
       "    </div>\n",
       "  </div>\n"
      ],
      "text/plain": [
       "         Timestamp  datapath.id                      flow_id     ip_src  \\\n",
       "85697   1733142706            2   10.0.0.54723610.0.0.650511   10.0.0.5   \n",
       "100472  1733146507            6  10.0.0.174019010.0.0.250501  10.0.0.17   \n",
       "25441   1733611323            6        10.0.0.16010.0.0.1601  10.0.0.16   \n",
       "120222  1733129682            2  10.0.0.23683010.0.0.1150501   10.0.0.2   \n",
       "133071  1733405780            3     10.0.0.162010.0.0.324916  10.0.0.16   \n",
       "\n",
       "        tp_src     ip_dst  tp_dst  ip_proto  icmp_code  icmp_type  ...  \\\n",
       "85697    47236   10.0.0.6    5051         1          0          8  ...   \n",
       "100472   40190   10.0.0.2    5050         1          0          8  ...   \n",
       "25441        0  10.0.0.16       0         1          0          8  ...   \n",
       "120222   36830  10.0.0.11    5050         1          0          8  ...   \n",
       "133071      20   10.0.0.3    2491         6         -1          0  ...   \n",
       "\n",
       "        idle_timeout  hard_timeout  flags  packet_count  byte_count  \\\n",
       "85697             20           100      0             9         882   \n",
       "100472            20           100      0             8         760   \n",
       "25441             20           100      0         37776     6119712   \n",
       "120222            20           100      0            21        2058   \n",
       "133071            20           100      0             1          54   \n",
       "\n",
       "        packet_count_per_second  packet_count_per_nsecond  \\\n",
       "85697                  1.125000                  9.40E-09   \n",
       "100472                 1.333333                  1.05E-08   \n",
       "25441                994.105263               0.000108865   \n",
       "120222                 1.050000                  3.30E-08   \n",
       "133071                 1.000000                  1.41E-09   \n",
       "\n",
       "        byte_count_per_second byte_count_per_nsecond  label  \n",
       "85697              110.250000               9.22E-07      0  \n",
       "100472             126.666667               1.00E-06      0  \n",
       "25441           161045.052600            0.017636058      1  \n",
       "120222             102.900000               3.23E-06      0  \n",
       "133071              54.000000               7.63E-08      2  \n",
       "\n",
       "[5 rows x 22 columns]"
      ]
     },
     "execution_count": 38,
     "metadata": {},
     "output_type": "execute_result"
    }
   ],
   "source": [
    "df.sample(5)"
   ]
  },
  {
   "cell_type": "code",
   "execution_count": null,
   "id": "7f9ffe5d-fa19-405a-b555-7ad35a3f6e63",
   "metadata": {
    "colab": {
     "base_uri": "https://localhost:8080/",
     "height": 1000
    },
    "id": "7f9ffe5d-fa19-405a-b555-7ad35a3f6e63",
    "outputId": "ad51be0d-ed5c-4e93-d4c1-ff9ed6770626"
   },
   "outputs": [
    {
     "data": {
      "text/plain": [
       "<Figure size 2000x2000 with 0 Axes>"
      ]
     },
     "metadata": {},
     "output_type": "display_data"
    },
    {
     "data": {
      "image/png": "[encoded data removed]",
      "text/plain": [
       "<Figure size 2000x2000 with 1 Axes>"
      ]
     },
     "metadata": {},
     "output_type": "display_data"
    }
   ],
   "source": [
    "\n",
    "\n",
    "plt.figure(figsize=(20,20))\n",
    "\n",
    "fig, ax = plt.subplots(figsize=(20,20))\n",
    "\n",
    "class_distribution = df['label'].value_counts()\n",
    "class_distribution.plot(kind='bar')\n",
    "plt.xlabel('Class')\n",
    "plt.ylabel('Data points per Class')\n",
    "plt.title('Distribution of the SDN Training Data Before Cleaning')\n",
    "plt.grid()\n",
    "plt.show()\n",
    "\n",
    "#fig.savefig('Data_Distribution.pdf')"
   ]
  },
  {
   "cell_type": "code",
   "execution_count": null,
   "id": "f30894e9-c722-4ccd-97c8-6157deb75926",
   "metadata": {
    "colab": {
     "base_uri": "https://localhost:8080/"
    },
    "id": "f30894e9-c722-4ccd-97c8-6157deb75926",
    "outputId": "ed7d8457-028a-44c7-c86f-a20f0e95c738"
   },
   "outputs": [
    {
     "name": "stdout",
     "output_type": "stream",
     "text": [
      "Number of data points in class 0 : 82077 ( 47.763 %)\n",
      "Number of data points in class 1 : 48479 ( 28.211 %)\n",
      "Number of data points in class 2 : 41287 ( 24.026 %)\n"
     ]
    }
   ],
   "source": [
    "# Before Cleaning Data set for Duplicates\n",
    "sorted_ds = np.argsort(-class_distribution.values)\n",
    "for i in sorted_ds:\n",
    "    print('Number of data points in class', class_distribution.index[i],':', class_distribution.values[i],\n",
    "          '(', np.round((class_distribution.values[i]/df.shape[0]*100), 3), '%)')"
   ]
  },
  {
   "cell_type": "markdown",
   "id": "708ef290-76a5-4b6e-9c4c-d7249d17de87",
   "metadata": {},
   "source": [
    "##### The dataset contains 82,077 data points labeled as Normal (47.763%), 48,479 as DDoS (28.211%), and 41,287 as Scanning Attack (24.026%)."
   ]
  },
  {
   "cell_type": "markdown",
   "id": "83c720c3-7dbd-46b7-80c3-a098760aa595",
   "metadata": {
    "id": "83c720c3-7dbd-46b7-80c3-a098760aa595"
   },
   "source": [
    "# 3.) Data Cleaning"
   ]
  },
  {
   "cell_type": "code",
   "execution_count": null,
   "id": "b46c8aed-4733-4c4c-a365-2c319d80ca36",
   "metadata": {
    "colab": {
     "base_uri": "https://localhost:8080/"
    },
    "id": "b46c8aed-4733-4c4c-a365-2c319d80ca36",
    "outputId": "8164fdae-9b77-4b05-a5a9-250127afdb48"
   },
   "outputs": [
    {
     "name": "stdout",
     "output_type": "stream",
     "text": [
      "<class 'pandas.core.frame.DataFrame'>\n",
      "RangeIndex: 171843 entries, 0 to 171842\n",
      "Data columns (total 22 columns):\n",
      " #   Column                    Non-Null Count   Dtype  \n",
      "---  ------                    --------------   -----  \n",
      " 0   Timestamp                 171843 non-null  int64  \n",
      " 1   datapath.id               171843 non-null  int64  \n",
      " 2   flow_id                   171843 non-null  object \n",
      " 3   ip_src                    171843 non-null  object \n",
      " 4   tp_src                    171843 non-null  int64  \n",
      " 5   ip_dst                    171843 non-null  object \n",
      " 6   tp_dst                    171843 non-null  int64  \n",
      " 7   ip_proto                  171843 non-null  int64  \n",
      " 8   icmp_code                 171843 non-null  int64  \n",
      " 9   icmp_type                 171843 non-null  int64  \n",
      " 10  duration_sec              171843 non-null  int64  \n",
      " 11  duration_nsec             171843 non-null  int64  \n",
      " 12  idle_timeout              171843 non-null  int64  \n",
      " 13  hard_timeout              171843 non-null  int64  \n",
      " 14  flags                     171843 non-null  int64  \n",
      " 15  packet_count              171843 non-null  int64  \n",
      " 16  byte_count                171843 non-null  int64  \n",
      " 17  packet_count_per_second   171843 non-null  float64\n",
      " 18  packet_count_per_nsecond  171843 non-null  object \n",
      " 19  byte_count_per_second     171843 non-null  float64\n",
      " 20  byte_count_per_nsecond    169075 non-null  object \n",
      " 21  label                     171843 non-null  int64  \n",
      "dtypes: float64(2), int64(15), object(5)\n",
      "memory usage: 28.8+ MB\n"
     ]
    }
   ],
   "source": [
    "df.info()"
   ]
  },
  {
   "cell_type": "code",
   "execution_count": null,
   "id": "57a6349d-0d20-40e1-82a3-cfe158b15431",
   "metadata": {
    "colab": {
     "base_uri": "https://localhost:8080/",
     "height": 774
    },
    "id": "57a6349d-0d20-40e1-82a3-cfe158b15431",
    "outputId": "6a1c87f5-ca5a-401b-b89d-96cc9fcda2ec"
   },
   "outputs": [
    {
     "data": {
      "text/html": [
       "<div>\n",
       "<style scoped>\n",
       "    .dataframe tbody tr th:only-of-type {\n",
       "        vertical-align: middle;\n",
       "    }\n",
       "\n",
       "    .dataframe tbody tr th {\n",
       "        vertical-align: top;\n",
       "    }\n",
       "\n",
       "    .dataframe thead th {\n",
       "        text-align: right;\n",
       "    }\n",
       "</style>\n",
       "<table border=\"1\" class=\"dataframe\">\n",
       "  <thead>\n",
       "    <tr style=\"text-align: right;\">\n",
       "      <th></th>\n",
       "      <th>0</th>\n",
       "    </tr>\n",
       "  </thead>\n",
       "  <tbody>\n",
       "    <tr>\n",
       "      <th>Timestamp</th>\n",
       "      <td>0</td>\n",
       "    </tr>\n",
       "    <tr>\n",
       "      <th>datapath.id</th>\n",
       "      <td>0</td>\n",
       "    </tr>\n",
       "    <tr>\n",
       "      <th>flow_id</th>\n",
       "      <td>0</td>\n",
       "    </tr>\n",
       "    <tr>\n",
       "      <th>ip_src</th>\n",
       "      <td>0</td>\n",
       "    </tr>\n",
       "    <tr>\n",
       "      <th>tp_src</th>\n",
       "      <td>0</td>\n",
       "    </tr>\n",
       "    <tr>\n",
       "      <th>ip_dst</th>\n",
       "      <td>0</td>\n",
       "    </tr>\n",
       "    <tr>\n",
       "      <th>tp_dst</th>\n",
       "      <td>0</td>\n",
       "    </tr>\n",
       "    <tr>\n",
       "      <th>ip_proto</th>\n",
       "      <td>0</td>\n",
       "    </tr>\n",
       "    <tr>\n",
       "      <th>icmp_code</th>\n",
       "      <td>0</td>\n",
       "    </tr>\n",
       "    <tr>\n",
       "      <th>icmp_type</th>\n",
       "      <td>0</td>\n",
       "    </tr>\n",
       "    <tr>\n",
       "      <th>duration_sec</th>\n",
       "      <td>0</td>\n",
       "    </tr>\n",
       "    <tr>\n",
       "      <th>duration_nsec</th>\n",
       "      <td>0</td>\n",
       "    </tr>\n",
       "    <tr>\n",
       "      <th>idle_timeout</th>\n",
       "      <td>0</td>\n",
       "    </tr>\n",
       "    <tr>\n",
       "      <th>hard_timeout</th>\n",
       "      <td>0</td>\n",
       "    </tr>\n",
       "    <tr>\n",
       "      <th>flags</th>\n",
       "      <td>0</td>\n",
       "    </tr>\n",
       "    <tr>\n",
       "      <th>packet_count</th>\n",
       "      <td>0</td>\n",
       "    </tr>\n",
       "    <tr>\n",
       "      <th>byte_count</th>\n",
       "      <td>0</td>\n",
       "    </tr>\n",
       "    <tr>\n",
       "      <th>packet_count_per_second</th>\n",
       "      <td>0</td>\n",
       "    </tr>\n",
       "    <tr>\n",
       "      <th>packet_count_per_nsecond</th>\n",
       "      <td>0</td>\n",
       "    </tr>\n",
       "    <tr>\n",
       "      <th>byte_count_per_second</th>\n",
       "      <td>0</td>\n",
       "    </tr>\n",
       "    <tr>\n",
       "      <th>byte_count_per_nsecond</th>\n",
       "      <td>2768</td>\n",
       "    </tr>\n",
       "    <tr>\n",
       "      <th>label</th>\n",
       "      <td>0</td>\n",
       "    </tr>\n",
       "  </tbody>\n",
       "</table>\n",
       "</div><br><label><b>dtype:</b> int64</label>"
      ],
      "text/plain": [
       "Timestamp                      0\n",
       "datapath.id                    0\n",
       "flow_id                        0\n",
       "ip_src                         0\n",
       "tp_src                         0\n",
       "ip_dst                         0\n",
       "tp_dst                         0\n",
       "ip_proto                       0\n",
       "icmp_code                      0\n",
       "icmp_type                      0\n",
       "duration_sec                   0\n",
       "duration_nsec                  0\n",
       "idle_timeout                   0\n",
       "hard_timeout                   0\n",
       "flags                          0\n",
       "packet_count                   0\n",
       "byte_count                     0\n",
       "packet_count_per_second        0\n",
       "packet_count_per_nsecond       0\n",
       "byte_count_per_second          0\n",
       "byte_count_per_nsecond      2768\n",
       "label                          0\n",
       "dtype: int64"
      ]
     },
     "execution_count": 41,
     "metadata": {},
     "output_type": "execute_result"
    }
   ],
   "source": [
    "df.isnull().sum()"
   ]
  },
  {
   "cell_type": "code",
   "execution_count": null,
   "id": "6303b8b0-4b68-4dc1-8ddc-28e5fb55cf56",
   "metadata": {
    "colab": {
     "base_uri": "https://localhost:8080/"
    },
    "id": "6303b8b0-4b68-4dc1-8ddc-28e5fb55cf56",
    "outputId": "8cc7d758-b7de-44f1-e27d-57421dcb1c6b"
   },
   "outputs": [
    {
     "name": "stdout",
     "output_type": "stream",
     "text": [
      "Number of duplicates before dropping: 2031\n"
     ]
    }
   ],
   "source": [
    "# Check the number of duplicates before dropping\n",
    "duplicates_before = df[df.duplicated()]\n",
    "print(\"Number of duplicates before dropping:\", duplicates_before.shape[0])"
   ]
  },
  {
   "cell_type": "code",
   "execution_count": null,
   "id": "05e404dd-d5b0-40c1-ae16-2dbe1d99b541",
   "metadata": {
    "id": "05e404dd-d5b0-40c1-ae16-2dbe1d99b541"
   },
   "outputs": [],
   "source": [
    "# Drop duplicates\n",
    "df = df.drop_duplicates(keep='first')"
   ]
  },
  {
   "cell_type": "code",
   "execution_count": null,
   "id": "401ec990-746d-479f-852b-fe5d201de787",
   "metadata": {
    "colab": {
     "base_uri": "https://localhost:8080/"
    },
    "id": "401ec990-746d-479f-852b-fe5d201de787",
    "outputId": "ef58e1d0-87af-461c-c3de-56de176f32ee"
   },
   "outputs": [
    {
     "name": "stdout",
     "output_type": "stream",
     "text": [
      "This Dataset has 169812 rows and 22 columns\n"
     ]
    }
   ],
   "source": [
    "print(\"This Dataset has {} rows and {} columns\".format(df.shape[0], df.shape[1]))"
   ]
  },
  {
   "cell_type": "code",
   "execution_count": null,
   "id": "ea4b7556-774f-48b6-926c-3a0d94ef492b",
   "metadata": {
    "colab": {
     "base_uri": "https://localhost:8080/",
     "height": 1000
    },
    "id": "ea4b7556-774f-48b6-926c-3a0d94ef492b",
    "outputId": "5cbe9d75-16ab-475f-c7a9-b292750d5f60"
   },
   "outputs": [
    {
     "data": {
      "text/plain": [
       "<Figure size 2000x2000 with 0 Axes>"
      ]
     },
     "metadata": {},
     "output_type": "display_data"
    },
    {
     "data": {
      "image/png": "[encoded data removed]",
      "text/plain": [
       "<Figure size 2000x2000 with 1 Axes>"
      ]
     },
     "metadata": {},
     "output_type": "display_data"
    }
   ],
   "source": [
    "\n",
    "plt.figure(figsize=(20,20))\n",
    "\n",
    "fig, ax = plt.subplots(figsize=(20,20))\n",
    "\n",
    "class_distribution = df['label'].value_counts()\n",
    "class_distribution.plot(kind='bar')\n",
    "plt.xlabel('Class')\n",
    "plt.ylabel('Data points per Class')\n",
    "plt.title('Distribution of the SDN Training Data After Cleaning')\n",
    "plt.grid()\n",
    "plt.show()\n",
    "\n",
    "#fig.savefig('Data_Distribution_After_Cleaning.pdf')"
   ]
  },
  {
   "cell_type": "code",
   "execution_count": null,
   "id": "23c75f29-b62e-466c-b4b9-32417db9116e",
   "metadata": {
    "colab": {
     "base_uri": "https://localhost:8080/"
    },
    "id": "23c75f29-b62e-466c-b4b9-32417db9116e",
    "outputId": "5ff6d58a-5a1a-4a51-c924-af41a4a9f5f6"
   },
   "outputs": [
    {
     "name": "stdout",
     "output_type": "stream",
     "text": [
      "Number of data points in class 0 : 82023 ( 48.302 %)\n",
      "Number of data points in class 1 : 46502 ( 27.384 %)\n",
      "Number of data points in class 2 : 41287 ( 24.313 %)\n"
     ]
    }
   ],
   "source": [
    "# After Cleaning Data set for Duplicate\n",
    "sorted_ds = np.argsort(-class_distribution.values)\n",
    "for i in sorted_ds:\n",
    "    print('Number of data points in class', class_distribution.index[i],':', class_distribution.values[i],\n",
    "          '(', np.round((class_distribution.values[i]/df.shape[0]*100), 3), '%)')"
   ]
  },
  {
   "cell_type": "markdown",
   "id": "1beebe13-e786-4d85-a7f8-7ce9ba013e6d",
   "metadata": {},
   "source": [
    "##### After cleaning, the dataset contains 82,023 data points labeled as Normal (48.302%), 46,502 as DDoS (27.384%), and 41,287 as Scanning Attack (24.313%)."
   ]
  },
  {
   "cell_type": "code",
   "execution_count": null,
   "id": "241b7b5b-6567-4395-bfa0-70bc080d5e3c",
   "metadata": {
    "id": "241b7b5b-6567-4395-bfa0-70bc080d5e3c"
   },
   "outputs": [],
   "source": [
    "from scipy.stats import zscore\n",
    "\n",
    "def expand_categories(values):\n",
    "    result = []\n",
    "    s = values.value_counts()\n",
    "    t = float(len(values))\n",
    "    for v in s.index:\n",
    "        result.append(\"{}:{}%\".format(v,round(100*(s[v]/t),2)))\n",
    "    return \"[{}]\".format(\",\".join(result))\n",
    "\n",
    "def analyze(df):\n",
    "    print()\n",
    "    cols = df.columns.values\n",
    "    total = float(len(df))\n",
    "\n",
    "    print(\"{} rows\".format(int(total)))\n",
    "    for col in cols:\n",
    "        uniques = df[col].unique()\n",
    "        unique_count = len(uniques)\n",
    "        if unique_count>100:\n",
    "            print(\"** {}:{} ({}%)\".format(col,unique_count,int(((unique_count)/total)*100)))\n",
    "        else:\n",
    "            print(\"** {}:{}\".format(col,expand_categories(df[col])))\n",
    "            expand_categories(df[col])"
   ]
  },
  {
   "cell_type": "markdown",
   "id": "8f486dbd-8718-4416-b2f1-8c5a50a69588",
   "metadata": {},
   "source": [
    "###### The code analyzes (`df`) by printing the number of rows, and for each column, it either shows the unique values and their percentages (if there are 100 or fewer unique values) or the count of unique values along with the percentage of unique values relative to the total rows (if there are more than 100 unique values)."
   ]
  },
  {
   "cell_type": "code",
   "execution_count": null,
   "id": "5d227965-330f-4562-ae78-cd3f2a002ee6",
   "metadata": {
    "id": "5d227965-330f-4562-ae78-cd3f2a002ee6",
    "outputId": "768051ac-c1c1-4cd0-b84a-394456426459"
   },
   "outputs": [
    {
     "name": "stdout",
     "output_type": "stream",
     "text": [
      "\n",
      "169812 rows\n",
      "** Timestamp:15053 (8%)\n",
      "** datapath.id:[2:24.49%,3:20.11%,1:18.56%,4:17.18%,5:13.14%,6:6.52%]\n",
      "** flow_id:13169 (7%)\n",
      "** ip_src:[10.0.0.1:16.77%,10.0.0.3:13.66%,10.0.0.17:7.99%,10.0.0.4:7.78%,10.0.0.18:6.88%,10.0.0.10:6.16%,10.0.0.8:5.92%,10.0.0.2:4.52%,10.0.0.14:4.28%,10.0.0.16:4.25%,10.0.0.11:3.03%,10.0.0.12:2.98%,10.0.0.9:2.95%,10.0.0.7:2.8%,10.0.0.15:2.62%,10.0.0.13:2.58%,10.0.0.5:2.44%,10.0.0.6:2.37%,88.70.102.105:0.01%,67.154.68.94:0.01%,224.230.51.111:0.0%]\n",
      "** tp_src:2952 (1%)\n",
      "** ip_dst:[10.0.0.1:18.48%,10.0.0.3:14.34%,10.0.0.4:8.49%,10.0.0.17:7.4%,10.0.0.18:7.22%,10.0.0.2:5.1%,10.0.0.10:4.55%,10.0.0.16:4.4%,10.0.0.14:4.16%,10.0.0.8:3.82%,10.0.0.12:3.46%,10.0.0.9:3.01%,10.0.0.11:3.01%,10.0.0.7:2.71%,10.0.0.15:2.57%,10.0.0.13:2.49%,10.0.0.5:2.44%,10.0.0.6:2.34%]\n",
      "** tp_dst:2889 (1%)\n",
      "** ip_proto:[1:49.39%,6:43.67%,17:6.95%]\n",
      "** icmp_code:[0:59.3%,-1:40.7%]\n",
      "** icmp_type:[0:66.94%,8:33.06%]\n",
      "** duration_sec:101 (0%)\n",
      "** duration_nsec:1000 (0%)\n",
      "** idle_timeout:[20:100.0%]\n",
      "** hard_timeout:[100:100.0%]\n",
      "** flags:[0:100.0%]\n",
      "** packet_count:28283 (16%)\n",
      "** byte_count:28634 (16%)\n",
      "** packet_count_per_second:36954 (21%)\n",
      "** packet_count_per_nsecond:32185 (18%)\n",
      "** byte_count_per_second:28622 (16%)\n",
      "** byte_count_per_nsecond:54342 (32%)\n",
      "** label:[0:48.3%,1:27.38%,2:24.31%]\n"
     ]
    }
   ],
   "source": [
    "analyze(df)"
   ]
  },
  {
   "cell_type": "markdown",
   "id": "bbec262d-99d1-433b-a686-84311579b8aa",
   "metadata": {},
   "source": [
    "### Feature categorization"
   ]
  },
  {
   "cell_type": "code",
   "execution_count": null,
   "id": "f77e06f8-bf67-41d9-a090-f71f0e0e454f",
   "metadata": {
    "id": "f77e06f8-bf67-41d9-a090-f71f0e0e454f",
    "outputId": "8b7bee89-1aa2-4948-bf22-7dcaaecad94d"
   },
   "outputs": [
    {
     "name": "stdout",
     "output_type": "stream",
     "text": [
      "The number of numerical features is 17 and they are : \n",
      " ['Timestamp', 'datapath.id', 'tp_src', 'tp_dst', 'ip_proto', 'icmp_code', 'icmp_type', 'duration_sec', 'duration_nsec', 'idle_timeout', 'hard_timeout', 'flags', 'packet_count', 'byte_count', 'packet_count_per_second', 'byte_count_per_second', 'label']\n"
     ]
    }
   ],
   "source": [
    "numerical_features = [feature for feature in df.columns if df[feature].dtypes != 'O']\n",
    "print(\"The number of numerical features is\",len(numerical_features),\"and they are : \\n\",numerical_features)"
   ]
  },
  {
   "cell_type": "code",
   "execution_count": null,
   "id": "94ee05c5-a370-4475-8a2e-a27a2ea5b293",
   "metadata": {
    "id": "94ee05c5-a370-4475-8a2e-a27a2ea5b293",
    "outputId": "910225ea-bdae-4786-fab0-a3d45252c4de"
   },
   "outputs": [
    {
     "name": "stdout",
     "output_type": "stream",
     "text": [
      "The number of categorical features is 5 and they are : \n",
      " ['flow_id', 'ip_src', 'ip_dst', 'packet_count_per_nsecond', 'byte_count_per_nsecond']\n"
     ]
    }
   ],
   "source": [
    "categorical_features = [feature for feature in df.columns if df[feature].dtypes == 'O']\n",
    "print(\"The number of categorical features is\",len(categorical_features),\"and they are : \\n\",categorical_features)"
   ]
  },
  {
   "cell_type": "code",
   "execution_count": null,
   "id": "3a378914-6043-46ae-9e07-08e5cf9983ad",
   "metadata": {
    "id": "3a378914-6043-46ae-9e07-08e5cf9983ad",
    "outputId": "b7dd2177-e752-4134-9726-ddb67a0c99f6"
   },
   "outputs": [
    {
     "name": "stdout",
     "output_type": "stream",
     "text": [
      "The number of discrete features is 7 and they are : \n",
      " ['datapath.id', 'ip_proto', 'icmp_code', 'icmp_type', 'idle_timeout', 'hard_timeout', 'flags']\n"
     ]
    }
   ],
   "source": [
    "#discrete numerical features\n",
    "discrete_feature = [feature for feature in numerical_features if df[feature].nunique()<=15 and feature != 'label']\n",
    "print(\"The number of discrete features is\",len(discrete_feature),\"and they are : \\n\",discrete_feature)"
   ]
  },
  {
   "cell_type": "code",
   "execution_count": null,
   "id": "5e18682a-4f00-409e-8f61-672e0f00f0e1",
   "metadata": {
    "id": "5e18682a-4f00-409e-8f61-672e0f00f0e1",
    "outputId": "ac25a810-44ec-444d-9330-94227bd4b9ba"
   },
   "outputs": [
    {
     "name": "stdout",
     "output_type": "stream",
     "text": [
      "The number of continuous_feature features is 9 and they are : \n",
      " ['Timestamp', 'tp_src', 'tp_dst', 'duration_sec', 'duration_nsec', 'packet_count', 'byte_count', 'packet_count_per_second', 'byte_count_per_second']\n"
     ]
    }
   ],
   "source": [
    "continuous_feature=[feature for feature in numerical_features if feature not in discrete_feature + ['label']]\n",
    "print(\"The number of continuous_feature features is\",len(continuous_feature),\"and they are : \\n\",continuous_feature)"
   ]
  },
  {
   "cell_type": "code",
   "execution_count": null,
   "id": "6aad3fa5-27d8-43a1-8d3a-c1ea337cf86b",
   "metadata": {
    "id": "6aad3fa5-27d8-43a1-8d3a-c1ea337cf86b",
    "outputId": "6aca499b-6317-4213-c4ed-b086169bc301"
   },
   "outputs": [
    {
     "name": "stdout",
     "output_type": "stream",
     "text": [
      "Features which need to be encoded are : \n",
      " ['flow_id', 'ip_src', 'ip_dst', 'packet_count_per_nsecond', 'byte_count_per_nsecond']\n"
     ]
    }
   ],
   "source": [
    "print(\"Features which need to be encoded are : \\n\" ,categorical_features)"
   ]
  },
  {
   "cell_type": "markdown",
   "id": "c3db3b1d-05b3-4ab1-9bf9-cbdb471daeae",
   "metadata": {},
   "source": [
    "##### We identifiy and categorize features in the dataset into numerical, categorical, discrete, and continuous types, and prints their counts and names."
   ]
  },
  {
   "cell_type": "code",
   "execution_count": null,
   "id": "c3875a97-5df5-4a4c-bd48-883fbdd73a72",
   "metadata": {
    "id": "c3875a97-5df5-4a4c-bd48-883fbdd73a72",
    "outputId": "f1bc4293-e282-4c82-8e62-8e46b0256909"
   },
   "outputs": [
    {
     "data": {
      "text/plain": [
       "Timestamp                  15053\n",
       "datapath.id                    6\n",
       "tp_src                      2952\n",
       "tp_dst                      2889\n",
       "ip_proto                       3\n",
       "icmp_code                      2\n",
       "icmp_type                      2\n",
       "duration_sec                 101\n",
       "duration_nsec               1000\n",
       "idle_timeout                   1\n",
       "hard_timeout                   1\n",
       "flags                          1\n",
       "packet_count               28283\n",
       "byte_count                 28634\n",
       "packet_count_per_second    36954\n",
       "byte_count_per_second      28622\n",
       "label                          3\n",
       "dtype: int64"
      ]
     },
     "execution_count": 278,
     "metadata": {},
     "output_type": "execute_result"
    }
   ],
   "source": [
    "# number of unique values in each numerical variable\n",
    "df[numerical_features].nunique(axis=0)"
   ]
  },
  {
   "cell_type": "markdown",
   "id": "598d7d2a-3f30-4757-9465-4ad09da6984b",
   "metadata": {},
   "source": [
    "##### We inspect irrelevant or unnecessary columns from the dataset to focus on features that are more meaningful for modeling."
   ]
  },
  {
   "cell_type": "code",
   "execution_count": null,
   "id": "4f5d3df6-0c5e-40f6-bbcb-19749e36c804",
   "metadata": {
    "id": "4f5d3df6-0c5e-40f6-bbcb-19749e36c804"
   },
   "outputs": [],
   "source": [
    "df = df.drop(['Timestamp'], axis=1)\n",
    "df = df.drop(['flow_id'], axis=1)\n",
    "df = df.drop(['idle_timeout'], axis=1)\n",
    "df = df.drop(['hard_timeout'], axis=1)\n",
    "df = df.drop(['flags'], axis=1)\n",
    "df = df.drop(['icmp_code'], axis=1)\n",
    "df = df.drop(['packet_count_per_nsecond'], axis=1)\n",
    "df = df.drop(['byte_count_per_nsecond'], axis=1)\n",
    "\n"
   ]
  },
  {
   "cell_type": "markdown",
   "id": "148c98cb-9038-430b-9b74-c4d2ee203880",
   "metadata": {
    "id": "148c98cb-9038-430b-9b74-c4d2ee203880"
   },
   "source": [
    "##### Dropping columns that won't affect modeling"
   ]
  },
  {
   "cell_type": "code",
   "execution_count": null,
   "id": "6ac3cf1b-905a-4cbb-97bb-a4c259917ea8",
   "metadata": {
    "colab": {
     "base_uri": "https://localhost:8080/"
    },
    "id": "6ac3cf1b-905a-4cbb-97bb-a4c259917ea8",
    "outputId": "ae4eb340-b0ed-4d0c-d4e2-dfb7e03d37bb"
   },
   "outputs": [
    {
     "name": "stdout",
     "output_type": "stream",
     "text": [
      "This Dataset has 169812 rows and 14 columns\n"
     ]
    }
   ],
   "source": [
    "print(\"This Dataset has {} rows and {} columns\".format(df.shape[0], df.shape[1]))"
   ]
  },
  {
   "cell_type": "markdown",
   "id": "9c83a13c-bc13-4d98-94c2-ffdbfd5ec96d",
   "metadata": {
    "id": "9c83a13c-bc13-4d98-94c2-ffdbfd5ec96d"
   },
   "source": [
    "# 4.) Data Preprocessing"
   ]
  },
  {
   "cell_type": "code",
   "execution_count": null,
   "id": "546fabf3-455a-4da8-950b-5c1af725c6b7",
   "metadata": {
    "id": "546fabf3-455a-4da8-950b-5c1af725c6b7",
    "outputId": "7aa4e73f-aa65-4706-91a7-8540ff044bb8"
   },
   "outputs": [
    {
     "data": {
      "text/plain": [
       "array(['10.0.0.11', '10.0.0.4', '10.0.0.8', '10.0.0.3', '10.0.0.2',\n",
       "       '10.0.0.1', '10.0.0.16', '10.0.0.9', '10.0.0.12', '88.70.102.105',\n",
       "       '10.0.0.10', '10.0.0.18', '10.0.0.6', '10.0.0.13', '10.0.0.14',\n",
       "       '10.0.0.5', '10.0.0.17', '10.0.0.7', '224.230.51.111', '10.0.0.15',\n",
       "       '67.154.68.94'], dtype=object)"
      ]
     },
     "execution_count": 285,
     "metadata": {},
     "output_type": "execute_result"
    }
   ],
   "source": [
    "df['ip_src'].unique()"
   ]
  },
  {
   "cell_type": "code",
   "execution_count": null,
   "id": "3d00cf59-cde7-4607-a091-b7992f8d0dee",
   "metadata": {
    "id": "3d00cf59-cde7-4607-a091-b7992f8d0dee",
    "outputId": "bc780c67-5054-4cba-ff5c-b3edcd96f6a5"
   },
   "outputs": [
    {
     "data": {
      "text/plain": [
       "ip_src\n",
       "10.0.0.1          28483\n",
       "10.0.0.3          23195\n",
       "10.0.0.17         13576\n",
       "10.0.0.4          13219\n",
       "10.0.0.18         11680\n",
       "10.0.0.10         10454\n",
       "10.0.0.8          10050\n",
       "10.0.0.2           7671\n",
       "10.0.0.14          7265\n",
       "10.0.0.16          7212\n",
       "10.0.0.11          5149\n",
       "10.0.0.12          5067\n",
       "10.0.0.9           5012\n",
       "10.0.0.7           4749\n",
       "10.0.0.15          4457\n",
       "10.0.0.13          4377\n",
       "10.0.0.5           4143\n",
       "10.0.0.6           4018\n",
       "88.70.102.105        17\n",
       "67.154.68.94         17\n",
       "224.230.51.111        1\n",
       "Name: count, dtype: int64"
      ]
     },
     "execution_count": 286,
     "metadata": {},
     "output_type": "execute_result"
    }
   ],
   "source": [
    "df[\"ip_src\"].value_counts()"
   ]
  },
  {
   "cell_type": "code",
   "execution_count": null,
   "id": "78727c64-c1c4-4216-b65b-b7d1e7a11a96",
   "metadata": {
    "id": "78727c64-c1c4-4216-b65b-b7d1e7a11a96",
    "outputId": "c9707c2f-5b53-4306-e725-294734ae6a1a"
   },
   "outputs": [
    {
     "data": {
      "text/plain": [
       "array(['10.0.0.11', '10.0.0.1', '10.0.0.16', '10.0.0.4', '10.0.0.3',\n",
       "       '10.0.0.9', '10.0.0.12', '10.0.0.2', '10.0.0.8', '10.0.0.10',\n",
       "       '10.0.0.18', '10.0.0.6', '10.0.0.14', '10.0.0.13', '10.0.0.17',\n",
       "       '10.0.0.7', '10.0.0.15', '10.0.0.5'], dtype=object)"
      ]
     },
     "execution_count": 287,
     "metadata": {},
     "output_type": "execute_result"
    }
   ],
   "source": [
    "df['ip_dst'].unique()"
   ]
  },
  {
   "cell_type": "code",
   "execution_count": null,
   "id": "9513c586-f00d-4325-b25a-aecd9f70aed6",
   "metadata": {
    "id": "9513c586-f00d-4325-b25a-aecd9f70aed6",
    "outputId": "cd121711-2549-41e1-a870-d59893547018"
   },
   "outputs": [
    {
     "data": {
      "text/plain": [
       "ip_dst\n",
       "10.0.0.1     31380\n",
       "10.0.0.3     24355\n",
       "10.0.0.4     14423\n",
       "10.0.0.17    12561\n",
       "10.0.0.18    12256\n",
       "10.0.0.2      8664\n",
       "10.0.0.10     7719\n",
       "10.0.0.16     7473\n",
       "10.0.0.14     7072\n",
       "10.0.0.8      6487\n",
       "10.0.0.12     5874\n",
       "10.0.0.9      5113\n",
       "10.0.0.11     5111\n",
       "10.0.0.7      4606\n",
       "10.0.0.15     4365\n",
       "10.0.0.13     4236\n",
       "10.0.0.5      4151\n",
       "10.0.0.6      3966\n",
       "Name: count, dtype: int64"
      ]
     },
     "execution_count": 288,
     "metadata": {},
     "output_type": "execute_result"
    }
   ],
   "source": [
    "df[\"ip_dst\"].value_counts()"
   ]
  },
  {
   "cell_type": "code",
   "execution_count": null,
   "id": "b5e69246-5945-41cb-91d3-0d05c849aaa6",
   "metadata": {
    "id": "b5e69246-5945-41cb-91d3-0d05c849aaa6"
   },
   "outputs": [],
   "source": [
    "#df['ip_dst'] = [int(i.split('.')[3]) for i in df['ip_dst']]\n",
    "#df['ip_src'] = [int(i.split('.')[3]) for i in df['ip_src']]"
   ]
  },
  {
   "cell_type": "markdown",
   "id": "f01a7e85-cb8e-429a-a16e-5cf4e4c112ba",
   "metadata": {
    "id": "f01a7e85-cb8e-429a-a16e-5cf4e4c112ba"
   },
   "source": [
    "##### Since the IPs we are using are in the form 10.10.10.x, we are taking the last digits of the IPs (might use)"
   ]
  },
  {
   "cell_type": "markdown",
   "id": "1552b3e4-7d0a-4bfb-aee4-794df6e48874",
   "metadata": {},
   "source": [
    "### `Ali AI Prompt One`"
   ]
  },
  {
   "cell_type": "code",
   "execution_count": null,
   "id": "39979e8f-1f17-47e9-9139-e72eafadb256",
   "metadata": {
    "id": "39979e8f-1f17-47e9-9139-e72eafadb256"
   },
   "outputs": [],
   "source": [
    "# Function to convert IP addresses to integers\n",
    "\n",
    "def ip_to_int(ip):\n",
    "    return int(ipaddress.IPv4Address(ip))\n",
    "\n",
    "# Apply the conversion to the DataFrame columns\n",
    "df['ip_src'] = df['ip_src'].apply(ip_to_int)\n",
    "df['ip_dst'] = df['ip_dst'].apply(ip_to_int)\n",
    "\n"
   ]
  },
  {
   "cell_type": "markdown",
   "id": "07b724da-8997-4117-ad34-66ff7ced31e7",
   "metadata": {},
   "source": [
    "##### We convert IP addresses in the (`ip_src`) and (`ip_dst`) columns of the DataFrame into their integer representations for easier processing and analysis"
   ]
  },
  {
   "cell_type": "code",
   "execution_count": null,
   "id": "b0d89209-f1e0-449c-bced-5e3a255cc078",
   "metadata": {
    "colab": {
     "base_uri": "https://localhost:8080/"
    },
    "id": "b0d89209-f1e0-449c-bced-5e3a255cc078",
    "outputId": "48d1342d-f87f-44dd-fb95-8871d9406ac6"
   },
   "outputs": [
    {
     "name": "stdout",
     "output_type": "stream",
     "text": [
      "This DataFrame has 171843 rows and 17 columns after encoding\n"
     ]
    }
   ],
   "source": [
    "# Extract categorical variables\n",
    "cat_vars = ['ip_proto', 'icmp_type']\n",
    "\n",
    "# Perform one-hot encoding\n",
    "encoder = OneHotEncoder()\n",
    "encoded_vars = encoder.fit_transform(df[cat_vars])\n",
    "\n",
    "# Replace categorical variables with one-hot encoded variables\n",
    "df.drop(cat_vars, axis=1, inplace=True)\n",
    "encoded_df = pd.DataFrame(encoded_vars.toarray(), columns=encoder.get_feature_names_out(cat_vars))\n",
    "df = pd.concat([df, encoded_df], axis=1)\n",
    "\n",
    "# Checking the shape of the DataFrame after encoding\n",
    "print(\"This DataFrame has {} rows and {} columns after encoding\".format(df.shape[0], df.shape[1]))\n",
    "\n"
   ]
  },
  {
   "cell_type": "markdown",
   "id": "cc1f125a-4d28-41e9-a767-e3c2f2fc9c81",
   "metadata": {},
   "source": [
    "##### One-hot encoding is applied to the categorical variables (`ip_proto`) and (`icmp_type`), where we replace the original columns with their encoded versions, and update the DataFrame to facilitate machine learning algorithms that require numerical input."
   ]
  },
  {
   "cell_type": "code",
   "execution_count": null,
   "id": "8adb30a4-0d6a-4560-a7f0-7edc38a3a90d",
   "metadata": {
    "colab": {
     "base_uri": "https://localhost:8080/"
    },
    "id": "8adb30a4-0d6a-4560-a7f0-7edc38a3a90d",
    "outputId": "1c84b29d-4040-4980-87bd-86f102bec452"
   },
   "outputs": [
    {
     "name": "stdout",
     "output_type": "stream",
     "text": [
      "<class 'pandas.core.frame.DataFrame'>\n",
      "Index: 171843 entries, 0 to 72383\n",
      "Data columns (total 17 columns):\n",
      " #   Column                   Non-Null Count   Dtype  \n",
      "---  ------                   --------------   -----  \n",
      " 0   datapath.id              169812 non-null  float64\n",
      " 1   ip_src                   169812 non-null  float64\n",
      " 2   tp_src                   169812 non-null  float64\n",
      " 3   ip_dst                   169812 non-null  float64\n",
      " 4   tp_dst                   169812 non-null  float64\n",
      " 5   duration_sec             169812 non-null  float64\n",
      " 6   duration_nsec            169812 non-null  float64\n",
      " 7   packet_count             169812 non-null  float64\n",
      " 8   byte_count               169812 non-null  float64\n",
      " 9   packet_count_per_second  169812 non-null  float64\n",
      " 10  byte_count_per_second    169812 non-null  float64\n",
      " 11  label                    169812 non-null  float64\n",
      " 12  ip_proto_1               169812 non-null  float64\n",
      " 13  ip_proto_6               169812 non-null  float64\n",
      " 14  ip_proto_17              169812 non-null  float64\n",
      " 15  icmp_type_0              169812 non-null  float64\n",
      " 16  icmp_type_8              169812 non-null  float64\n",
      "dtypes: float64(17)\n",
      "memory usage: 23.6 MB\n"
     ]
    }
   ],
   "source": [
    "df.info()"
   ]
  },
  {
   "cell_type": "markdown",
   "id": "394796c3-ce29-434a-979d-8702e6fefef8",
   "metadata": {},
   "source": [
    "##### Checking that all columns in the DataFrame are numerical and can be read by machine learning"
   ]
  },
  {
   "cell_type": "code",
   "execution_count": null,
   "id": "5399ff16-8acb-4921-a4be-a3978151bbb9",
   "metadata": {
    "colab": {
     "base_uri": "https://localhost:8080/"
    },
    "id": "5399ff16-8acb-4921-a4be-a3978151bbb9",
    "outputId": "0aab197b-52e7-45d2-d1ea-ea59564f5192"
   },
   "outputs": [
    {
     "name": "stdout",
     "output_type": "stream",
     "text": [
      "Missing labels in the full dataset: 2031\n"
     ]
    }
   ],
   "source": [
    "# Before splitting: checking for missing values in the target column\n",
    "print(\"Missing labels in the full dataset:\", df['label'].isna().sum())"
   ]
  },
  {
   "cell_type": "code",
   "execution_count": null,
   "id": "06fe7b56-9a88-4985-a557-54801d81ff11",
   "metadata": {
    "colab": {
     "base_uri": "https://localhost:8080/",
     "height": 617
    },
    "id": "06fe7b56-9a88-4985-a557-54801d81ff11",
    "outputId": "d7bdb59e-f8c6-4359-e50a-46a29bf6179c"
   },
   "outputs": [
    {
     "data": {
      "text/html": [
       "<div>\n",
       "<style scoped>\n",
       "    .dataframe tbody tr th:only-of-type {\n",
       "        vertical-align: middle;\n",
       "    }\n",
       "\n",
       "    .dataframe tbody tr th {\n",
       "        vertical-align: top;\n",
       "    }\n",
       "\n",
       "    .dataframe thead th {\n",
       "        text-align: right;\n",
       "    }\n",
       "</style>\n",
       "<table border=\"1\" class=\"dataframe\">\n",
       "  <thead>\n",
       "    <tr style=\"text-align: right;\">\n",
       "      <th></th>\n",
       "      <th>0</th>\n",
       "    </tr>\n",
       "  </thead>\n",
       "  <tbody>\n",
       "    <tr>\n",
       "      <th>datapath.id</th>\n",
       "      <td>2031</td>\n",
       "    </tr>\n",
       "    <tr>\n",
       "      <th>ip_src</th>\n",
       "      <td>2031</td>\n",
       "    </tr>\n",
       "    <tr>\n",
       "      <th>tp_src</th>\n",
       "      <td>2031</td>\n",
       "    </tr>\n",
       "    <tr>\n",
       "      <th>ip_dst</th>\n",
       "      <td>2031</td>\n",
       "    </tr>\n",
       "    <tr>\n",
       "      <th>tp_dst</th>\n",
       "      <td>2031</td>\n",
       "    </tr>\n",
       "    <tr>\n",
       "      <th>duration_sec</th>\n",
       "      <td>2031</td>\n",
       "    </tr>\n",
       "    <tr>\n",
       "      <th>duration_nsec</th>\n",
       "      <td>2031</td>\n",
       "    </tr>\n",
       "    <tr>\n",
       "      <th>packet_count</th>\n",
       "      <td>2031</td>\n",
       "    </tr>\n",
       "    <tr>\n",
       "      <th>byte_count</th>\n",
       "      <td>2031</td>\n",
       "    </tr>\n",
       "    <tr>\n",
       "      <th>packet_count_per_second</th>\n",
       "      <td>2031</td>\n",
       "    </tr>\n",
       "    <tr>\n",
       "      <th>byte_count_per_second</th>\n",
       "      <td>2031</td>\n",
       "    </tr>\n",
       "    <tr>\n",
       "      <th>label</th>\n",
       "      <td>2031</td>\n",
       "    </tr>\n",
       "    <tr>\n",
       "      <th>ip_proto_1</th>\n",
       "      <td>2031</td>\n",
       "    </tr>\n",
       "    <tr>\n",
       "      <th>ip_proto_6</th>\n",
       "      <td>2031</td>\n",
       "    </tr>\n",
       "    <tr>\n",
       "      <th>ip_proto_17</th>\n",
       "      <td>2031</td>\n",
       "    </tr>\n",
       "    <tr>\n",
       "      <th>icmp_type_0</th>\n",
       "      <td>2031</td>\n",
       "    </tr>\n",
       "    <tr>\n",
       "      <th>icmp_type_8</th>\n",
       "      <td>2031</td>\n",
       "    </tr>\n",
       "  </tbody>\n",
       "</table>\n",
       "</div><br><label><b>dtype:</b> int64</label>"
      ],
      "text/plain": [
       "datapath.id                2031\n",
       "ip_src                     2031\n",
       "tp_src                     2031\n",
       "ip_dst                     2031\n",
       "tp_dst                     2031\n",
       "duration_sec               2031\n",
       "duration_nsec              2031\n",
       "packet_count               2031\n",
       "byte_count                 2031\n",
       "packet_count_per_second    2031\n",
       "byte_count_per_second      2031\n",
       "label                      2031\n",
       "ip_proto_1                 2031\n",
       "ip_proto_6                 2031\n",
       "ip_proto_17                2031\n",
       "icmp_type_0                2031\n",
       "icmp_type_8                2031\n",
       "dtype: int64"
      ]
     },
     "execution_count": 89,
     "metadata": {},
     "output_type": "execute_result"
    }
   ],
   "source": [
    "df.isnull().sum()"
   ]
  },
  {
   "cell_type": "code",
   "execution_count": null,
   "id": "d394ff6b-5af7-4614-84b4-a3a2ed7745e1",
   "metadata": {
    "id": "d394ff6b-5af7-4614-84b4-a3a2ed7745e1"
   },
   "outputs": [],
   "source": [
    "df = df.dropna()\n"
   ]
  },
  {
   "cell_type": "code",
   "execution_count": null,
   "id": "03847f61-b1bc-4698-a6e5-15d44760b2d9",
   "metadata": {
    "colab": {
     "base_uri": "https://localhost:8080/",
     "height": 617
    },
    "id": "03847f61-b1bc-4698-a6e5-15d44760b2d9",
    "outputId": "1cb81f59-12ec-485e-cc85-375a07111785"
   },
   "outputs": [
    {
     "data": {
      "text/html": [
       "<div>\n",
       "<style scoped>\n",
       "    .dataframe tbody tr th:only-of-type {\n",
       "        vertical-align: middle;\n",
       "    }\n",
       "\n",
       "    .dataframe tbody tr th {\n",
       "        vertical-align: top;\n",
       "    }\n",
       "\n",
       "    .dataframe thead th {\n",
       "        text-align: right;\n",
       "    }\n",
       "</style>\n",
       "<table border=\"1\" class=\"dataframe\">\n",
       "  <thead>\n",
       "    <tr style=\"text-align: right;\">\n",
       "      <th></th>\n",
       "      <th>0</th>\n",
       "    </tr>\n",
       "  </thead>\n",
       "  <tbody>\n",
       "    <tr>\n",
       "      <th>datapath.id</th>\n",
       "      <td>0</td>\n",
       "    </tr>\n",
       "    <tr>\n",
       "      <th>ip_src</th>\n",
       "      <td>0</td>\n",
       "    </tr>\n",
       "    <tr>\n",
       "      <th>tp_src</th>\n",
       "      <td>0</td>\n",
       "    </tr>\n",
       "    <tr>\n",
       "      <th>ip_dst</th>\n",
       "      <td>0</td>\n",
       "    </tr>\n",
       "    <tr>\n",
       "      <th>tp_dst</th>\n",
       "      <td>0</td>\n",
       "    </tr>\n",
       "    <tr>\n",
       "      <th>duration_sec</th>\n",
       "      <td>0</td>\n",
       "    </tr>\n",
       "    <tr>\n",
       "      <th>duration_nsec</th>\n",
       "      <td>0</td>\n",
       "    </tr>\n",
       "    <tr>\n",
       "      <th>packet_count</th>\n",
       "      <td>0</td>\n",
       "    </tr>\n",
       "    <tr>\n",
       "      <th>byte_count</th>\n",
       "      <td>0</td>\n",
       "    </tr>\n",
       "    <tr>\n",
       "      <th>packet_count_per_second</th>\n",
       "      <td>0</td>\n",
       "    </tr>\n",
       "    <tr>\n",
       "      <th>byte_count_per_second</th>\n",
       "      <td>0</td>\n",
       "    </tr>\n",
       "    <tr>\n",
       "      <th>label</th>\n",
       "      <td>0</td>\n",
       "    </tr>\n",
       "    <tr>\n",
       "      <th>ip_proto_1</th>\n",
       "      <td>0</td>\n",
       "    </tr>\n",
       "    <tr>\n",
       "      <th>ip_proto_6</th>\n",
       "      <td>0</td>\n",
       "    </tr>\n",
       "    <tr>\n",
       "      <th>ip_proto_17</th>\n",
       "      <td>0</td>\n",
       "    </tr>\n",
       "    <tr>\n",
       "      <th>icmp_type_0</th>\n",
       "      <td>0</td>\n",
       "    </tr>\n",
       "    <tr>\n",
       "      <th>icmp_type_8</th>\n",
       "      <td>0</td>\n",
       "    </tr>\n",
       "  </tbody>\n",
       "</table>\n",
       "</div><br><label><b>dtype:</b> int64</label>"
      ],
      "text/plain": [
       "datapath.id                0\n",
       "ip_src                     0\n",
       "tp_src                     0\n",
       "ip_dst                     0\n",
       "tp_dst                     0\n",
       "duration_sec               0\n",
       "duration_nsec              0\n",
       "packet_count               0\n",
       "byte_count                 0\n",
       "packet_count_per_second    0\n",
       "byte_count_per_second      0\n",
       "label                      0\n",
       "ip_proto_1                 0\n",
       "ip_proto_6                 0\n",
       "ip_proto_17                0\n",
       "icmp_type_0                0\n",
       "icmp_type_8                0\n",
       "dtype: int64"
      ]
     },
     "execution_count": 63,
     "metadata": {},
     "output_type": "execute_result"
    }
   ],
   "source": [
    "df.isnull().sum()"
   ]
  },
  {
   "cell_type": "markdown",
   "id": "2f35e84a-b2b1-4803-ac5a-48b71f15bbbd",
   "metadata": {},
   "source": [
    "# 5.) Model Building"
   ]
  },
  {
   "cell_type": "code",
   "execution_count": null,
   "id": "e711daac-dded-4d31-a78a-cb37395b8a81",
   "metadata": {
    "id": "e711daac-dded-4d31-a78a-cb37395b8a81"
   },
   "outputs": [],
   "source": [
    "#separating input and output attributes\n",
    "X = df.drop(['label'], axis=1)\n",
    "y = df['label']"
   ]
  },
  {
   "cell_type": "markdown",
   "id": "9e1324ed-83d4-4ab5-84b1-eb036b19254f",
   "metadata": {
    "id": "9e1324ed-83d4-4ab5-84b1-eb036b19254f"
   },
   "source": [
    "##### The array y now contains the target labels or classes associated with the dataset"
   ]
  },
  {
   "cell_type": "markdown",
   "id": "c7018e32-48b3-4e0c-baa1-304d90956c65",
   "metadata": {},
   "source": [
    "##### Min-Max scaling to the feature set X, transforming the values so that they are scaled"
   ]
  },
  {
   "cell_type": "code",
   "execution_count": null,
   "id": "641da1d2-7049-4e38-8de5-d4169e979017",
   "metadata": {
    "colab": {
     "base_uri": "https://localhost:8080/",
     "height": 140
    },
    "id": "641da1d2-7049-4e38-8de5-d4169e979017",
    "outputId": "468ba0d2-b79c-4ee7-9184-83cd4a5cc99a"
   },
   "outputs": [
    {
     "data": {
      "application/vnd.google.colaboratory.intrinsic+json": {
       "type": "string"
      },
      "text/plain": [
       "\" Migt use\\n# Columns to scale\\ncolumns_to_scale = [\\n    'packet_count',\\n    'byte_count',\\n    'packet_count_per_second',\\n    'byte_count_per_second'\\n]\\n\\n# Columns to exclude from scaling\\ncolumns_to_exclude = [\\n    'datapath_id',\\n    'ip_src',\\n    'tp_src',\\n    'ip_dst',\\n    'tp_dst',\\n    'flow_duration_sec',\\n    'flow_duration_nsec',\\n    'idle_timeout',\\n    'hard_timeout',\\n    'flags',\\n    'packet_count_per_nsecond',\\n    'byte_count_per_nsecond',\\n    'ip_proto_1',\\n    'ip_proto_6',\\n    'ip_proto_17',\\n    'icmp_code_-1',\\n    'icmp_code_0',\\n    'icmp_type_-1',\\n    'icmp_type_0',\\n    'icmp_type_8'\\n]\\n\\n# 1. Split into two parts: one to scale, one to keep unchanged\\nX_to_scale = X[columns_to_scale]\\nX_to_keep = X[columns_to_exclude]\\n\\n# 2. Apply MinMaxScaler to the part of the dataset you want to scale\\nms = MinMaxScaler()\\nX_scaled = ms.fit_transform(X_to_scale)\\n\\n# 3. Convert the scaled data back into a DataFrame\\nX_scaled_df = pd.DataFrame(X_scaled, columns=columns_to_scale)\\n\\n# 4. Concatenate the scaled data with the untouched data\\nX_final = pd.concat([X_to_keep, X_scaled_df], axis=1)\\n\""
      ]
     },
     "execution_count": 65,
     "metadata": {},
     "output_type": "execute_result"
    }
   ],
   "source": [
    "ms = MinMaxScaler()\n",
    "X_final = ms.fit_transform(X)\n",
    "\n",
    "''' Migt use\n",
    "# Columns to scale\n",
    "columns_to_scale = [\n",
    "    'packet_count',\n",
    "    'byte_count',\n",
    "    'packet_count_per_second',\n",
    "    'byte_count_per_second'\n",
    "]\n",
    "\n",
    "# Columns to exclude from scaling\n",
    "columns_to_exclude = [\n",
    "    'datapath_id',\n",
    "    'ip_src',\n",
    "    'tp_src',\n",
    "    'ip_dst',\n",
    "    'tp_dst',\n",
    "    'flow_duration_sec',\n",
    "    'flow_duration_nsec',\n",
    "    'idle_timeout',\n",
    "    'hard_timeout',\n",
    "    'flags',\n",
    "    'packet_count_per_nsecond',\n",
    "    'byte_count_per_nsecond',\n",
    "    'ip_proto_1',\n",
    "    'ip_proto_6',\n",
    "    'ip_proto_17',\n",
    "    'icmp_code_-1',\n",
    "    'icmp_code_0',\n",
    "    'icmp_type_-1',\n",
    "    'icmp_type_0',\n",
    "    'icmp_type_8'\n",
    "]\n",
    "\n",
    "# 1. Split into two parts: one to scale, one to keep unchanged\n",
    "X_to_scale = X[columns_to_scale]\n",
    "X_to_keep = X[columns_to_exclude]\n",
    "\n",
    "# 2. Apply MinMaxScaler to the part of the dataset you want to scale\n",
    "ms = MinMaxScaler()\n",
    "X_scaled = ms.fit_transform(X_to_scale)\n",
    "\n",
    "# 3. Convert the scaled data back into a DataFrame\n",
    "X_scaled_df = pd.DataFrame(X_scaled, columns=columns_to_scale)\n",
    "\n",
    "# 4. Concatenate the scaled data with the untouched data\n",
    "X_final = pd.concat([X_to_keep, X_scaled_df], axis=1)\n",
    "'''"
   ]
  },
  {
   "cell_type": "markdown",
   "id": "014fa2e5-25cc-425d-acda-3da951871be7",
   "metadata": {
    "id": "014fa2e5-25cc-425d-acda-3da951871be7"
   },
   "source": [
    "## a.) Split data into training and testing sets."
   ]
  },
  {
   "cell_type": "code",
   "execution_count": null,
   "id": "a65d6ee4-8d44-47cb-9661-5f5423d5f8fc",
   "metadata": {
    "id": "a65d6ee4-8d44-47cb-9661-5f5423d5f8fc"
   },
   "outputs": [],
   "source": [
    "X_train,X_test,y_train,y_test = train_test_split(X_final,y,test_size=0.2,random_state=2)"
   ]
  },
  {
   "cell_type": "markdown",
   "id": "ce46881f-d6ed-4285-90c4-f0640970e310",
   "metadata": {},
   "source": [
    "## b.) Creating instances of three different Naive Bayes classifiers from scikit-learn and two other Models:"
   ]
  },
  {
   "cell_type": "code",
   "execution_count": null,
   "id": "d35e3da2-32e4-426a-94a3-51b49f8a75a3",
   "metadata": {
    "id": "d35e3da2-32e4-426a-94a3-51b49f8a75a3"
   },
   "outputs": [],
   "source": [
    "gnb = GaussianNB()\n",
    "mnb = MultinomialNB()\n",
    "bnb = BernoulliNB()\n",
    "xgb = XGBClassifier(n_estimators=50,random_state=2)\n",
    "rfc = RandomForestClassifier(n_estimators=50, random_state=2)"
   ]
  },
  {
   "cell_type": "markdown",
   "id": "14327013-6828-4900-9c5e-a8decd99667d",
   "metadata": {},
   "source": [
    "##### The next set of codes provided fits a Gaussian Naive Bayes classifier (gnb), mnb, bnb, xbg and rfc on the training data, makes predictions on the testing data."
   ]
  },
  {
   "cell_type": "markdown",
   "id": "818f9d54-ae42-42b5-867b-749fb9d47cf2",
   "metadata": {},
   "source": [
    "### `Ali AI Prompt Two` using average on the evaluation metrics"
   ]
  },
  {
   "cell_type": "code",
   "execution_count": null,
   "id": "4a58e273-45c5-4d9a-bc23-74b2178fad31",
   "metadata": {
    "id": "4a58e273-45c5-4d9a-bc23-74b2178fad31",
    "outputId": "3e58f6ed-4aaa-4cde-ee81-7825b4c55d1d"
   },
   "outputs": [
    {
     "name": "stdout",
     "output_type": "stream",
     "text": [
      "Confusion Matrix:\n",
      " [[13990  1488   933]\n",
      " [  250  9083     0]\n",
      " [    0     0  7813]]\n",
      "Accuracy: 0.920404088565724\n",
      "Precision: 0.9116680062232856\n",
      "Recall: 0.9418967753945111\n",
      "F1 Score: 0.9230648471946986\n"
     ]
    }
   ],
   "source": [
    "gnb.fit(X_train, y_train)\n",
    "y_pred1 = gnb.predict(X_test)\n",
    "\n",
    "# Print confusion matrix\n",
    "print(\"Confusion Matrix:\\n\", confusion_matrix(y_test, y_pred1))\n",
    "\n",
    "# Print accuracy\n",
    "accuracy = accuracy_score(y_test, y_pred1)\n",
    "print(\"Accuracy:\", accuracy)\n",
    "\n",
    "# Print precision\n",
    "precision = precision_score(y_test, y_pred1, average='macro')\n",
    "print(\"Precision:\", precision)\n",
    "\n",
    "# Print recall\n",
    "recall = recall_score(y_test, y_pred1, average='macro')\n",
    "print(\"Recall:\", recall)\n",
    "\n",
    "# Print F1 score\n",
    "f1 = f1_score(y_test, y_pred1, average='macro')\n",
    "print(\"F1 Score:\", f1)"
   ]
  },
  {
   "cell_type": "markdown",
   "id": "f61e2fe2-49fe-494d-b01d-9eb80a09cd84",
   "metadata": {},
   "source": [
    "#### For Gaussian Naive Bayes classifier; The model achieves high performance with an accuracy of 92.04%, precision of 91.17%, recall of 94.19%, and an F1 score of 92.31%, with the confusion matrix indicating that 13,990 instances of Normal (class 0) were correctly classified, 1,488 misclassified as DDoS (class 1), and 933 as Scanning Attack (class 2); 9,083 instances of DDoS (class 1) were correctly classified, with 250 misclassified as Normal and none as Scanning Attack; and all 7,813 instances of Scanning Attack (class 2) were correctly classified."
   ]
  },
  {
   "cell_type": "code",
   "execution_count": null,
   "id": "44b87ece-d29c-488b-82cc-8245f98a3a3c",
   "metadata": {
    "id": "44b87ece-d29c-488b-82cc-8245f98a3a3c",
    "outputId": "edebfd84-4cd1-42dd-d9dc-14c1b32bcbfd"
   },
   "outputs": [
    {
     "name": "stdout",
     "output_type": "stream",
     "text": [
      "Confusion Matrix:\n",
      " [[13994  1307  1110]\n",
      " [  624  8564   145]\n",
      " [    0     0  7813]]\n",
      "Accuracy: 0.9050570670798939\n",
      "Precision: 0.895502024329438\n",
      "Recall: 0.9234416454138837\n",
      "F1 Score: 0.9065161641228201\n"
     ]
    }
   ],
   "source": [
    "mnb.fit(X_train, y_train)\n",
    "y_pred2 = mnb.predict(X_test)\n",
    "\n",
    "# Print confusion matrix\n",
    "print(\"Confusion Matrix:\\n\", confusion_matrix(y_test, y_pred2))\n",
    "\n",
    "# Print accuracy\n",
    "accuracy = accuracy_score(y_test, y_pred2)\n",
    "print(\"Accuracy:\", accuracy)\n",
    "\n",
    "# Print precision\n",
    "precision = precision_score(y_test, y_pred2, average='macro')\n",
    "print(\"Precision:\", precision)\n",
    "\n",
    "# Print recall\n",
    "recall = recall_score(y_test, y_pred2, average='macro')\n",
    "print(\"Recall:\", recall)\n",
    "\n",
    "# Print F1 score\n",
    "f1 = f1_score(y_test, y_pred2, average='macro')\n",
    "print(\"F1 Score:\", f1)"
   ]
  },
  {
   "cell_type": "markdown",
   "id": "991355a7-3288-4eb9-ac9f-8ebf32653db4",
   "metadata": {},
   "source": [
    "#### For MultinomialNB The model achieves a performance with an accuracy of 90.51%, precision of 89.55%, recall of 92.34%, and an F1 score of 90.65%, with the confusion matrix showing that 13,994 instances of Normal (class 0) were correctly classified, 1,307 misclassified as DDoS (class 1), and 1,110 as Scanning Attack (class 2); 8,564 instances of DDoS (class 1) were correctly classified, with 624 misclassified as Normal and 145 as Scanning Attack; and all 7,813 instances of Scanning Attack (class 2) were correctly classified."
   ]
  },
  {
   "cell_type": "code",
   "execution_count": null,
   "id": "e6380ca0-67ea-45b4-8386-af54e9563e74",
   "metadata": {
    "id": "e6380ca0-67ea-45b4-8386-af54e9563e74",
    "outputId": "47c9940e-1851-4d7c-f2b0-497844b5f08c"
   },
   "outputs": [
    {
     "name": "stdout",
     "output_type": "stream",
     "text": [
      "Confusion Matrix:\n",
      " [[14297  1487   627]\n",
      " [  747  8586     0]\n",
      " [    0     0  7813]]\n",
      "Accuracy: 0.9147420806389129\n",
      "Precision: 0.9094780654768226\n",
      "Recall: 0.9303817963901837\n",
      "F1 Score: 0.9184493794162844\n"
     ]
    }
   ],
   "source": [
    "bnb.fit(X_train, y_train)\n",
    "y_pred3 = bnb.predict(X_test)\n",
    "\n",
    "# Print confusion matrix\n",
    "print(\"Confusion Matrix:\\n\", confusion_matrix(y_test, y_pred3))\n",
    "\n",
    "# Print accuracy\n",
    "accuracy = accuracy_score(y_test, y_pred3)\n",
    "print(\"Accuracy:\", accuracy)\n",
    "\n",
    "# Print precision\n",
    "precision = precision_score(y_test, y_pred3, average='macro')\n",
    "print(\"Precision:\", precision)\n",
    "\n",
    "# Print recall\n",
    "recall = recall_score(y_test, y_pred3, average='macro')\n",
    "print(\"Recall:\", recall)\n",
    "\n",
    "# Print F1 score\n",
    "f1 = f1_score(y_test, y_pred3, average='macro')\n",
    "print(\"F1 Score:\", f1)"
   ]
  },
  {
   "cell_type": "markdown",
   "id": "a6067648-ebfc-48ce-8364-d3dd5c8f3c4d",
   "metadata": {},
   "source": [
    "#### For BernoulliNB; The model achieves a performance with an accuracy of 91.47%, meaning 91.47% of the predictions were correct across all classes; precision of 90.95%, indicating that 90.95% of the instances predicted as a particular class (Normal, DDoS, or Scanning Attack) were correct; recall of 93.04%, showing that 93.04% of the actual instances of a particular class were correctly identified by the model; and an F1 score of 91.84%, which balances precision and recall, reflecting the model's overall performance in both correctly identifying instances and minimizing misclassifications, with the confusion matrix showing that 14,297 instances of Normal (class 0) were correctly classified, 1,487 misclassified as DDoS (class 1), and 627 as Scanning Attack (class 2); 8,586 instances of DDoS (class 1) were correctly classified, with 747 misclassified as Normal and none as Scanning Attack; and all 7,813 instances of Scanning Attack (class 2) were correctly classified."
   ]
  },
  {
   "cell_type": "code",
   "execution_count": null,
   "id": "f05270fc-cce4-44cf-9c58-c557da87c47c",
   "metadata": {
    "colab": {
     "base_uri": "https://localhost:8080/"
    },
    "id": "f05270fc-cce4-44cf-9c58-c557da87c47c",
    "outputId": "dd3fd78f-e64f-433e-83e5-3b0e807fd67c"
   },
   "outputs": [
    {
     "name": "stdout",
     "output_type": "stream",
     "text": [
      "Confusion Matrix:\n",
      " [[16411     0     0]\n",
      " [    0  9333     0]\n",
      " [    0     0  7813]]\n",
      "Accuracy: 1.0\n",
      "Precision: 1.0\n",
      "Recall: 1.0\n",
      "F1 Score: 1.0\n"
     ]
    }
   ],
   "source": [
    "xgb.fit(X_train, y_train)\n",
    "y_pred4 = xgb.predict(X_test)\n",
    "\n",
    "# Print confusion matrix\n",
    "print(\"Confusion Matrix:\\n\", confusion_matrix(y_test, y_pred4))\n",
    "\n",
    "# Print accuracy\n",
    "accuracy = accuracy_score(y_test, y_pred4)\n",
    "print(\"Accuracy:\", accuracy)\n",
    "\n",
    "# Print precision\n",
    "precision = precision_score(y_test, y_pred4, average='macro')\n",
    "print(\"Precision:\", precision)\n",
    "\n",
    "# Print recall\n",
    "recall = recall_score(y_test, y_pred4, average='macro')\n",
    "print(\"Recall:\", recall)\n",
    "\n",
    "# Print F1 score\n",
    "f1 = f1_score(y_test, y_pred4, average='macro')\n",
    "print(\"F1 Score:\", f1)"
   ]
  },
  {
   "cell_type": "code",
   "execution_count": null,
   "id": "ed0d41d1-45a3-4616-b15f-b6e694bf3ba9",
   "metadata": {
    "colab": {
     "base_uri": "https://localhost:8080/"
    },
    "id": "ed0d41d1-45a3-4616-b15f-b6e694bf3ba9",
    "outputId": "e2802b6e-3001-41bc-e28b-e35eed07a416"
   },
   "outputs": [
    {
     "name": "stdout",
     "output_type": "stream",
     "text": [
      "Confusion Matrix:\n",
      " [[16411     0     0]\n",
      " [    0  9333     0]\n",
      " [    0     0  7813]]\n",
      "Accuracy: 1.0\n",
      "Precision: 1.0\n",
      "Recall: 1.0\n",
      "F1 Score: 1.0\n"
     ]
    }
   ],
   "source": [
    "rfc.fit(X_train, y_train)\n",
    "y_pred5 = rfc.predict(X_test)\n",
    "\n",
    "# Print confusion matrix\n",
    "print(\"Confusion Matrix:\\n\", confusion_matrix(y_test, y_pred5))\n",
    "\n",
    "# Print accuracy\n",
    "accuracy = accuracy_score(y_test, y_pred5)\n",
    "print(\"Accuracy:\", accuracy)\n",
    "\n",
    "# Print precision\n",
    "precision = precision_score(y_test, y_pred5, average='macro')\n",
    "print(\"Precision:\", precision)\n",
    "\n",
    "# Print recall\n",
    "recall = recall_score(y_test, y_pred5, average='macro')\n",
    "print(\"Recall:\", recall)\n",
    "\n",
    "# Print F1 score\n",
    "f1 = f1_score(y_test, y_pred5, average='macro')\n",
    "print(\"F1 Score:\", f1)"
   ]
  },
  {
   "cell_type": "markdown",
   "id": "f7f35675-2770-418a-bc22-49bdc88c3eeb",
   "metadata": {},
   "source": [
    "#### For XGBClassifier and RandomForestClassifier; The models achieved perfect performance with an accuracy, precision, recall, and F1 score of 1.0, correctly classifying all 16,411 instances of Normal (class 0), 9,333 instances of DDoS (class 1), and 7,813 instances of Scanning Attack (class 2) with no misclassifications."
   ]
  },
  {
   "cell_type": "markdown",
   "id": "cc980f3a-e97c-4f60-a339-5c692a25043b",
   "metadata": {},
   "source": [
    "### c.) Initialized instances of several machine learning classifiers from scikit-learn and other libraries"
   ]
  },
  {
   "cell_type": "code",
   "execution_count": null,
   "id": "f170f3f8-e31a-45c2-9c26-fd1804cd120a",
   "metadata": {
    "id": "f170f3f8-e31a-45c2-9c26-fd1804cd120a"
   },
   "outputs": [],
   "source": [
    "# Instantiate classifiers\n",
    "#svc_sigmoid = SVC(kernel='sigmoid', gamma=1.0)\n",
    "#svc_linear = SVC(kernel='linear')\n",
    "mnb = MultinomialNB()\n",
    "gnb = GaussianNB()\n",
    "knc = KNeighborsClassifier(n_neighbors=3)\n",
    "bnb = BernoulliNB()\n",
    "dtc = DecisionTreeClassifier(max_depth=5)\n",
    "lrc = LogisticRegression(solver='liblinear', penalty='l1')\n",
    "rfc = RandomForestClassifier(n_estimators=50, random_state=2)\n",
    "abc = AdaBoostClassifier(n_estimators=50, random_state=2)\n",
    "bc = BaggingClassifier(n_estimators=50, random_state=2)\n",
    "etc = ExtraTreesClassifier(n_estimators=50, random_state=2)\n",
    "gbdt = GradientBoostingClassifier(n_estimators=50,random_state=2)\n",
    "xgb = XGBClassifier(n_estimators=50,random_state=2)\n",
    "\n",
    "# Create the dictionary of classifiers\n",
    "clfs = {\n",
    "    #'SVC_Sigmoid': svc_sigmoid,\n",
    "    #'SVC_Linear': svc_linear,\n",
    "    'GB': gnb,\n",
    "    'MB': mnb,\n",
    "    'KN': knc,\n",
    "    'NB': bnb,\n",
    "    'DT': dtc,\n",
    "    'LR': lrc,\n",
    "    'RF': rfc,\n",
    "    'AdaBoost': abc,\n",
    "    'BgC': bc,\n",
    "    'ETC': etc,\n",
    "    'GBDT': gbdt,\n",
    "    'xgb': xgb\n",
    "}"
   ]
  },
  {
   "cell_type": "markdown",
   "id": "6c23673b-2ed6-47c7-9c1b-ddbfd121651d",
   "metadata": {},
   "source": [
    "### Created a dictionary named clfs with the classifiers and their corresponding keys. This can be useful for easily referencing and comparing multiple classifiers in our analysis. With this setup, we can easily iterate over the dictionary to train and evaluate each classifier, compare their performances, and choose the model that best suits our dataset."
   ]
  },
  {
   "cell_type": "markdown",
   "id": "87271ff7-42e7-4e2b-95e2-e6344092111a",
   "metadata": {},
   "source": [
    "### 1.) Training"
   ]
  },
  {
   "cell_type": "code",
   "execution_count": null,
   "id": "1f1fdf5e-da4b-407c-92f6-94271bc533c4",
   "metadata": {
    "colab": {
     "base_uri": "https://localhost:8080/"
    },
    "id": "1f1fdf5e-da4b-407c-92f6-94271bc533c4",
    "outputId": "a589244e-6c3e-4c6d-a10b-90daa7aaa06a"
   },
   "outputs": [
    {
     "name": "stdout",
     "output_type": "stream",
     "text": [
      "For GB\n",
      "Confusion Matrix:\n",
      " [[55836  5956  3820]\n",
      " [ 1098 36071     0]\n",
      " [    0     0 31443]]\n",
      "Training Accuracy: 0.9189861723685779\n",
      "Training Precision: 0.9102224163882257\n",
      "Training Recall: 0.9404873730028847\n",
      "Training F1 Score: 0.9216432018669615\n",
      "Error Rate: 0.0810138276314221\n",
      "\n",
      "For MB\n",
      "Confusion Matrix:\n",
      " [[55908  5210  4494]\n",
      " [ 2446 34100   623]\n",
      " [    0     0 31443]]\n",
      "Training Accuracy: 0.9048381809512457\n",
      "Training Precision: 0.8951951549240128\n",
      "Training Recall: 0.9231771394096814\n",
      "Training F1 Score: 0.9061635454614017\n",
      "Error Rate: 0.09516181904875431\n",
      "\n",
      "For KN\n",
      "Confusion Matrix:\n",
      " [[63696  1566   350]\n",
      " [  428 36655    86]\n",
      " [    1     3 31439]]\n",
      "Training Accuracy: 0.9818661342233878\n",
      "Training Precision: 0.9795280002432508\n",
      "Training Recall: 0.9856140273953202\n",
      "Training F1 Score: 0.9824491202615432\n",
      "Error Rate: 0.018133865776612232\n",
      "\n",
      "For NB\n",
      "Confusion Matrix:\n",
      " [[57057  5964  2591]\n",
      " [ 2941 34228     0]\n",
      " [    0     0 31443]]\n",
      "Training Accuracy: 0.914352127786387\n",
      "Training Precision: 0.9088214026453786\n",
      "Training Recall: 0.9301623962331632\n",
      "Training F1 Score: 0.9179325988681925\n",
      "Error Rate: 0.08564787221361307\n",
      "\n",
      "For DT\n",
      "Confusion Matrix:\n",
      " [[65612     0     0]\n",
      " [    0 37169     0]\n",
      " [    0     0 31443]]\n",
      "Training Accuracy: 1.0\n",
      "Training Precision: 1.0\n",
      "Training Recall: 1.0\n",
      "Training F1 Score: 1.0\n",
      "Error Rate: 0.0\n",
      "\n"
     ]
    },
    {
     "name": "stderr",
     "output_type": "stream",
     "text": [
      "/usr/local/lib/python3.10/dist-packages/sklearn/svm/_base.py:1235: ConvergenceWarning: Liblinear failed to converge, increase the number of iterations.\n",
      "  warnings.warn(\n"
     ]
    },
    {
     "name": "stdout",
     "output_type": "stream",
     "text": [
      "For LR\n",
      "Confusion Matrix:\n",
      " [[62633  1871  1108]\n",
      " [ 1155 35740   274]\n",
      " [    2     0 31441]]\n",
      "Training Accuracy: 0.9671444749076171\n",
      "Training Precision: 0.9633372180635044\n",
      "Training Recall: 0.9720290320360053\n",
      "Training F1 Score: 0.9674575496026471\n",
      "Error Rate: 0.03285552509238288\n",
      "\n",
      "For RF\n",
      "Confusion Matrix:\n",
      " [[65612     0     0]\n",
      " [    0 37169     0]\n",
      " [    0     0 31443]]\n",
      "Training Accuracy: 1.0\n",
      "Training Precision: 1.0\n",
      "Training Recall: 1.0\n",
      "Training F1 Score: 1.0\n",
      "Error Rate: 0.0\n",
      "\n"
     ]
    },
    {
     "name": "stderr",
     "output_type": "stream",
     "text": [
      "/usr/local/lib/python3.10/dist-packages/sklearn/ensemble/_weight_boosting.py:527: FutureWarning: The SAMME.R algorithm (the default) is deprecated and will be removed in 1.6. Use the SAMME algorithm to circumvent this warning.\n",
      "  warnings.warn(\n"
     ]
    },
    {
     "name": "stdout",
     "output_type": "stream",
     "text": [
      "For AdaBoost\n",
      "Confusion Matrix:\n",
      " [[60383  5229     0]\n",
      " [    0 37169     0]\n",
      " [    0     0 31443]]\n",
      "Training Accuracy: 0.9610427345333175\n",
      "Training Precision: 0.9588895702627482\n",
      "Training Recall: 0.9734347375480095\n",
      "Training F1 Score: 0.96426005111769\n",
      "Error Rate: 0.03895726546668256\n",
      "\n",
      "For BgC\n",
      "Confusion Matrix:\n",
      " [[65612     0     0]\n",
      " [    0 37169     0]\n",
      " [    0     0 31443]]\n",
      "Training Accuracy: 1.0\n",
      "Training Precision: 1.0\n",
      "Training Recall: 1.0\n",
      "Training F1 Score: 1.0\n",
      "Error Rate: 0.0\n",
      "\n",
      "For ETC\n",
      "Confusion Matrix:\n",
      " [[65612     0     0]\n",
      " [    0 37169     0]\n",
      " [    0     0 31443]]\n",
      "Training Accuracy: 1.0\n",
      "Training Precision: 1.0\n",
      "Training Recall: 1.0\n",
      "Training F1 Score: 1.0\n",
      "Error Rate: 0.0\n",
      "\n",
      "For GBDT\n",
      "Confusion Matrix:\n",
      " [[65599    13     0]\n",
      " [    2 37167     0]\n",
      " [    0     0 31443]]\n",
      "Training Accuracy: 0.9998882465132912\n",
      "Training Precision: 0.9998732874367392\n",
      "Training Recall: 0.9999160190771038\n",
      "Training F1 Score: 0.9998946436195076\n",
      "Error Rate: 0.00011175348670878532\n",
      "\n",
      "For xgb\n",
      "Confusion Matrix:\n",
      " [[65612     0     0]\n",
      " [    0 37169     0]\n",
      " [    0     0 31443]]\n",
      "Training Accuracy: 1.0\n",
      "Training Precision: 1.0\n",
      "Training Recall: 1.0\n",
      "Training F1 Score: 1.0\n",
      "Error Rate: 0.0\n",
      "\n"
     ]
    }
   ],
   "source": [
    "# Define lists to store metrics\n",
    "accuracy_scores = []\n",
    "precision_scores = []\n",
    "recall_scores = []\n",
    "f1_scores = []\n",
    "error_rates = []\n",
    "\n",
    "# Loop over classifiers\n",
    "for name, clf in clfs.items():\n",
    "    # Fit the classifier to the training data\n",
    "    clf.fit(X_train, y_train)\n",
    "\n",
    "    # Predict labels on the training set\n",
    "    y_train_pred = clf.predict(X_train)\n",
    "\n",
    "    # Calculate metrics\n",
    "    accuracy = accuracy_score(y_train, y_train_pred)\n",
    "\n",
    "    # Precision, recall, and f1 score with average='macro'  for multiclass\n",
    "    precision = precision_score(y_train, y_train_pred, average='macro')\n",
    "    recall = recall_score(y_train, y_train_pred, average='macro')\n",
    "    f1 = f1_score(y_train, y_train_pred, average='macro')\n",
    "\n",
    "    # Confusion matrix\n",
    "    confusion = confusion_matrix(y_train, y_train_pred)\n",
    "\n",
    "\n",
    "    # Calculate error rate\n",
    "    error_rate = np.sum(y_train_pred != y_train) / len(y_train)\n",
    "\n",
    "\n",
    "    # Print metrics\n",
    "    print(\"For\", name)\n",
    "    # Print confusion matrix\n",
    "    print(\"Confusion Matrix:\\n\", confusion)\n",
    "    print(\"Training Accuracy:\", accuracy)\n",
    "    print(\"Training Precision:\", precision)\n",
    "    print(\"Training Recall:\", recall)\n",
    "    print(\"Training F1 Score:\", f1)\n",
    "    print(\"Error Rate:\", error_rate)\n",
    "    print()\n",
    "\n",
    "    # Append metrics to lists\n",
    "    accuracy_scores.append(accuracy)\n",
    "    precision_scores.append(precision)\n",
    "    recall_scores.append(recall)\n",
    "    f1_scores.append(f1)\n",
    "    error_rates.append(error_rate)"
   ]
  },
  {
   "cell_type": "code",
   "execution_count": null,
   "id": "484366fd-8281-4a3d-b034-a249f08a467a",
   "metadata": {
    "colab": {
     "base_uri": "https://localhost:8080/",
     "height": 426
    },
    "id": "484366fd-8281-4a3d-b034-a249f08a467a",
    "outputId": "196475f8-4b25-41b9-91a7-29d379df7a61"
   },
   "outputs": [
    {
     "data": {
      "application/vnd.google.colaboratory.intrinsic+json": {
       "summary": "{\n  \"name\": \"Training_performance_df\",\n  \"rows\": 12,\n  \"fields\": [\n    {\n      \"column\": \"Algorithm\",\n      \"properties\": {\n        \"dtype\": \"string\",\n        \"num_unique_values\": 12,\n        \"samples\": [\n          \"NB\",\n          \"GB\",\n          \"DT\"\n        ],\n        \"semantic_type\": \"\",\n        \"description\": \"\"\n      }\n    },\n    {\n      \"column\": \"Training Accuracy\",\n      \"properties\": {\n        \"dtype\": \"number\",\n        \"std\": 0.03761306117324718,\n        \"min\": 0.9048381809512457,\n        \"max\": 1.0,\n        \"num_unique_values\": 8,\n        \"samples\": [\n          0.9998882465132912,\n          0.9189861723685779,\n          1.0\n        ],\n        \"semantic_type\": \"\",\n        \"description\": \"\"\n      }\n    },\n    {\n      \"column\": \"Training Precision\",\n      \"properties\": {\n        \"dtype\": \"number\",\n        \"std\": 0.04102598096268506,\n        \"min\": 0.8951951549240128,\n        \"max\": 1.0,\n        \"num_unique_values\": 8,\n        \"samples\": [\n          0.9998732874367392,\n          0.9102224163882257,\n          1.0\n        ],\n        \"semantic_type\": \"\",\n        \"description\": \"\"\n      }\n    },\n    {\n      \"column\": \"Training Recall\",\n      \"properties\": {\n        \"dtype\": \"number\",\n        \"std\": 0.02970390893118733,\n        \"min\": 0.9231771394096814,\n        \"max\": 1.0,\n        \"num_unique_values\": 8,\n        \"samples\": [\n          0.9999160190771038,\n          0.9404873730028847,\n          1.0\n        ],\n        \"semantic_type\": \"\",\n        \"description\": \"\"\n      }\n    },\n    {\n      \"column\": \"Training F1 Score\",\n      \"properties\": {\n        \"dtype\": \"number\",\n        \"std\": 0.036531301831196114,\n        \"min\": 0.9061635454614017,\n        \"max\": 1.0,\n        \"num_unique_values\": 8,\n        \"samples\": [\n          0.9998946436195076,\n          0.9216432018669615,\n          1.0\n        ],\n        \"semantic_type\": \"\",\n        \"description\": \"\"\n      }\n    },\n    {\n      \"column\": \"Error Rates\",\n      \"properties\": {\n        \"dtype\": \"number\",\n        \"std\": 0.03761306117324719,\n        \"min\": 0.0,\n        \"max\": 0.09516181904875431,\n        \"num_unique_values\": 8,\n        \"samples\": [\n          0.00011175348670878532,\n          0.0810138276314221,\n          0.0\n        ],\n        \"semantic_type\": \"\",\n        \"description\": \"\"\n      }\n    }\n  ]\n}",
       "type": "dataframe",
       "variable_name": "Training_performance_df"
      },
      "text/html": [
       "\n",
       "  <div id=\"df-663bc689-1c66-478d-9d03-d77bbdc15810\" class=\"colab-df-container\">\n",
       "    <div>\n",
       "<style scoped>\n",
       "    .dataframe tbody tr th:only-of-type {\n",
       "        vertical-align: middle;\n",
       "    }\n",
       "\n",
       "    .dataframe tbody tr th {\n",
       "        vertical-align: top;\n",
       "    }\n",
       "\n",
       "    .dataframe thead th {\n",
       "        text-align: right;\n",
       "    }\n",
       "</style>\n",
       "<table border=\"1\" class=\"dataframe\">\n",
       "  <thead>\n",
       "    <tr style=\"text-align: right;\">\n",
       "      <th></th>\n",
       "      <th>Algorithm</th>\n",
       "      <th>Training Accuracy</th>\n",
       "      <th>Training Precision</th>\n",
       "      <th>Training Recall</th>\n",
       "      <th>Training F1 Score</th>\n",
       "      <th>Error Rates</th>\n",
       "    </tr>\n",
       "  </thead>\n",
       "  <tbody>\n",
       "    <tr>\n",
       "      <th>4</th>\n",
       "      <td>DT</td>\n",
       "      <td>1.000000</td>\n",
       "      <td>1.000000</td>\n",
       "      <td>1.000000</td>\n",
       "      <td>1.000000</td>\n",
       "      <td>0.000000</td>\n",
       "    </tr>\n",
       "    <tr>\n",
       "      <th>6</th>\n",
       "      <td>RF</td>\n",
       "      <td>1.000000</td>\n",
       "      <td>1.000000</td>\n",
       "      <td>1.000000</td>\n",
       "      <td>1.000000</td>\n",
       "      <td>0.000000</td>\n",
       "    </tr>\n",
       "    <tr>\n",
       "      <th>8</th>\n",
       "      <td>BgC</td>\n",
       "      <td>1.000000</td>\n",
       "      <td>1.000000</td>\n",
       "      <td>1.000000</td>\n",
       "      <td>1.000000</td>\n",
       "      <td>0.000000</td>\n",
       "    </tr>\n",
       "    <tr>\n",
       "      <th>9</th>\n",
       "      <td>ETC</td>\n",
       "      <td>1.000000</td>\n",
       "      <td>1.000000</td>\n",
       "      <td>1.000000</td>\n",
       "      <td>1.000000</td>\n",
       "      <td>0.000000</td>\n",
       "    </tr>\n",
       "    <tr>\n",
       "      <th>11</th>\n",
       "      <td>xgb</td>\n",
       "      <td>1.000000</td>\n",
       "      <td>1.000000</td>\n",
       "      <td>1.000000</td>\n",
       "      <td>1.000000</td>\n",
       "      <td>0.000000</td>\n",
       "    </tr>\n",
       "    <tr>\n",
       "      <th>10</th>\n",
       "      <td>GBDT</td>\n",
       "      <td>0.999888</td>\n",
       "      <td>0.999873</td>\n",
       "      <td>0.999916</td>\n",
       "      <td>0.999895</td>\n",
       "      <td>0.000112</td>\n",
       "    </tr>\n",
       "    <tr>\n",
       "      <th>2</th>\n",
       "      <td>KN</td>\n",
       "      <td>0.981866</td>\n",
       "      <td>0.979528</td>\n",
       "      <td>0.985614</td>\n",
       "      <td>0.982449</td>\n",
       "      <td>0.018134</td>\n",
       "    </tr>\n",
       "    <tr>\n",
       "      <th>7</th>\n",
       "      <td>AdaBoost</td>\n",
       "      <td>0.961043</td>\n",
       "      <td>0.958890</td>\n",
       "      <td>0.973435</td>\n",
       "      <td>0.964260</td>\n",
       "      <td>0.038957</td>\n",
       "    </tr>\n",
       "    <tr>\n",
       "      <th>5</th>\n",
       "      <td>LR</td>\n",
       "      <td>0.967144</td>\n",
       "      <td>0.963337</td>\n",
       "      <td>0.972029</td>\n",
       "      <td>0.967458</td>\n",
       "      <td>0.032856</td>\n",
       "    </tr>\n",
       "    <tr>\n",
       "      <th>0</th>\n",
       "      <td>GB</td>\n",
       "      <td>0.918986</td>\n",
       "      <td>0.910222</td>\n",
       "      <td>0.940487</td>\n",
       "      <td>0.921643</td>\n",
       "      <td>0.081014</td>\n",
       "    </tr>\n",
       "    <tr>\n",
       "      <th>3</th>\n",
       "      <td>NB</td>\n",
       "      <td>0.914352</td>\n",
       "      <td>0.908821</td>\n",
       "      <td>0.930162</td>\n",
       "      <td>0.917933</td>\n",
       "      <td>0.085648</td>\n",
       "    </tr>\n",
       "    <tr>\n",
       "      <th>1</th>\n",
       "      <td>MB</td>\n",
       "      <td>0.904838</td>\n",
       "      <td>0.895195</td>\n",
       "      <td>0.923177</td>\n",
       "      <td>0.906164</td>\n",
       "      <td>0.095162</td>\n",
       "    </tr>\n",
       "  </tbody>\n",
       "</table>\n",
       "</div>\n",
       "    <div class=\"colab-df-buttons\">\n",
       "\n",
       "  <div class=\"colab-df-container\">\n",
       "    <button class=\"colab-df-convert\" onclick=\"convertToInteractive('df-663bc689-1c66-478d-9d03-d77bbdc15810')\"\n",
       "            title=\"Convert this dataframe to an interactive table.\"\n",
       "            style=\"display:none;\">\n",
       "\n",
       "  <svg xmlns=\"http://www.w3.org/2000/svg\" height=\"24px\" viewBox=\"0 -960 960 960\">\n",
       "    <path d=\"M120-120v-720h720v720H120Zm60-500h600v-160H180v160Zm220 220h160v-160H400v160Zm0 220h160v-160H400v160ZM180-400h160v-160H180v160Zm440 0h160v-160H620v160ZM180-180h160v-160H180v160Zm440 0h160v-160H620v160Z\"/>\n",
       "  </svg>\n",
       "    </button>\n",
       "\n",
       "  <style>\n",
       "    .colab-df-container {\n",
       "      display:flex;\n",
       "      gap: 12px;\n",
       "    }\n",
       "\n",
       "    .colab-df-convert {\n",
       "      background-color: #E8F0FE;\n",
       "      border: none;\n",
       "      border-radius: 50%;\n",
       "      cursor: pointer;\n",
       "      display: none;\n",
       "      fill: #1967D2;\n",
       "      height: 32px;\n",
       "      padding: 0 0 0 0;\n",
       "      width: 32px;\n",
       "    }\n",
       "\n",
       "    .colab-df-convert:hover {\n",
       "      background-color: #E2EBFA;\n",
       "      box-shadow: 0px 1px 2px rgba(60, 64, 67, 0.3), 0px 1px 3px 1px rgba(60, 64, 67, 0.15);\n",
       "      fill: #174EA6;\n",
       "    }\n",
       "\n",
       "    .colab-df-buttons div {\n",
       "      margin-bottom: 4px;\n",
       "    }\n",
       "\n",
       "    [theme=dark] .colab-df-convert {\n",
       "      background-color: #3B4455;\n",
       "      fill: #D2E3FC;\n",
       "    }\n",
       "\n",
       "    [theme=dark] .colab-df-convert:hover {\n",
       "      background-color: #434B5C;\n",
       "      box-shadow: 0px 1px 3px 1px rgba(0, 0, 0, 0.15);\n",
       "      filter: drop-shadow(0px 1px 2px rgba(0, 0, 0, 0.3));\n",
       "      fill: #FFFFFF;\n",
       "    }\n",
       "  </style>\n",
       "\n",
       "    <script>\n",
       "      const buttonEl =\n",
       "        document.querySelector('#df-663bc689-1c66-478d-9d03-d77bbdc15810 button.colab-df-convert');\n",
       "      buttonEl.style.display =\n",
       "        google.colab.kernel.accessAllowed ? 'block' : 'none';\n",
       "\n",
       "      async function convertToInteractive(key) {\n",
       "        const element = document.querySelector('#df-663bc689-1c66-478d-9d03-d77bbdc15810');\n",
       "        const dataTable =\n",
       "          await google.colab.kernel.invokeFunction('convertToInteractive',\n",
       "                                                    [key], {});\n",
       "        if (!dataTable) return;\n",
       "\n",
       "        const docLinkHtml = 'Like what you see? Visit the ' +\n",
       "          '<a target=\"_blank\" href=https://colab.research.google.com/notebooks/data_table.ipynb>data table notebook</a>'\n",
       "          + ' to learn more about interactive tables.';\n",
       "        element.innerHTML = '';\n",
       "        dataTable['output_type'] = 'display_data';\n",
       "        await google.colab.output.renderOutput(dataTable, element);\n",
       "        const docLink = document.createElement('div');\n",
       "        docLink.innerHTML = docLinkHtml;\n",
       "        element.appendChild(docLink);\n",
       "      }\n",
       "    </script>\n",
       "  </div>\n",
       "\n",
       "\n",
       "<div id=\"df-9944968d-d622-440f-96cd-82f2d268d107\">\n",
       "  <button class=\"colab-df-quickchart\" onclick=\"quickchart('df-9944968d-d622-440f-96cd-82f2d268d107')\"\n",
       "            title=\"Suggest charts\"\n",
       "            style=\"display:none;\">\n",
       "\n",
       "<svg xmlns=\"http://www.w3.org/2000/svg\" height=\"24px\"viewBox=\"0 0 24 24\"\n",
       "     width=\"24px\">\n",
       "    <g>\n",
       "        <path d=\"M19 3H5c-1.1 0-2 .9-2 2v14c0 1.1.9 2 2 2h14c1.1 0 2-.9 2-2V5c0-1.1-.9-2-2-2zM9 17H7v-7h2v7zm4 0h-2V7h2v10zm4 0h-2v-4h2v4z\"/>\n",
       "    </g>\n",
       "</svg>\n",
       "  </button>\n",
       "\n",
       "<style>\n",
       "  .colab-df-quickchart {\n",
       "      --bg-color: #E8F0FE;\n",
       "      --fill-color: #1967D2;\n",
       "      --hover-bg-color: #E2EBFA;\n",
       "      --hover-fill-color: #174EA6;\n",
       "      --disabled-fill-color: #AAA;\n",
       "      --disabled-bg-color: #DDD;\n",
       "  }\n",
       "\n",
       "  [theme=dark] .colab-df-quickchart {\n",
       "      --bg-color: #3B4455;\n",
       "      --fill-color: #D2E3FC;\n",
       "      --hover-bg-color: #434B5C;\n",
       "      --hover-fill-color: #FFFFFF;\n",
       "      --disabled-bg-color: #3B4455;\n",
       "      --disabled-fill-color: #666;\n",
       "  }\n",
       "\n",
       "  .colab-df-quickchart {\n",
       "    background-color: var(--bg-color);\n",
       "    border: none;\n",
       "    border-radius: 50%;\n",
       "    cursor: pointer;\n",
       "    display: none;\n",
       "    fill: var(--fill-color);\n",
       "    height: 32px;\n",
       "    padding: 0;\n",
       "    width: 32px;\n",
       "  }\n",
       "\n",
       "  .colab-df-quickchart:hover {\n",
       "    background-color: var(--hover-bg-color);\n",
       "    box-shadow: 0 1px 2px rgba(60, 64, 67, 0.3), 0 1px 3px 1px rgba(60, 64, 67, 0.15);\n",
       "    fill: var(--button-hover-fill-color);\n",
       "  }\n",
       "\n",
       "  .colab-df-quickchart-complete:disabled,\n",
       "  .colab-df-quickchart-complete:disabled:hover {\n",
       "    background-color: var(--disabled-bg-color);\n",
       "    fill: var(--disabled-fill-color);\n",
       "    box-shadow: none;\n",
       "  }\n",
       "\n",
       "  .colab-df-spinner {\n",
       "    border: 2px solid var(--fill-color);\n",
       "    border-color: transparent;\n",
       "    border-bottom-color: var(--fill-color);\n",
       "    animation:\n",
       "      spin 1s steps(1) infinite;\n",
       "  }\n",
       "\n",
       "  @keyframes spin {\n",
       "    0% {\n",
       "      border-color: transparent;\n",
       "      border-bottom-color: var(--fill-color);\n",
       "      border-left-color: var(--fill-color);\n",
       "    }\n",
       "    20% {\n",
       "      border-color: transparent;\n",
       "      border-left-color: var(--fill-color);\n",
       "      border-top-color: var(--fill-color);\n",
       "    }\n",
       "    30% {\n",
       "      border-color: transparent;\n",
       "      border-left-color: var(--fill-color);\n",
       "      border-top-color: var(--fill-color);\n",
       "      border-right-color: var(--fill-color);\n",
       "    }\n",
       "    40% {\n",
       "      border-color: transparent;\n",
       "      border-right-color: var(--fill-color);\n",
       "      border-top-color: var(--fill-color);\n",
       "    }\n",
       "    60% {\n",
       "      border-color: transparent;\n",
       "      border-right-color: var(--fill-color);\n",
       "    }\n",
       "    80% {\n",
       "      border-color: transparent;\n",
       "      border-right-color: var(--fill-color);\n",
       "      border-bottom-color: var(--fill-color);\n",
       "    }\n",
       "    90% {\n",
       "      border-color: transparent;\n",
       "      border-bottom-color: var(--fill-color);\n",
       "    }\n",
       "  }\n",
       "</style>\n",
       "\n",
       "  <script>\n",
       "    async function quickchart(key) {\n",
       "      const quickchartButtonEl =\n",
       "        document.querySelector('#' + key + ' button');\n",
       "      quickchartButtonEl.disabled = true;  // To prevent multiple clicks.\n",
       "      quickchartButtonEl.classList.add('colab-df-spinner');\n",
       "      try {\n",
       "        const charts = await google.colab.kernel.invokeFunction(\n",
       "            'suggestCharts', [key], {});\n",
       "      } catch (error) {\n",
       "        console.error('Error during call to suggestCharts:', error);\n",
       "      }\n",
       "      quickchartButtonEl.classList.remove('colab-df-spinner');\n",
       "      quickchartButtonEl.classList.add('colab-df-quickchart-complete');\n",
       "    }\n",
       "    (() => {\n",
       "      let quickchartButtonEl =\n",
       "        document.querySelector('#df-9944968d-d622-440f-96cd-82f2d268d107 button');\n",
       "      quickchartButtonEl.style.display =\n",
       "        google.colab.kernel.accessAllowed ? 'block' : 'none';\n",
       "    })();\n",
       "  </script>\n",
       "</div>\n",
       "\n",
       "  <div id=\"id_13d8d7be-c820-4a82-84c5-d45de5a9f57f\">\n",
       "    <style>\n",
       "      .colab-df-generate {\n",
       "        background-color: #E8F0FE;\n",
       "        border: none;\n",
       "        border-radius: 50%;\n",
       "        cursor: pointer;\n",
       "        display: none;\n",
       "        fill: #1967D2;\n",
       "        height: 32px;\n",
       "        padding: 0 0 0 0;\n",
       "        width: 32px;\n",
       "      }\n",
       "\n",
       "      .colab-df-generate:hover {\n",
       "        background-color: #E2EBFA;\n",
       "        box-shadow: 0px 1px 2px rgba(60, 64, 67, 0.3), 0px 1px 3px 1px rgba(60, 64, 67, 0.15);\n",
       "        fill: #174EA6;\n",
       "      }\n",
       "\n",
       "      [theme=dark] .colab-df-generate {\n",
       "        background-color: #3B4455;\n",
       "        fill: #D2E3FC;\n",
       "      }\n",
       "\n",
       "      [theme=dark] .colab-df-generate:hover {\n",
       "        background-color: #434B5C;\n",
       "        box-shadow: 0px 1px 3px 1px rgba(0, 0, 0, 0.15);\n",
       "        filter: drop-shadow(0px 1px 2px rgba(0, 0, 0, 0.3));\n",
       "        fill: #FFFFFF;\n",
       "      }\n",
       "    </style>\n",
       "    <button class=\"colab-df-generate\" onclick=\"generateWithVariable('Training_performance_df')\"\n",
       "            title=\"Generate code using this dataframe.\"\n",
       "            style=\"display:none;\">\n",
       "\n",
       "  <svg xmlns=\"http://www.w3.org/2000/svg\" height=\"24px\"viewBox=\"0 0 24 24\"\n",
       "       width=\"24px\">\n",
       "    <path d=\"M7,19H8.4L18.45,9,17,7.55,7,17.6ZM5,21V16.75L18.45,3.32a2,2,0,0,1,2.83,0l1.4,1.43a1.91,1.91,0,0,1,.58,1.4,1.91,1.91,0,0,1-.58,1.4L9.25,21ZM18.45,9,17,7.55Zm-12,3A5.31,5.31,0,0,0,4.9,8.1,5.31,5.31,0,0,0,1,6.5,5.31,5.31,0,0,0,4.9,4.9,5.31,5.31,0,0,0,6.5,1,5.31,5.31,0,0,0,8.1,4.9,5.31,5.31,0,0,0,12,6.5,5.46,5.46,0,0,0,6.5,12Z\"/>\n",
       "  </svg>\n",
       "    </button>\n",
       "    <script>\n",
       "      (() => {\n",
       "      const buttonEl =\n",
       "        document.querySelector('#id_13d8d7be-c820-4a82-84c5-d45de5a9f57f button.colab-df-generate');\n",
       "      buttonEl.style.display =\n",
       "        google.colab.kernel.accessAllowed ? 'block' : 'none';\n",
       "\n",
       "      buttonEl.onclick = () => {\n",
       "        google.colab.notebook.generateWithVariable('Training_performance_df');\n",
       "      }\n",
       "      })();\n",
       "    </script>\n",
       "  </div>\n",
       "\n",
       "    </div>\n",
       "  </div>\n"
      ],
      "text/plain": [
       "   Algorithm  Training Accuracy  Training Precision  Training Recall  \\\n",
       "4         DT           1.000000            1.000000         1.000000   \n",
       "6         RF           1.000000            1.000000         1.000000   \n",
       "8        BgC           1.000000            1.000000         1.000000   \n",
       "9        ETC           1.000000            1.000000         1.000000   \n",
       "11       xgb           1.000000            1.000000         1.000000   \n",
       "10      GBDT           0.999888            0.999873         0.999916   \n",
       "2         KN           0.981866            0.979528         0.985614   \n",
       "7   AdaBoost           0.961043            0.958890         0.973435   \n",
       "5         LR           0.967144            0.963337         0.972029   \n",
       "0         GB           0.918986            0.910222         0.940487   \n",
       "3         NB           0.914352            0.908821         0.930162   \n",
       "1         MB           0.904838            0.895195         0.923177   \n",
       "\n",
       "    Training F1 Score  Error Rates  \n",
       "4            1.000000     0.000000  \n",
       "6            1.000000     0.000000  \n",
       "8            1.000000     0.000000  \n",
       "9            1.000000     0.000000  \n",
       "11           1.000000     0.000000  \n",
       "10           0.999895     0.000112  \n",
       "2            0.982449     0.018134  \n",
       "7            0.964260     0.038957  \n",
       "5            0.967458     0.032856  \n",
       "0            0.921643     0.081014  \n",
       "3            0.917933     0.085648  \n",
       "1            0.906164     0.095162  "
      ]
     },
     "execution_count": 83,
     "metadata": {},
     "output_type": "execute_result"
    }
   ],
   "source": [
    "Training_performance_df = pd.DataFrame({\n",
    "    'Algorithm': clfs.keys(),\n",
    "    'Training Accuracy': accuracy_scores,\n",
    "    'Training Precision': precision_scores,\n",
    "    'Training Recall': recall_scores,\n",
    "    'Training F1 Score': f1_scores,\n",
    "    'Error Rates': error_rates\n",
    "}).sort_values('Training Recall', ascending=False)\n",
    "Training_performance_df"
   ]
  },
  {
   "cell_type": "markdown",
   "id": "7a8b4cc2-f921-4939-9cc6-13d360b54e84",
   "metadata": {},
   "source": [
    "## `Ali Prompt Five`"
   ]
  },
  {
   "cell_type": "code",
   "execution_count": null,
   "id": "s-JoDVb-B8X9",
   "metadata": {
    "colab": {
     "base_uri": "https://localhost:8080/"
    },
    "id": "s-JoDVb-B8X9",
    "outputId": "0b98cdb1-21b0-43cd-c4cf-6729de331326"
   },
   "outputs": [
    {
     "name": "stdout",
     "output_type": "stream",
     "text": [
      "GB model saved successfully.\n",
      "MB model saved successfully.\n",
      "KN model saved successfully.\n",
      "NB model saved successfully.\n",
      "DT model saved successfully.\n",
      "LR model saved successfully.\n",
      "RF model saved successfully.\n",
      "AdaBoost model saved successfully.\n",
      "BgC model saved successfully.\n",
      "ETC model saved successfully.\n",
      "GBDT model saved successfully.\n",
      "xgb model saved successfully.\n"
     ]
    }
   ],
   "source": [
    "import joblib\n",
    "for clf_name, clf in clfs.items():\n",
    "    joblib.dump(clf, f'{clf_name}_model.pkl')  # Save each model\n",
    "    print(f\"{clf_name} model saved successfully.\")"
   ]
  },
  {
   "cell_type": "code",
   "execution_count": null,
   "id": "LH4VbYXQEqFK",
   "metadata": {
    "colab": {
     "base_uri": "https://localhost:8080/"
    },
    "id": "LH4VbYXQEqFK",
    "outputId": "ace6a0c3-0356-45d0-ea27-e78c554b2675"
   },
   "outputs": [
    {
     "name": "stdout",
     "output_type": "stream",
     "text": [
      " encoder saved successfully.\n",
      "scaler saved successfully.\n"
     ]
    }
   ],
   "source": [
    "\n",
    "joblib.dump(encoder, 'encoder.pkl')\n",
    "\n",
    "print(\" encoder saved successfully.\")\n",
    "\n",
    "joblib.dump(ms, 'scaler.pkl')\n",
    "\n",
    "print(\"scaler saved successfully.\")\n",
    "\n"
   ]
  },
  {
   "cell_type": "markdown",
   "id": "42cf3c3a-a1c1-43ed-9e3e-0ee207be3402",
   "metadata": {},
   "source": [
    "#### Saving trained models, encoding and scaling using the joblib library to load them on the Controller"
   ]
  },
  {
   "cell_type": "markdown",
   "id": "24da956d-d7b6-4bd1-80d4-0d8dce128d78",
   "metadata": {},
   "source": [
    "##### The train_classifier function a reusable piece of code that simplifies the process of training a classifier, making predictions on test data, and calculating accuracy and precision scores"
   ]
  },
  {
   "cell_type": "code",
   "execution_count": null,
   "id": "Q1d2Lhw6Bxqb",
   "metadata": {
    "id": "Q1d2Lhw6Bxqb"
   },
   "outputs": [],
   "source": [
    "from sklearn.metrics import confusion_matrix, accuracy_score, precision_score, recall_score, f1_score\n",
    "\n",
    "def train_classifier(clf, X_train, y_train, X_test, y_test):\n",
    "    clf.fit(X_train, y_train)\n",
    "    y_pred = clf.predict(X_test)\n",
    "\n",
    "    # Print metrics\n",
    "    print(\"Accuracy:\", accuracy_score(y_test, y_pred))\n",
    "\n",
    "    # Use macro averaging for multiclass precision, recall, and f1-score\n",
    "    precision = precision_score(y_test, y_pred, average='macro', zero_division=1)\n",
    "    recall = recall_score(y_test, y_pred, average='macro', zero_division=1)\n",
    "    f1 = f1_score(y_test, y_pred, average='macro', zero_division=1)\n",
    "\n",
    "    print(\"Precision:\", precision)\n",
    "    print(\"Recall:\", recall)\n",
    "    print(\"F1 Score:\", f1)\n",
    "\n",
    "    # Calculate confusion matrix\n",
    "    confusion = confusion_matrix(y_test, y_pred)\n",
    "    print(\"Confusion Matrix:\\n\", confusion)\n",
    "\n",
    "    # Calculate error rate (same for multiclass)\n",
    "    error_rate = np.sum(y_pred != y_test) / len(y_test)\n",
    "    print(\"Error Rate:\", error_rate)\n",
    "\n",
    "    # Return metrics\n",
    "    return (\n",
    "        accuracy_score(y_test, y_pred),\n",
    "        precision,\n",
    "        recall,\n",
    "        f1,\n",
    "        error_rate,\n",
    "        confusion_matrix(y_test, y_pred)\n",
    "    )\n"
   ]
  },
  {
   "cell_type": "code",
   "execution_count": null,
   "id": "5dV32CErEdih",
   "metadata": {
    "colab": {
     "base_uri": "https://localhost:8080/"
    },
    "id": "5dV32CErEdih",
    "outputId": "30837bd6-fb4e-4deb-e37f-83cf44b33591"
   },
   "outputs": [
    {
     "name": "stdout",
     "output_type": "stream",
     "text": [
      "Accuracy: 1.0\n",
      "Precision: 1.0\n",
      "Recall: 1.0\n",
      "F1 Score: 1.0\n",
      "Confusion Matrix:\n",
      " [[16411     0     0]\n",
      " [    0  9333     0]\n",
      " [    0     0  7813]]\n",
      "Error Rate: 0.0\n"
     ]
    },
    {
     "data": {
      "text/plain": [
       "(1.0,\n",
       " 1.0,\n",
       " 1.0,\n",
       " 1.0,\n",
       " 0.0,\n",
       " array([[16411,     0,     0],\n",
       "        [    0,  9333,     0],\n",
       "        [    0,     0,  7813]]))"
      ]
     },
     "execution_count": 86,
     "metadata": {},
     "output_type": "execute_result"
    }
   ],
   "source": [
    "train_classifier(xgb,X_train,y_train,X_test,y_test)"
   ]
  },
  {
   "cell_type": "markdown",
   "id": "aee02847-9469-4d9f-91a9-54abdffb0017",
   "metadata": {},
   "source": [
    "### 2.) Iterating through the dictionary of classifiers (clfs) and using the train_classifier function to evaluate each classifier on the testing data."
   ]
  },
  {
   "cell_type": "code",
   "execution_count": null,
   "id": "b07a7800-68f3-4d7c-a7cb-ceb9b05da522",
   "metadata": {
    "colab": {
     "base_uri": "https://localhost:8080/"
    },
    "id": "b07a7800-68f3-4d7c-a7cb-ceb9b05da522",
    "outputId": "b4a13977-b6ed-4138-ff9c-d8f5210ee9c4"
   },
   "outputs": [
    {
     "name": "stdout",
     "output_type": "stream",
     "text": [
      "Accuracy: 0.920404088565724\n",
      "Precision: 0.9116680062232856\n",
      "Recall: 0.9418967753945111\n",
      "F1 Score: 0.9230648471946986\n",
      "Confusion Matrix:\n",
      " [[13990  1488   933]\n",
      " [  250  9083     0]\n",
      " [    0     0  7813]]\n",
      "Error Rate: 0.07959591143427601\n",
      "For  GB\n",
      "Accuracy: 0.9050570670798939\n",
      "Precision: 0.895502024329438\n",
      "Recall: 0.9234416454138837\n",
      "F1 Score: 0.9065161641228201\n",
      "Confusion Matrix:\n",
      " [[13994  1307  1110]\n",
      " [  624  8564   145]\n",
      " [    0     0  7813]]\n",
      "Error Rate: 0.09494293292010608\n",
      "For  MB\n",
      "Accuracy: 0.9689185564859791\n",
      "Precision: 0.9661029759894473\n",
      "Recall: 0.9745342227806223\n",
      "F1 Score: 0.9700805203296289\n",
      "Confusion Matrix:\n",
      " [[15645   638   128]\n",
      " [  237  9058    38]\n",
      " [    1     1  7811]]\n",
      "Error Rate: 0.03108144351402092\n",
      "For  KN\n",
      "Accuracy: 0.9147420806389129\n",
      "Precision: 0.9094780654768226\n",
      "Recall: 0.9303817963901837\n",
      "F1 Score: 0.9184493794162844\n",
      "Confusion Matrix:\n",
      " [[14297  1487   627]\n",
      " [  747  8586     0]\n",
      " [    0     0  7813]]\n",
      "Error Rate: 0.0852579193610871\n",
      "For  NB\n",
      "Accuracy: 1.0\n",
      "Precision: 1.0\n",
      "Recall: 1.0\n",
      "F1 Score: 1.0\n",
      "Confusion Matrix:\n",
      " [[16411     0     0]\n",
      " [    0  9333     0]\n",
      " [    0     0  7813]]\n",
      "Error Rate: 0.0\n",
      "For  DT\n"
     ]
    },
    {
     "name": "stderr",
     "output_type": "stream",
     "text": [
      "/usr/local/lib/python3.10/dist-packages/sklearn/svm/_base.py:1235: ConvergenceWarning: Liblinear failed to converge, increase the number of iterations.\n",
      "  warnings.warn(\n"
     ]
    },
    {
     "name": "stdout",
     "output_type": "stream",
     "text": [
      "Accuracy: 0.9659385523139732\n",
      "Precision: 0.9622614637721965\n",
      "Recall: 0.9711151992381737\n",
      "F1 Score: 0.966457906993809\n",
      "Confusion Matrix:\n",
      " [[15636   483   292]\n",
      " [  314  8965    54]\n",
      " [    0     0  7813]]\n",
      "Error Rate: 0.03406144768602676\n",
      "For  LR\n",
      "Accuracy: 1.0\n",
      "Precision: 1.0\n",
      "Recall: 1.0\n",
      "F1 Score: 1.0\n",
      "Confusion Matrix:\n",
      " [[16411     0     0]\n",
      " [    0  9333     0]\n",
      " [    0     0  7813]]\n",
      "Error Rate: 0.0\n",
      "For  RF\n"
     ]
    },
    {
     "name": "stderr",
     "output_type": "stream",
     "text": [
      "/usr/local/lib/python3.10/dist-packages/sklearn/ensemble/_weight_boosting.py:527: FutureWarning: The SAMME.R algorithm (the default) is deprecated and will be removed in 1.6. Use the SAMME algorithm to circumvent this warning.\n",
      "  warnings.warn(\n"
     ]
    },
    {
     "name": "stdout",
     "output_type": "stream",
     "text": [
      "Accuracy: 0.9603063444288822\n",
      "Precision: 0.9583684950773558\n",
      "Recall: 0.9729449759307781\n",
      "F1 Score: 0.9636980655829953\n",
      "Confusion Matrix:\n",
      " [[15079  1332     0]\n",
      " [    0  9333     0]\n",
      " [    0     0  7813]]\n",
      "Error Rate: 0.0396936555711178\n",
      "For  AdaBoost\n",
      "Accuracy: 0.99997019995828\n",
      "Precision: 0.9999796896579739\n",
      "Recall: 0.9999642844387299\n",
      "F1 Score: 0.9999719857822077\n",
      "Confusion Matrix:\n",
      " [[16411     0     0]\n",
      " [    1  9332     0]\n",
      " [    0     0  7813]]\n",
      "Error Rate: 2.9800041720058407e-05\n",
      "For  BgC\n",
      "Accuracy: 0.99997019995828\n",
      "Precision: 0.9999796896579739\n",
      "Recall: 0.9999642844387299\n",
      "F1 Score: 0.9999719857822077\n",
      "Confusion Matrix:\n",
      " [[16411     0     0]\n",
      " [    1  9332     0]\n",
      " [    0     0  7813]]\n",
      "Error Rate: 2.9800041720058407e-05\n",
      "For  ETC\n",
      "Accuracy: 0.9999105998748399\n",
      "Precision: 0.99990826371286\n",
      "Recall: 0.999923661279467\n",
      "F1 Score: 0.9999159612303079\n",
      "Confusion Matrix:\n",
      " [[16409     2     0]\n",
      " [    1  9332     0]\n",
      " [    0     0  7813]]\n",
      "Error Rate: 8.940012516017522e-05\n",
      "For  GBDT\n",
      "Accuracy: 1.0\n",
      "Precision: 1.0\n",
      "Recall: 1.0\n",
      "F1 Score: 1.0\n",
      "Confusion Matrix:\n",
      " [[16411     0     0]\n",
      " [    0  9333     0]\n",
      " [    0     0  7813]]\n",
      "Error Rate: 0.0\n",
      "For  xgb\n"
     ]
    }
   ],
   "source": [
    "# Define lists to store metrics\n",
    "accuracy_scores = []\n",
    "precision_scores = []\n",
    "recall_scores = []\n",
    "f1_scores = []\n",
    "bh_values = []\n",
    "error_rates = []\n",
    "\n",
    "\n",
    "for name, clf in clfs.items():\n",
    "    current_accuracy, current_precision, current_recall, current_f1, current_error_rate , current_matrix = train_classifier(clf, X_train, y_train, X_test, y_test)\n",
    "\n",
    "    print(\"For \", name)\n",
    "\n",
    "    accuracy_scores.append(current_accuracy)\n",
    "    precision_scores.append(current_precision)\n",
    "    recall_scores.append(current_recall)\n",
    "    f1_scores.append(current_f1)\n",
    "    error_rates.append(current_error_rate)"
   ]
  },
  {
   "cell_type": "code",
   "execution_count": null,
   "id": "d145cab0-6c95-4760-b659-ef731b7f4c96",
   "metadata": {
    "id": "d145cab0-6c95-4760-b659-ef731b7f4c96"
   },
   "outputs": [],
   "source": [
    "performance_df = pd.DataFrame({\n",
    "    'Algorithm': clfs.keys(),\n",
    "    'Accuracy': accuracy_scores,\n",
    "    'Precision': precision_scores,\n",
    "    'Recall': recall_scores,\n",
    "    'F1 Score': f1_scores,\n",
    "    'Error Rates': error_rates\n",
    "}).sort_values('Recall', ascending=False)"
   ]
  },
  {
   "cell_type": "code",
   "execution_count": null,
   "id": "65965fd1-3738-40a6-a5bd-690774a57721",
   "metadata": {
    "colab": {
     "base_uri": "https://localhost:8080/",
     "height": 426
    },
    "id": "65965fd1-3738-40a6-a5bd-690774a57721",
    "outputId": "edfa94f7-ed99-43d1-accb-0c1531841dc6"
   },
   "outputs": [
    {
     "data": {
      "application/vnd.google.colaboratory.intrinsic+json": {
       "summary": "{\n  \"name\": \"performance_df\",\n  \"rows\": 12,\n  \"fields\": [\n    {\n      \"column\": \"Algorithm\",\n      \"properties\": {\n        \"dtype\": \"string\",\n        \"num_unique_values\": 12,\n        \"samples\": [\n          \"NB\",\n          \"GB\",\n          \"DT\"\n        ],\n        \"semantic_type\": \"\",\n        \"description\": \"\"\n      }\n    },\n    {\n      \"column\": \"Accuracy\",\n      \"properties\": {\n        \"dtype\": \"number\",\n        \"std\": 0.037211401400901754,\n        \"min\": 0.9050570670798939,\n        \"max\": 1.0,\n        \"num_unique_values\": 9,\n        \"samples\": [\n          0.9147420806389129,\n          0.99997019995828,\n          0.9659385523139732\n        ],\n        \"semantic_type\": \"\",\n        \"description\": \"\"\n      }\n    },\n    {\n      \"column\": \"Precision\",\n      \"properties\": {\n        \"dtype\": \"number\",\n        \"std\": 0.04057019831671002,\n        \"min\": 0.895502024329438,\n        \"max\": 1.0,\n        \"num_unique_values\": 9,\n        \"samples\": [\n          0.9094780654768226,\n          0.9999796896579739,\n          0.9622614637721965\n        ],\n        \"semantic_type\": \"\",\n        \"description\": \"\"\n      }\n    },\n    {\n      \"column\": \"Recall\",\n      \"properties\": {\n        \"dtype\": \"number\",\n        \"std\": 0.029372680840602405,\n        \"min\": 0.9234416454138837,\n        \"max\": 1.0,\n        \"num_unique_values\": 9,\n        \"samples\": [\n          0.9303817963901837,\n          0.9999642844387299,\n          0.9711151992381737\n        ],\n        \"semantic_type\": \"\",\n        \"description\": \"\"\n      }\n    },\n    {\n      \"column\": \"F1 Score\",\n      \"properties\": {\n        \"dtype\": \"number\",\n        \"std\": 0.03609197920284578,\n        \"min\": 0.9065161641228201,\n        \"max\": 1.0,\n        \"num_unique_values\": 9,\n        \"samples\": [\n          0.9184493794162844,\n          0.9999719857822077,\n          0.966457906993809\n        ],\n        \"semantic_type\": \"\",\n        \"description\": \"\"\n      }\n    },\n    {\n      \"column\": \"Error Rates\",\n      \"properties\": {\n        \"dtype\": \"number\",\n        \"std\": 0.03721140140090174,\n        \"min\": 0.0,\n        \"max\": 0.09494293292010608,\n        \"num_unique_values\": 9,\n        \"samples\": [\n          0.0852579193610871,\n          2.9800041720058407e-05,\n          0.03406144768602676\n        ],\n        \"semantic_type\": \"\",\n        \"description\": \"\"\n      }\n    }\n  ]\n}",
       "type": "dataframe",
       "variable_name": "performance_df"
      },
      "text/html": [
       "\n",
       "  <div id=\"df-ebfd3b1c-0a8f-4dd5-b112-bb62d6bc88d6\" class=\"colab-df-container\">\n",
       "    <div>\n",
       "<style scoped>\n",
       "    .dataframe tbody tr th:only-of-type {\n",
       "        vertical-align: middle;\n",
       "    }\n",
       "\n",
       "    .dataframe tbody tr th {\n",
       "        vertical-align: top;\n",
       "    }\n",
       "\n",
       "    .dataframe thead th {\n",
       "        text-align: right;\n",
       "    }\n",
       "</style>\n",
       "<table border=\"1\" class=\"dataframe\">\n",
       "  <thead>\n",
       "    <tr style=\"text-align: right;\">\n",
       "      <th></th>\n",
       "      <th>Algorithm</th>\n",
       "      <th>Accuracy</th>\n",
       "      <th>Precision</th>\n",
       "      <th>Recall</th>\n",
       "      <th>F1 Score</th>\n",
       "      <th>Error Rates</th>\n",
       "    </tr>\n",
       "  </thead>\n",
       "  <tbody>\n",
       "    <tr>\n",
       "      <th>4</th>\n",
       "      <td>DT</td>\n",
       "      <td>1.000000</td>\n",
       "      <td>1.000000</td>\n",
       "      <td>1.000000</td>\n",
       "      <td>1.000000</td>\n",
       "      <td>0.000000</td>\n",
       "    </tr>\n",
       "    <tr>\n",
       "      <th>6</th>\n",
       "      <td>RF</td>\n",
       "      <td>1.000000</td>\n",
       "      <td>1.000000</td>\n",
       "      <td>1.000000</td>\n",
       "      <td>1.000000</td>\n",
       "      <td>0.000000</td>\n",
       "    </tr>\n",
       "    <tr>\n",
       "      <th>11</th>\n",
       "      <td>xgb</td>\n",
       "      <td>1.000000</td>\n",
       "      <td>1.000000</td>\n",
       "      <td>1.000000</td>\n",
       "      <td>1.000000</td>\n",
       "      <td>0.000000</td>\n",
       "    </tr>\n",
       "    <tr>\n",
       "      <th>8</th>\n",
       "      <td>BgC</td>\n",
       "      <td>0.999970</td>\n",
       "      <td>0.999980</td>\n",
       "      <td>0.999964</td>\n",
       "      <td>0.999972</td>\n",
       "      <td>0.000030</td>\n",
       "    </tr>\n",
       "    <tr>\n",
       "      <th>9</th>\n",
       "      <td>ETC</td>\n",
       "      <td>0.999970</td>\n",
       "      <td>0.999980</td>\n",
       "      <td>0.999964</td>\n",
       "      <td>0.999972</td>\n",
       "      <td>0.000030</td>\n",
       "    </tr>\n",
       "    <tr>\n",
       "      <th>10</th>\n",
       "      <td>GBDT</td>\n",
       "      <td>0.999911</td>\n",
       "      <td>0.999908</td>\n",
       "      <td>0.999924</td>\n",
       "      <td>0.999916</td>\n",
       "      <td>0.000089</td>\n",
       "    </tr>\n",
       "    <tr>\n",
       "      <th>2</th>\n",
       "      <td>KN</td>\n",
       "      <td>0.968919</td>\n",
       "      <td>0.966103</td>\n",
       "      <td>0.974534</td>\n",
       "      <td>0.970081</td>\n",
       "      <td>0.031081</td>\n",
       "    </tr>\n",
       "    <tr>\n",
       "      <th>7</th>\n",
       "      <td>AdaBoost</td>\n",
       "      <td>0.960306</td>\n",
       "      <td>0.958368</td>\n",
       "      <td>0.972945</td>\n",
       "      <td>0.963698</td>\n",
       "      <td>0.039694</td>\n",
       "    </tr>\n",
       "    <tr>\n",
       "      <th>5</th>\n",
       "      <td>LR</td>\n",
       "      <td>0.965939</td>\n",
       "      <td>0.962261</td>\n",
       "      <td>0.971115</td>\n",
       "      <td>0.966458</td>\n",
       "      <td>0.034061</td>\n",
       "    </tr>\n",
       "    <tr>\n",
       "      <th>0</th>\n",
       "      <td>GB</td>\n",
       "      <td>0.920404</td>\n",
       "      <td>0.911668</td>\n",
       "      <td>0.941897</td>\n",
       "      <td>0.923065</td>\n",
       "      <td>0.079596</td>\n",
       "    </tr>\n",
       "    <tr>\n",
       "      <th>3</th>\n",
       "      <td>NB</td>\n",
       "      <td>0.914742</td>\n",
       "      <td>0.909478</td>\n",
       "      <td>0.930382</td>\n",
       "      <td>0.918449</td>\n",
       "      <td>0.085258</td>\n",
       "    </tr>\n",
       "    <tr>\n",
       "      <th>1</th>\n",
       "      <td>MB</td>\n",
       "      <td>0.905057</td>\n",
       "      <td>0.895502</td>\n",
       "      <td>0.923442</td>\n",
       "      <td>0.906516</td>\n",
       "      <td>0.094943</td>\n",
       "    </tr>\n",
       "  </tbody>\n",
       "</table>\n",
       "</div>\n",
       "    <div class=\"colab-df-buttons\">\n",
       "\n",
       "  <div class=\"colab-df-container\">\n",
       "    <button class=\"colab-df-convert\" onclick=\"convertToInteractive('df-ebfd3b1c-0a8f-4dd5-b112-bb62d6bc88d6')\"\n",
       "            title=\"Convert this dataframe to an interactive table.\"\n",
       "            style=\"display:none;\">\n",
       "\n",
       "  <svg xmlns=\"http://www.w3.org/2000/svg\" height=\"24px\" viewBox=\"0 -960 960 960\">\n",
       "    <path d=\"M120-120v-720h720v720H120Zm60-500h600v-160H180v160Zm220 220h160v-160H400v160Zm0 220h160v-160H400v160ZM180-400h160v-160H180v160Zm440 0h160v-160H620v160ZM180-180h160v-160H180v160Zm440 0h160v-160H620v160Z\"/>\n",
       "  </svg>\n",
       "    </button>\n",
       "\n",
       "  <style>\n",
       "    .colab-df-container {\n",
       "      display:flex;\n",
       "      gap: 12px;\n",
       "    }\n",
       "\n",
       "    .colab-df-convert {\n",
       "      background-color: #E8F0FE;\n",
       "      border: none;\n",
       "      border-radius: 50%;\n",
       "      cursor: pointer;\n",
       "      display: none;\n",
       "      fill: #1967D2;\n",
       "      height: 32px;\n",
       "      padding: 0 0 0 0;\n",
       "      width: 32px;\n",
       "    }\n",
       "\n",
       "    .colab-df-convert:hover {\n",
       "      background-color: #E2EBFA;\n",
       "      box-shadow: 0px 1px 2px rgba(60, 64, 67, 0.3), 0px 1px 3px 1px rgba(60, 64, 67, 0.15);\n",
       "      fill: #174EA6;\n",
       "    }\n",
       "\n",
       "    .colab-df-buttons div {\n",
       "      margin-bottom: 4px;\n",
       "    }\n",
       "\n",
       "    [theme=dark] .colab-df-convert {\n",
       "      background-color: #3B4455;\n",
       "      fill: #D2E3FC;\n",
       "    }\n",
       "\n",
       "    [theme=dark] .colab-df-convert:hover {\n",
       "      background-color: #434B5C;\n",
       "      box-shadow: 0px 1px 3px 1px rgba(0, 0, 0, 0.15);\n",
       "      filter: drop-shadow(0px 1px 2px rgba(0, 0, 0, 0.3));\n",
       "      fill: #FFFFFF;\n",
       "    }\n",
       "  </style>\n",
       "\n",
       "    <script>\n",
       "      const buttonEl =\n",
       "        document.querySelector('#df-ebfd3b1c-0a8f-4dd5-b112-bb62d6bc88d6 button.colab-df-convert');\n",
       "      buttonEl.style.display =\n",
       "        google.colab.kernel.accessAllowed ? 'block' : 'none';\n",
       "\n",
       "      async function convertToInteractive(key) {\n",
       "        const element = document.querySelector('#df-ebfd3b1c-0a8f-4dd5-b112-bb62d6bc88d6');\n",
       "        const dataTable =\n",
       "          await google.colab.kernel.invokeFunction('convertToInteractive',\n",
       "                                                    [key], {});\n",
       "        if (!dataTable) return;\n",
       "\n",
       "        const docLinkHtml = 'Like what you see? Visit the ' +\n",
       "          '<a target=\"_blank\" href=https://colab.research.google.com/notebooks/data_table.ipynb>data table notebook</a>'\n",
       "          + ' to learn more about interactive tables.';\n",
       "        element.innerHTML = '';\n",
       "        dataTable['output_type'] = 'display_data';\n",
       "        await google.colab.output.renderOutput(dataTable, element);\n",
       "        const docLink = document.createElement('div');\n",
       "        docLink.innerHTML = docLinkHtml;\n",
       "        element.appendChild(docLink);\n",
       "      }\n",
       "    </script>\n",
       "  </div>\n",
       "\n",
       "\n",
       "<div id=\"df-2313c465-a6ac-47cb-8437-91965abb579e\">\n",
       "  <button class=\"colab-df-quickchart\" onclick=\"quickchart('df-2313c465-a6ac-47cb-8437-91965abb579e')\"\n",
       "            title=\"Suggest charts\"\n",
       "            style=\"display:none;\">\n",
       "\n",
       "<svg xmlns=\"http://www.w3.org/2000/svg\" height=\"24px\"viewBox=\"0 0 24 24\"\n",
       "     width=\"24px\">\n",
       "    <g>\n",
       "        <path d=\"M19 3H5c-1.1 0-2 .9-2 2v14c0 1.1.9 2 2 2h14c1.1 0 2-.9 2-2V5c0-1.1-.9-2-2-2zM9 17H7v-7h2v7zm4 0h-2V7h2v10zm4 0h-2v-4h2v4z\"/>\n",
       "    </g>\n",
       "</svg>\n",
       "  </button>\n",
       "\n",
       "<style>\n",
       "  .colab-df-quickchart {\n",
       "      --bg-color: #E8F0FE;\n",
       "      --fill-color: #1967D2;\n",
       "      --hover-bg-color: #E2EBFA;\n",
       "      --hover-fill-color: #174EA6;\n",
       "      --disabled-fill-color: #AAA;\n",
       "      --disabled-bg-color: #DDD;\n",
       "  }\n",
       "\n",
       "  [theme=dark] .colab-df-quickchart {\n",
       "      --bg-color: #3B4455;\n",
       "      --fill-color: #D2E3FC;\n",
       "      --hover-bg-color: #434B5C;\n",
       "      --hover-fill-color: #FFFFFF;\n",
       "      --disabled-bg-color: #3B4455;\n",
       "      --disabled-fill-color: #666;\n",
       "  }\n",
       "\n",
       "  .colab-df-quickchart {\n",
       "    background-color: var(--bg-color);\n",
       "    border: none;\n",
       "    border-radius: 50%;\n",
       "    cursor: pointer;\n",
       "    display: none;\n",
       "    fill: var(--fill-color);\n",
       "    height: 32px;\n",
       "    padding: 0;\n",
       "    width: 32px;\n",
       "  }\n",
       "\n",
       "  .colab-df-quickchart:hover {\n",
       "    background-color: var(--hover-bg-color);\n",
       "    box-shadow: 0 1px 2px rgba(60, 64, 67, 0.3), 0 1px 3px 1px rgba(60, 64, 67, 0.15);\n",
       "    fill: var(--button-hover-fill-color);\n",
       "  }\n",
       "\n",
       "  .colab-df-quickchart-complete:disabled,\n",
       "  .colab-df-quickchart-complete:disabled:hover {\n",
       "    background-color: var(--disabled-bg-color);\n",
       "    fill: var(--disabled-fill-color);\n",
       "    box-shadow: none;\n",
       "  }\n",
       "\n",
       "  .colab-df-spinner {\n",
       "    border: 2px solid var(--fill-color);\n",
       "    border-color: transparent;\n",
       "    border-bottom-color: var(--fill-color);\n",
       "    animation:\n",
       "      spin 1s steps(1) infinite;\n",
       "  }\n",
       "\n",
       "  @keyframes spin {\n",
       "    0% {\n",
       "      border-color: transparent;\n",
       "      border-bottom-color: var(--fill-color);\n",
       "      border-left-color: var(--fill-color);\n",
       "    }\n",
       "    20% {\n",
       "      border-color: transparent;\n",
       "      border-left-color: var(--fill-color);\n",
       "      border-top-color: var(--fill-color);\n",
       "    }\n",
       "    30% {\n",
       "      border-color: transparent;\n",
       "      border-left-color: var(--fill-color);\n",
       "      border-top-color: var(--fill-color);\n",
       "      border-right-color: var(--fill-color);\n",
       "    }\n",
       "    40% {\n",
       "      border-color: transparent;\n",
       "      border-right-color: var(--fill-color);\n",
       "      border-top-color: var(--fill-color);\n",
       "    }\n",
       "    60% {\n",
       "      border-color: transparent;\n",
       "      border-right-color: var(--fill-color);\n",
       "    }\n",
       "    80% {\n",
       "      border-color: transparent;\n",
       "      border-right-color: var(--fill-color);\n",
       "      border-bottom-color: var(--fill-color);\n",
       "    }\n",
       "    90% {\n",
       "      border-color: transparent;\n",
       "      border-bottom-color: var(--fill-color);\n",
       "    }\n",
       "  }\n",
       "</style>\n",
       "\n",
       "  <script>\n",
       "    async function quickchart(key) {\n",
       "      const quickchartButtonEl =\n",
       "        document.querySelector('#' + key + ' button');\n",
       "      quickchartButtonEl.disabled = true;  // To prevent multiple clicks.\n",
       "      quickchartButtonEl.classList.add('colab-df-spinner');\n",
       "      try {\n",
       "        const charts = await google.colab.kernel.invokeFunction(\n",
       "            'suggestCharts', [key], {});\n",
       "      } catch (error) {\n",
       "        console.error('Error during call to suggestCharts:', error);\n",
       "      }\n",
       "      quickchartButtonEl.classList.remove('colab-df-spinner');\n",
       "      quickchartButtonEl.classList.add('colab-df-quickchart-complete');\n",
       "    }\n",
       "    (() => {\n",
       "      let quickchartButtonEl =\n",
       "        document.querySelector('#df-2313c465-a6ac-47cb-8437-91965abb579e button');\n",
       "      quickchartButtonEl.style.display =\n",
       "        google.colab.kernel.accessAllowed ? 'block' : 'none';\n",
       "    })();\n",
       "  </script>\n",
       "</div>\n",
       "\n",
       "  <div id=\"id_395e8a02-48b8-4b8b-8f2d-dcd2956cc818\">\n",
       "    <style>\n",
       "      .colab-df-generate {\n",
       "        background-color: #E8F0FE;\n",
       "        border: none;\n",
       "        border-radius: 50%;\n",
       "        cursor: pointer;\n",
       "        display: none;\n",
       "        fill: #1967D2;\n",
       "        height: 32px;\n",
       "        padding: 0 0 0 0;\n",
       "        width: 32px;\n",
       "      }\n",
       "\n",
       "      .colab-df-generate:hover {\n",
       "        background-color: #E2EBFA;\n",
       "        box-shadow: 0px 1px 2px rgba(60, 64, 67, 0.3), 0px 1px 3px 1px rgba(60, 64, 67, 0.15);\n",
       "        fill: #174EA6;\n",
       "      }\n",
       "\n",
       "      [theme=dark] .colab-df-generate {\n",
       "        background-color: #3B4455;\n",
       "        fill: #D2E3FC;\n",
       "      }\n",
       "\n",
       "      [theme=dark] .colab-df-generate:hover {\n",
       "        background-color: #434B5C;\n",
       "        box-shadow: 0px 1px 3px 1px rgba(0, 0, 0, 0.15);\n",
       "        filter: drop-shadow(0px 1px 2px rgba(0, 0, 0, 0.3));\n",
       "        fill: #FFFFFF;\n",
       "      }\n",
       "    </style>\n",
       "    <button class=\"colab-df-generate\" onclick=\"generateWithVariable('performance_df')\"\n",
       "            title=\"Generate code using this dataframe.\"\n",
       "            style=\"display:none;\">\n",
       "\n",
       "  <svg xmlns=\"http://www.w3.org/2000/svg\" height=\"24px\"viewBox=\"0 0 24 24\"\n",
       "       width=\"24px\">\n",
       "    <path d=\"M7,19H8.4L18.45,9,17,7.55,7,17.6ZM5,21V16.75L18.45,3.32a2,2,0,0,1,2.83,0l1.4,1.43a1.91,1.91,0,0,1,.58,1.4,1.91,1.91,0,0,1-.58,1.4L9.25,21ZM18.45,9,17,7.55Zm-12,3A5.31,5.31,0,0,0,4.9,8.1,5.31,5.31,0,0,0,1,6.5,5.31,5.31,0,0,0,4.9,4.9,5.31,5.31,0,0,0,6.5,1,5.31,5.31,0,0,0,8.1,4.9,5.31,5.31,0,0,0,12,6.5,5.46,5.46,0,0,0,6.5,12Z\"/>\n",
       "  </svg>\n",
       "    </button>\n",
       "    <script>\n",
       "      (() => {\n",
       "      const buttonEl =\n",
       "        document.querySelector('#id_395e8a02-48b8-4b8b-8f2d-dcd2956cc818 button.colab-df-generate');\n",
       "      buttonEl.style.display =\n",
       "        google.colab.kernel.accessAllowed ? 'block' : 'none';\n",
       "\n",
       "      buttonEl.onclick = () => {\n",
       "        google.colab.notebook.generateWithVariable('performance_df');\n",
       "      }\n",
       "      })();\n",
       "    </script>\n",
       "  </div>\n",
       "\n",
       "    </div>\n",
       "  </div>\n"
      ],
      "text/plain": [
       "   Algorithm  Accuracy  Precision    Recall  F1 Score  Error Rates\n",
       "4         DT  1.000000   1.000000  1.000000  1.000000     0.000000\n",
       "6         RF  1.000000   1.000000  1.000000  1.000000     0.000000\n",
       "11       xgb  1.000000   1.000000  1.000000  1.000000     0.000000\n",
       "8        BgC  0.999970   0.999980  0.999964  0.999972     0.000030\n",
       "9        ETC  0.999970   0.999980  0.999964  0.999972     0.000030\n",
       "10      GBDT  0.999911   0.999908  0.999924  0.999916     0.000089\n",
       "2         KN  0.968919   0.966103  0.974534  0.970081     0.031081\n",
       "7   AdaBoost  0.960306   0.958368  0.972945  0.963698     0.039694\n",
       "5         LR  0.965939   0.962261  0.971115  0.966458     0.034061\n",
       "0         GB  0.920404   0.911668  0.941897  0.923065     0.079596\n",
       "3         NB  0.914742   0.909478  0.930382  0.918449     0.085258\n",
       "1         MB  0.905057   0.895502  0.923442  0.906516     0.094943"
      ]
     },
     "execution_count": 89,
     "metadata": {},
     "output_type": "execute_result"
    }
   ],
   "source": [
    "performance_df"
   ]
  },
  {
   "cell_type": "code",
   "execution_count": null,
   "id": "sRO4LgI-SqqM",
   "metadata": {
    "id": "sRO4LgI-SqqM"
   },
   "outputs": [],
   "source": [
    "performance_df1 = pd.melt(performance_df, id_vars = \"Algorithm\")"
   ]
  },
  {
   "cell_type": "code",
   "execution_count": null,
   "id": "Vld1DErzSs6t",
   "metadata": {
    "colab": {
     "base_uri": "https://localhost:8080/",
     "height": 564
    },
    "id": "Vld1DErzSs6t",
    "outputId": "69eccba6-9359-4c4c-e180-4e46795422e0"
   },
   "outputs": [
    {
     "data": {
      "image/png": "[encoded data removed]",
      "text/plain": [
       "<Figure size 627.5x500 with 1 Axes>"
      ]
     },
     "metadata": {},
     "output_type": "display_data"
    }
   ],
   "source": [
    "sns.catplot(x = 'Algorithm', y='value',\n",
    "               hue = 'variable',data=performance_df1, kind='bar',height=5)\n",
    "plt.ylim(0.5,1.0)\n",
    "plt.xticks(rotation='vertical')\n",
    "plt.show()"
   ]
  },
  {
   "cell_type": "markdown",
   "id": "944aa69e-05da-47df-b38b-1fa05b1c920d",
   "metadata": {},
   "source": [
    "##### The DataFrame has columns for the algorithm names, accuracy scores, and precision scores, recall, f1 score and it's sorted based on precision in descending order. This is a good approach to visually compare the performance of different classifiers. Used the pd.melt function to reshape the performance_df DataFrame, creating a new DataFrame named performance_df1 by melting the original DataFrame. Melting is a process of transforming or reshaping data, typically converting wide-format data to long-format."
   ]
  },
  {
   "cell_type": "markdown",
   "id": "40502af3-adb6-4a40-81a9-13d25cf4f3ae",
   "metadata": {},
   "source": [
    "#### This plot provides a visual comparison of accuracy and precision scores for each algorithm and more, helping identify which algorithms perform better in terms of these metrics on your specific testing data. The x-axis represents the algorithms, the y-axis represents the scores, and different colors represent the metrics variables."
   ]
  },
  {
   "cell_type": "markdown",
   "id": "1e721d61-3781-4ef9-85d6-3db06d6f8708",
   "metadata": {},
   "source": [
    "### `Ali AI Prompts Three and Four`"
   ]
  },
  {
   "cell_type": "code",
   "execution_count": null,
   "id": "XJdLRU88TGZ3",
   "metadata": {
    "colab": {
     "base_uri": "https://localhost:8080/"
    },
    "id": "XJdLRU88TGZ3",
    "outputId": "fe9443df-20a7-46a7-a7ba-c85966ad5196"
   },
   "outputs": [
    {
     "name": "stdout",
     "output_type": "stream",
     "text": [
      "\n",
      "Validating Decision Tree...\n",
      "--------------------------------------------------\n",
      "Accuracy - Cross-Validation Scores: [1. 1. 1. 1. 1.]\n",
      "Accuracy - Mean CV Score: 1.0000\n",
      "Precision - Cross-Validation Scores: [1. 1. 1. 1. 1.]\n",
      "Precision - Mean CV Score: 1.0000\n",
      "Recall - Cross-Validation Scores: [1. 1. 1. 1. 1.]\n",
      "Recall - Mean CV Score: 1.0000\n",
      "F1 Score - Cross-Validation Scores: [1. 1. 1. 1. 1.]\n",
      "F1 Score - Mean CV Score: 1.0000\n",
      "--------------------------------------------------\n",
      "\n",
      "Validating Random Forest...\n",
      "--------------------------------------------------\n",
      "Accuracy - Cross-Validation Scores: [0.99996275 1.         1.         1.         1.        ]\n",
      "Accuracy - Mean CV Score: 1.0000\n",
      "Precision - Cross-Validation Scores: [0.9999746 1.        1.        1.        1.       ]\n",
      "Precision - Mean CV Score: 1.0000\n",
      "Recall - Cross-Validation Scores: [0.99995516 1.         1.         1.         1.        ]\n",
      "Recall - Mean CV Score: 1.0000\n",
      "F1 Score - Cross-Validation Scores: [0.99996488 1.         1.         1.         1.        ]\n",
      "F1 Score - Mean CV Score: 1.0000\n",
      "--------------------------------------------------\n",
      "\n",
      "Validating XGBoost...\n",
      "--------------------------------------------------\n",
      "Accuracy - Cross-Validation Scores: [1.         1.         1.         0.99996275 1.        ]\n",
      "Accuracy - Mean CV Score: 1.0000\n",
      "Precision - Cross-Validation Scores: [1.        1.        1.        0.9999746 1.       ]\n",
      "Precision - Mean CV Score: 1.0000\n",
      "Recall - Cross-Validation Scores: [1.         1.         1.         0.99995516 1.        ]\n",
      "Recall - Mean CV Score: 1.0000\n",
      "F1 Score - Cross-Validation Scores: [1.         1.         1.         0.99996488 1.        ]\n",
      "F1 Score - Mean CV Score: 1.0000\n",
      "--------------------------------------------------\n",
      "\n",
      "Validating Bagging Classifier...\n",
      "--------------------------------------------------\n",
      "Accuracy - Cross-Validation Scores: [0.999851   0.9999255  0.9999255  0.99981375 0.9999255 ]\n",
      "Accuracy - Mean CV Score: 0.9999\n",
      "Precision - Cross-Validation Scores: [0.99984011 0.99991033 0.99991035 0.99979531 0.99991035]\n",
      "Precision - Mean CV Score: 0.9999\n",
      "Recall - Cross-Validation Scores: [0.99987896 0.9999492  0.99994919 0.99985355 0.99994919]\n",
      "Recall - Mean CV Score: 0.9999\n",
      "F1 Score - Cross-Validation Scores: [0.99985953 0.99992976 0.99992976 0.99982441 0.99992976]\n",
      "F1 Score - Mean CV Score: 0.9999\n",
      "--------------------------------------------------\n"
     ]
    }
   ],
   "source": [
    "from sklearn.model_selection import cross_val_score\n",
    "from sklearn.metrics import make_scorer, accuracy_score, precision_score, recall_score, f1_score\n",
    "import numpy as np\n",
    "\n",
    "# Models that gave 100% accuracy (already initialized)\n",
    "models = {\n",
    "    'Decision Tree': dtc,\n",
    "    'Random Forest': rfc,\n",
    "    'XGBoost': xgb,\n",
    "    'Bagging Classifier': gbdt\n",
    "}\n",
    "\n",
    "# Define scorers for accuracy, precision, recall, and F1 score\n",
    "scorers = {\n",
    "    'Accuracy': make_scorer(accuracy_score),\n",
    "    'Precision': make_scorer(precision_score, average='macro'),\n",
    "    'Recall': make_scorer(recall_score, average='macro'),\n",
    "    'F1 Score': make_scorer(f1_score, average='macro')\n",
    "}\n",
    "\n",
    "# Perform 5-fold cross-validation for each model and each metric\n",
    "for name, model in models.items():\n",
    "    print(f\"\\nValidating {name}...\\n\" + \"-\" * 50)\n",
    "    for metric_name, scorer in scorers.items():\n",
    "        try:\n",
    "            scores = cross_val_score(model, X_train, y_train, cv=5, scoring=scorer)\n",
    "            print(f\"{metric_name} - Cross-Validation Scores: {scores}\")\n",
    "            print(f\"{metric_name} - Mean CV Score: {np.mean(scores):.4f}\")\n",
    "        except Exception as e:\n",
    "            print(f\"Error with {metric_name}: {e}\")\n",
    "    print(\"-\" * 50)\n"
   ]
  },
  {
   "cell_type": "markdown",
   "id": "168488be-ee8b-40fd-a703-6f74f4c20810",
   "metadata": {
    "id": "F2EOPaItGWOw"
   },
   "source": [
    "##### We perform 5-fold cross-validation on multiple models (Decision Tree, Random Forest, XGBoost, and Bagging Classifier) using accuracy, precision, recall, and F1 score as evaluation metrics, calculating the mean of each metric across the folds. The results show near-perfect scores (all close to 1.0), indicating that the models are generalizing well and not overfitting, as there is no significant difference between training and validation performance."
   ]
  },
  {
   "cell_type": "markdown",
   "id": "KNqeFn__GZm4",
   "metadata": {
    "id": "KNqeFn__GZm4"
   },
   "source": [
    "# 6.) Model Improvement"
   ]
  },
  {
   "cell_type": "markdown",
   "id": "898bd37a-cc52-45b2-8a7d-ef6e79b7627d",
   "metadata": {},
   "source": [
    "### a.) Voting Classier"
   ]
  },
  {
   "cell_type": "markdown",
   "id": "19aa429e-5f18-4fa6-8610-44b1add203ed",
   "metadata": {},
   "source": [
    "##### is an ensemble learning method that combines the predictions of multiple base classifiers to improve the overall performance and predictive accuracy. The idea is to leverage the strengths of different classifiers and produce a more robust and accurate prediction by taking a vote or averaging their outputs."
   ]
  },
  {
   "cell_type": "markdown",
   "id": "-AFCeFP1GRqB",
   "metadata": {
    "id": "-AFCeFP1GRqB"
   },
   "source": [
    "### i.) Soft Voting"
   ]
  },
  {
   "cell_type": "markdown",
   "id": "tlEeHYzINUSG",
   "metadata": {
    "id": "tlEeHYzINUSG"
   },
   "source": [
    "#### 1.)Training Soft Voting"
   ]
  },
  {
   "cell_type": "code",
   "execution_count": null,
   "id": "4jxBhAMtb-8x",
   "metadata": {
    "colab": {
     "base_uri": "https://localhost:8080/",
     "height": 212
    },
    "id": "4jxBhAMtb-8x",
    "outputId": "22f46abe-5bdf-486c-c4e6-084007902aa4"
   },
   "outputs": [
    {
     "name": "stderr",
     "output_type": "stream",
     "text": [
      "/usr/local/lib/python3.10/dist-packages/sklearn/ensemble/_weight_boosting.py:527: FutureWarning: The SAMME.R algorithm (the default) is deprecated and will be removed in 1.6. Use the SAMME algorithm to circumvent this warning.\n",
      "  warnings.warn(\n",
      "/usr/local/lib/python3.10/dist-packages/sklearn/svm/_base.py:1235: ConvergenceWarning: Liblinear failed to converge, increase the number of iterations.\n",
      "  warnings.warn(\n"
     ]
    },
    {
     "data": {
      "text/html": [
       "<style>#sk-container-id-1 {\n",
       "  /* Definition of color scheme common for light and dark mode */\n",
       "  --sklearn-color-text: black;\n",
       "  --sklearn-color-line: gray;\n",
       "  /* Definition of color scheme for unfitted estimators */\n",
       "  --sklearn-color-unfitted-level-0: #fff5e6;\n",
       "  --sklearn-color-unfitted-level-1: #f6e4d2;\n",
       "  --sklearn-color-unfitted-level-2: #ffe0b3;\n",
       "  --sklearn-color-unfitted-level-3: chocolate;\n",
       "  /* Definition of color scheme for fitted estimators */\n",
       "  --sklearn-color-fitted-level-0: #f0f8ff;\n",
       "  --sklearn-color-fitted-level-1: #d4ebff;\n",
       "  --sklearn-color-fitted-level-2: #b3dbfd;\n",
       "  --sklearn-color-fitted-level-3: cornflowerblue;\n",
       "\n",
       "  /* Specific color for light theme */\n",
       "  --sklearn-color-text-on-default-background: var(--sg-text-color, var(--theme-code-foreground, var(--jp-content-font-color1, black)));\n",
       "  --sklearn-color-background: var(--sg-background-color, var(--theme-background, var(--jp-layout-color0, white)));\n",
       "  --sklearn-color-border-box: var(--sg-text-color, var(--theme-code-foreground, var(--jp-content-font-color1, black)));\n",
       "  --sklearn-color-icon: #696969;\n",
       "\n",
       "  @media (prefers-color-scheme: dark) {\n",
       "    /* Redefinition of color scheme for dark theme */\n",
       "    --sklearn-color-text-on-default-background: var(--sg-text-color, var(--theme-code-foreground, var(--jp-content-font-color1, white)));\n",
       "    --sklearn-color-background: var(--sg-background-color, var(--theme-background, var(--jp-layout-color0, #111)));\n",
       "    --sklearn-color-border-box: var(--sg-text-color, var(--theme-code-foreground, var(--jp-content-font-color1, white)));\n",
       "    --sklearn-color-icon: #878787;\n",
       "  }\n",
       "}\n",
       "\n",
       "#sk-container-id-1 {\n",
       "  color: var(--sklearn-color-text);\n",
       "}\n",
       "\n",
       "#sk-container-id-1 pre {\n",
       "  padding: 0;\n",
       "}\n",
       "\n",
       "#sk-container-id-1 input.sk-hidden--visually {\n",
       "  border: 0;\n",
       "  clip: rect(1px 1px 1px 1px);\n",
       "  clip: rect(1px, 1px, 1px, 1px);\n",
       "  height: 1px;\n",
       "  margin: -1px;\n",
       "  overflow: hidden;\n",
       "  padding: 0;\n",
       "  position: absolute;\n",
       "  width: 1px;\n",
       "}\n",
       "\n",
       "#sk-container-id-1 div.sk-dashed-wrapped {\n",
       "  border: 1px dashed var(--sklearn-color-line);\n",
       "  margin: 0 0.4em 0.5em 0.4em;\n",
       "  box-sizing: border-box;\n",
       "  padding-bottom: 0.4em;\n",
       "  background-color: var(--sklearn-color-background);\n",
       "}\n",
       "\n",
       "#sk-container-id-1 div.sk-container {\n",
       "  /* jupyter's `normalize.less` sets `[hidden] { display: none; }`\n",
       "     but bootstrap.min.css set `[hidden] { display: none !important; }`\n",
       "     so we also need the `!important` here to be able to override the\n",
       "     default hidden behavior on the sphinx rendered scikit-learn.org.\n",
       "     See: https://github.com/scikit-learn/scikit-learn/issues/21755 */\n",
       "  display: inline-block !important;\n",
       "  position: relative;\n",
       "}\n",
       "\n",
       "#sk-container-id-1 div.sk-text-repr-fallback {\n",
       "  display: none;\n",
       "}\n",
       "\n",
       "div.sk-parallel-item,\n",
       "div.sk-serial,\n",
       "div.sk-item {\n",
       "  /* draw centered vertical line to link estimators */\n",
       "  background-image: linear-gradient(var(--sklearn-color-text-on-default-background), var(--sklearn-color-text-on-default-background));\n",
       "  background-size: 2px 100%;\n",
       "  background-repeat: no-repeat;\n",
       "  background-position: center center;\n",
       "}\n",
       "\n",
       "/* Parallel-specific style estimator block */\n",
       "\n",
       "#sk-container-id-1 div.sk-parallel-item::after {\n",
       "  content: \"\";\n",
       "  width: 100%;\n",
       "  border-bottom: 2px solid var(--sklearn-color-text-on-default-background);\n",
       "  flex-grow: 1;\n",
       "}\n",
       "\n",
       "#sk-container-id-1 div.sk-parallel {\n",
       "  display: flex;\n",
       "  align-items: stretch;\n",
       "  justify-content: center;\n",
       "  background-color: var(--sklearn-color-background);\n",
       "  position: relative;\n",
       "}\n",
       "\n",
       "#sk-container-id-1 div.sk-parallel-item {\n",
       "  display: flex;\n",
       "  flex-direction: column;\n",
       "}\n",
       "\n",
       "#sk-container-id-1 div.sk-parallel-item:first-child::after {\n",
       "  align-self: flex-end;\n",
       "  width: 50%;\n",
       "}\n",
       "\n",
       "#sk-container-id-1 div.sk-parallel-item:last-child::after {\n",
       "  align-self: flex-start;\n",
       "  width: 50%;\n",
       "}\n",
       "\n",
       "#sk-container-id-1 div.sk-parallel-item:only-child::after {\n",
       "  width: 0;\n",
       "}\n",
       "\n",
       "/* Serial-specific style estimator block */\n",
       "\n",
       "#sk-container-id-1 div.sk-serial {\n",
       "  display: flex;\n",
       "  flex-direction: column;\n",
       "  align-items: center;\n",
       "  background-color: var(--sklearn-color-background);\n",
       "  padding-right: 1em;\n",
       "  padding-left: 1em;\n",
       "}\n",
       "\n",
       "\n",
       "/* Toggleable style: style used for estimator/Pipeline/ColumnTransformer box that is\n",
       "clickable and can be expanded/collapsed.\n",
       "- Pipeline and ColumnTransformer use this feature and define the default style\n",
       "- Estimators will overwrite some part of the style using the `sk-estimator` class\n",
       "*/\n",
       "\n",
       "/* Pipeline and ColumnTransformer style (default) */\n",
       "\n",
       "#sk-container-id-1 div.sk-toggleable {\n",
       "  /* Default theme specific background. It is overwritten whether we have a\n",
       "  specific estimator or a Pipeline/ColumnTransformer */\n",
       "  background-color: var(--sklearn-color-background);\n",
       "}\n",
       "\n",
       "/* Toggleable label */\n",
       "#sk-container-id-1 label.sk-toggleable__label {\n",
       "  cursor: pointer;\n",
       "  display: block;\n",
       "  width: 100%;\n",
       "  margin-bottom: 0;\n",
       "  padding: 0.5em;\n",
       "  box-sizing: border-box;\n",
       "  text-align: center;\n",
       "}\n",
       "\n",
       "#sk-container-id-1 label.sk-toggleable__label-arrow:before {\n",
       "  /* Arrow on the left of the label */\n",
       "  content: \"▸\";\n",
       "  float: left;\n",
       "  margin-right: 0.25em;\n",
       "  color: var(--sklearn-color-icon);\n",
       "}\n",
       "\n",
       "#sk-container-id-1 label.sk-toggleable__label-arrow:hover:before {\n",
       "  color: var(--sklearn-color-text);\n",
       "}\n",
       "\n",
       "/* Toggleable content - dropdown */\n",
       "\n",
       "#sk-container-id-1 div.sk-toggleable__content {\n",
       "  max-height: 0;\n",
       "  max-width: 0;\n",
       "  overflow: hidden;\n",
       "  text-align: left;\n",
       "  /* unfitted */\n",
       "  background-color: var(--sklearn-color-unfitted-level-0);\n",
       "}\n",
       "\n",
       "#sk-container-id-1 div.sk-toggleable__content.fitted {\n",
       "  /* fitted */\n",
       "  background-color: var(--sklearn-color-fitted-level-0);\n",
       "}\n",
       "\n",
       "#sk-container-id-1 div.sk-toggleable__content pre {\n",
       "  margin: 0.2em;\n",
       "  border-radius: 0.25em;\n",
       "  color: var(--sklearn-color-text);\n",
       "  /* unfitted */\n",
       "  background-color: var(--sklearn-color-unfitted-level-0);\n",
       "}\n",
       "\n",
       "#sk-container-id-1 div.sk-toggleable__content.fitted pre {\n",
       "  /* unfitted */\n",
       "  background-color: var(--sklearn-color-fitted-level-0);\n",
       "}\n",
       "\n",
       "#sk-container-id-1 input.sk-toggleable__control:checked~div.sk-toggleable__content {\n",
       "  /* Expand drop-down */\n",
       "  max-height: 200px;\n",
       "  max-width: 100%;\n",
       "  overflow: auto;\n",
       "}\n",
       "\n",
       "#sk-container-id-1 input.sk-toggleable__control:checked~label.sk-toggleable__label-arrow:before {\n",
       "  content: \"▾\";\n",
       "}\n",
       "\n",
       "/* Pipeline/ColumnTransformer-specific style */\n",
       "\n",
       "#sk-container-id-1 div.sk-label input.sk-toggleable__control:checked~label.sk-toggleable__label {\n",
       "  color: var(--sklearn-color-text);\n",
       "  background-color: var(--sklearn-color-unfitted-level-2);\n",
       "}\n",
       "\n",
       "#sk-container-id-1 div.sk-label.fitted input.sk-toggleable__control:checked~label.sk-toggleable__label {\n",
       "  background-color: var(--sklearn-color-fitted-level-2);\n",
       "}\n",
       "\n",
       "/* Estimator-specific style */\n",
       "\n",
       "/* Colorize estimator box */\n",
       "#sk-container-id-1 div.sk-estimator input.sk-toggleable__control:checked~label.sk-toggleable__label {\n",
       "  /* unfitted */\n",
       "  background-color: var(--sklearn-color-unfitted-level-2);\n",
       "}\n",
       "\n",
       "#sk-container-id-1 div.sk-estimator.fitted input.sk-toggleable__control:checked~label.sk-toggleable__label {\n",
       "  /* fitted */\n",
       "  background-color: var(--sklearn-color-fitted-level-2);\n",
       "}\n",
       "\n",
       "#sk-container-id-1 div.sk-label label.sk-toggleable__label,\n",
       "#sk-container-id-1 div.sk-label label {\n",
       "  /* The background is the default theme color */\n",
       "  color: var(--sklearn-color-text-on-default-background);\n",
       "}\n",
       "\n",
       "/* On hover, darken the color of the background */\n",
       "#sk-container-id-1 div.sk-label:hover label.sk-toggleable__label {\n",
       "  color: var(--sklearn-color-text);\n",
       "  background-color: var(--sklearn-color-unfitted-level-2);\n",
       "}\n",
       "\n",
       "/* Label box, darken color on hover, fitted */\n",
       "#sk-container-id-1 div.sk-label.fitted:hover label.sk-toggleable__label.fitted {\n",
       "  color: var(--sklearn-color-text);\n",
       "  background-color: var(--sklearn-color-fitted-level-2);\n",
       "}\n",
       "\n",
       "/* Estimator label */\n",
       "\n",
       "#sk-container-id-1 div.sk-label label {\n",
       "  font-family: monospace;\n",
       "  font-weight: bold;\n",
       "  display: inline-block;\n",
       "  line-height: 1.2em;\n",
       "}\n",
       "\n",
       "#sk-container-id-1 div.sk-label-container {\n",
       "  text-align: center;\n",
       "}\n",
       "\n",
       "/* Estimator-specific */\n",
       "#sk-container-id-1 div.sk-estimator {\n",
       "  font-family: monospace;\n",
       "  border: 1px dotted var(--sklearn-color-border-box);\n",
       "  border-radius: 0.25em;\n",
       "  box-sizing: border-box;\n",
       "  margin-bottom: 0.5em;\n",
       "  /* unfitted */\n",
       "  background-color: var(--sklearn-color-unfitted-level-0);\n",
       "}\n",
       "\n",
       "#sk-container-id-1 div.sk-estimator.fitted {\n",
       "  /* fitted */\n",
       "  background-color: var(--sklearn-color-fitted-level-0);\n",
       "}\n",
       "\n",
       "/* on hover */\n",
       "#sk-container-id-1 div.sk-estimator:hover {\n",
       "  /* unfitted */\n",
       "  background-color: var(--sklearn-color-unfitted-level-2);\n",
       "}\n",
       "\n",
       "#sk-container-id-1 div.sk-estimator.fitted:hover {\n",
       "  /* fitted */\n",
       "  background-color: var(--sklearn-color-fitted-level-2);\n",
       "}\n",
       "\n",
       "/* Specification for estimator info (e.g. \"i\" and \"?\") */\n",
       "\n",
       "/* Common style for \"i\" and \"?\" */\n",
       "\n",
       ".sk-estimator-doc-link,\n",
       "a:link.sk-estimator-doc-link,\n",
       "a:visited.sk-estimator-doc-link {\n",
       "  float: right;\n",
       "  font-size: smaller;\n",
       "  line-height: 1em;\n",
       "  font-family: monospace;\n",
       "  background-color: var(--sklearn-color-background);\n",
       "  border-radius: 1em;\n",
       "  height: 1em;\n",
       "  width: 1em;\n",
       "  text-decoration: none !important;\n",
       "  margin-left: 1ex;\n",
       "  /* unfitted */\n",
       "  border: var(--sklearn-color-unfitted-level-1) 1pt solid;\n",
       "  color: var(--sklearn-color-unfitted-level-1);\n",
       "}\n",
       "\n",
       ".sk-estimator-doc-link.fitted,\n",
       "a:link.sk-estimator-doc-link.fitted,\n",
       "a:visited.sk-estimator-doc-link.fitted {\n",
       "  /* fitted */\n",
       "  border: var(--sklearn-color-fitted-level-1) 1pt solid;\n",
       "  color: var(--sklearn-color-fitted-level-1);\n",
       "}\n",
       "\n",
       "/* On hover */\n",
       "div.sk-estimator:hover .sk-estimator-doc-link:hover,\n",
       ".sk-estimator-doc-link:hover,\n",
       "div.sk-label-container:hover .sk-estimator-doc-link:hover,\n",
       ".sk-estimator-doc-link:hover {\n",
       "  /* unfitted */\n",
       "  background-color: var(--sklearn-color-unfitted-level-3);\n",
       "  color: var(--sklearn-color-background);\n",
       "  text-decoration: none;\n",
       "}\n",
       "\n",
       "div.sk-estimator.fitted:hover .sk-estimator-doc-link.fitted:hover,\n",
       ".sk-estimator-doc-link.fitted:hover,\n",
       "div.sk-label-container:hover .sk-estimator-doc-link.fitted:hover,\n",
       ".sk-estimator-doc-link.fitted:hover {\n",
       "  /* fitted */\n",
       "  background-color: var(--sklearn-color-fitted-level-3);\n",
       "  color: var(--sklearn-color-background);\n",
       "  text-decoration: none;\n",
       "}\n",
       "\n",
       "/* Span, style for the box shown on hovering the info icon */\n",
       ".sk-estimator-doc-link span {\n",
       "  display: none;\n",
       "  z-index: 9999;\n",
       "  position: relative;\n",
       "  font-weight: normal;\n",
       "  right: .2ex;\n",
       "  padding: .5ex;\n",
       "  margin: .5ex;\n",
       "  width: min-content;\n",
       "  min-width: 20ex;\n",
       "  max-width: 50ex;\n",
       "  color: var(--sklearn-color-text);\n",
       "  box-shadow: 2pt 2pt 4pt #999;\n",
       "  /* unfitted */\n",
       "  background: var(--sklearn-color-unfitted-level-0);\n",
       "  border: .5pt solid var(--sklearn-color-unfitted-level-3);\n",
       "}\n",
       "\n",
       ".sk-estimator-doc-link.fitted span {\n",
       "  /* fitted */\n",
       "  background: var(--sklearn-color-fitted-level-0);\n",
       "  border: var(--sklearn-color-fitted-level-3);\n",
       "}\n",
       "\n",
       ".sk-estimator-doc-link:hover span {\n",
       "  display: block;\n",
       "}\n",
       "\n",
       "/* \"?\"-specific style due to the `<a>` HTML tag */\n",
       "\n",
       "#sk-container-id-1 a.estimator_doc_link {\n",
       "  float: right;\n",
       "  font-size: 1rem;\n",
       "  line-height: 1em;\n",
       "  font-family: monospace;\n",
       "  background-color: var(--sklearn-color-background);\n",
       "  border-radius: 1rem;\n",
       "  height: 1rem;\n",
       "  width: 1rem;\n",
       "  text-decoration: none;\n",
       "  /* unfitted */\n",
       "  color: var(--sklearn-color-unfitted-level-1);\n",
       "  border: var(--sklearn-color-unfitted-level-1) 1pt solid;\n",
       "}\n",
       "\n",
       "#sk-container-id-1 a.estimator_doc_link.fitted {\n",
       "  /* fitted */\n",
       "  border: var(--sklearn-color-fitted-level-1) 1pt solid;\n",
       "  color: var(--sklearn-color-fitted-level-1);\n",
       "}\n",
       "\n",
       "/* On hover */\n",
       "#sk-container-id-1 a.estimator_doc_link:hover {\n",
       "  /* unfitted */\n",
       "  background-color: var(--sklearn-color-unfitted-level-3);\n",
       "  color: var(--sklearn-color-background);\n",
       "  text-decoration: none;\n",
       "}\n",
       "\n",
       "#sk-container-id-1 a.estimator_doc_link.fitted:hover {\n",
       "  /* fitted */\n",
       "  background-color: var(--sklearn-color-fitted-level-3);\n",
       "}\n",
       "</style><div id=\"sk-container-id-1\" class=\"sk-top-container\"><div class=\"sk-text-repr-fallback\"><pre>VotingClassifier(estimators=[(&#x27;KN&#x27;, KNeighborsClassifier(n_neighbors=3)),\n",
       "                             (&#x27;AdaBoost&#x27;, AdaBoostClassifier(random_state=2)),\n",
       "                             (&#x27;LR&#x27;,\n",
       "                              LogisticRegression(penalty=&#x27;l1&#x27;,\n",
       "                                                 solver=&#x27;liblinear&#x27;))],\n",
       "                 voting=&#x27;soft&#x27;)</pre><b>In a Jupyter environment, please rerun this cell to show the HTML representation or trust the notebook. <br />On GitHub, the HTML representation is unable to render, please try loading this page with nbviewer.org.</b></div><div class=\"sk-container\" hidden><div class=\"sk-item sk-dashed-wrapped\"><div class=\"sk-label-container\"><div class=\"sk-label fitted sk-toggleable\"><input class=\"sk-toggleable__control sk-hidden--visually\" id=\"sk-estimator-id-1\" type=\"checkbox\" ><label for=\"sk-estimator-id-1\" class=\"sk-toggleable__label fitted sk-toggleable__label-arrow fitted\">&nbsp;&nbsp;VotingClassifier<a class=\"sk-estimator-doc-link fitted\" rel=\"noreferrer\" target=\"_blank\" href=\"https://scikit-learn.org/1.5/modules/generated/sklearn.ensemble.VotingClassifier.html\">?<span>Documentation for VotingClassifier</span></a><span class=\"sk-estimator-doc-link fitted\">i<span>Fitted</span></span></label><div class=\"sk-toggleable__content fitted\"><pre>VotingClassifier(estimators=[(&#x27;KN&#x27;, KNeighborsClassifier(n_neighbors=3)),\n",
       "                             (&#x27;AdaBoost&#x27;, AdaBoostClassifier(random_state=2)),\n",
       "                             (&#x27;LR&#x27;,\n",
       "                              LogisticRegression(penalty=&#x27;l1&#x27;,\n",
       "                                                 solver=&#x27;liblinear&#x27;))],\n",
       "                 voting=&#x27;soft&#x27;)</pre></div> </div></div><div class=\"sk-parallel\"><div class=\"sk-parallel-item\"><div class=\"sk-item\"><div class=\"sk-label-container\"><div class=\"sk-label fitted sk-toggleable\"><label>KN</label></div></div><div class=\"sk-serial\"><div class=\"sk-item\"><div class=\"sk-estimator fitted sk-toggleable\"><input class=\"sk-toggleable__control sk-hidden--visually\" id=\"sk-estimator-id-2\" type=\"checkbox\" ><label for=\"sk-estimator-id-2\" class=\"sk-toggleable__label fitted sk-toggleable__label-arrow fitted\">&nbsp;KNeighborsClassifier<a class=\"sk-estimator-doc-link fitted\" rel=\"noreferrer\" target=\"_blank\" href=\"https://scikit-learn.org/1.5/modules/generated/sklearn.neighbors.KNeighborsClassifier.html\">?<span>Documentation for KNeighborsClassifier</span></a></label><div class=\"sk-toggleable__content fitted\"><pre>KNeighborsClassifier(n_neighbors=3)</pre></div> </div></div></div></div></div><div class=\"sk-parallel-item\"><div class=\"sk-item\"><div class=\"sk-label-container\"><div class=\"sk-label fitted sk-toggleable\"><label>AdaBoost</label></div></div><div class=\"sk-serial\"><div class=\"sk-item\"><div class=\"sk-estimator fitted sk-toggleable\"><input class=\"sk-toggleable__control sk-hidden--visually\" id=\"sk-estimator-id-3\" type=\"checkbox\" ><label for=\"sk-estimator-id-3\" class=\"sk-toggleable__label fitted sk-toggleable__label-arrow fitted\">&nbsp;AdaBoostClassifier<a class=\"sk-estimator-doc-link fitted\" rel=\"noreferrer\" target=\"_blank\" href=\"https://scikit-learn.org/1.5/modules/generated/sklearn.ensemble.AdaBoostClassifier.html\">?<span>Documentation for AdaBoostClassifier</span></a></label><div class=\"sk-toggleable__content fitted\"><pre>AdaBoostClassifier(random_state=2)</pre></div> </div></div></div></div></div><div class=\"sk-parallel-item\"><div class=\"sk-item\"><div class=\"sk-label-container\"><div class=\"sk-label fitted sk-toggleable\"><label>LR</label></div></div><div class=\"sk-serial\"><div class=\"sk-item\"><div class=\"sk-estimator fitted sk-toggleable\"><input class=\"sk-toggleable__control sk-hidden--visually\" id=\"sk-estimator-id-4\" type=\"checkbox\" ><label for=\"sk-estimator-id-4\" class=\"sk-toggleable__label fitted sk-toggleable__label-arrow fitted\">&nbsp;LogisticRegression<a class=\"sk-estimator-doc-link fitted\" rel=\"noreferrer\" target=\"_blank\" href=\"https://scikit-learn.org/1.5/modules/generated/sklearn.linear_model.LogisticRegression.html\">?<span>Documentation for LogisticRegression</span></a></label><div class=\"sk-toggleable__content fitted\"><pre>LogisticRegression(penalty=&#x27;l1&#x27;, solver=&#x27;liblinear&#x27;)</pre></div> </div></div></div></div></div></div></div></div></div>"
      ],
      "text/plain": [
       "VotingClassifier(estimators=[('KN', KNeighborsClassifier(n_neighbors=3)),\n",
       "                             ('AdaBoost', AdaBoostClassifier(random_state=2)),\n",
       "                             ('LR',\n",
       "                              LogisticRegression(penalty='l1',\n",
       "                                                 solver='liblinear'))],\n",
       "                 voting='soft')"
      ]
     },
     "execution_count": 90,
     "metadata": {},
     "output_type": "execute_result"
    }
   ],
   "source": [
    "# Voting Classifier\n",
    "knc = KNeighborsClassifier(n_neighbors=3)\n",
    "abc = AdaBoostClassifier(n_estimators=50, random_state=2)\n",
    "lrc = LogisticRegression(solver='liblinear', penalty='l1')\n",
    "voting = VotingClassifier(estimators=[('KN', knc), ('AdaBoost', abc), ('LR', lrc)],voting='soft')\n",
    "voting.fit(X_train,y_train)"
   ]
  },
  {
   "cell_type": "markdown",
   "id": "9141092a-2622-41ee-a95b-dece67afc6c7",
   "metadata": {},
   "source": [
    "#### The VotingClassifier is configured with voting='soft', this will lead to more nuanced decisions, especially when the individual classifiers provide probability estimates."
   ]
  },
  {
   "cell_type": "code",
   "execution_count": null,
   "id": "vGDmVfkiGgzQ",
   "metadata": {
    "colab": {
     "base_uri": "https://localhost:8080/"
    },
    "id": "vGDmVfkiGgzQ",
    "outputId": "df0f5807-a973-49c7-9631-c83fd7eaf55e"
   },
   "outputs": [
    {
     "name": "stdout",
     "output_type": "stream",
     "text": [
      "Confusion Matrix:\n",
      " [[64878   394   340]\n",
      " [  102 36999    68]\n",
      " [    0     0 31443]]\n",
      "Training Accuracy: 0.9932649898676839\n",
      "Training Precision: 0.991694636619669\n",
      "Training Recall: 0.9947464393717134\n",
      "Training F1 Score: 0.9931960331109058\n",
      "Error Rate: 0.006735010132316128\n"
     ]
    }
   ],
   "source": [
    "y_train_pred = voting.predict(X_train)\n",
    "confusion = confusion_matrix(y_train, y_train_pred)\n",
    "print(\"Confusion Matrix:\\n\", confusion)\n",
    "\n",
    "# Calculate metrics\n",
    "accuracy = accuracy_score(y_train, y_train_pred)\n",
    "precision = precision_score(y_train, y_train_pred, average='macro')\n",
    "recall = recall_score(y_train, y_train_pred, average='macro')\n",
    "f1 = f1_score(y_train, y_train_pred, average='macro')\n",
    "error_rate = np.sum(y_train_pred != y_train) / len(y_train)\n",
    "\n",
    "    # Print metrics\n",
    "print(\"Training Accuracy:\", accuracy)\n",
    "print(\"Training Precision:\", precision)\n",
    "print(\"Training Recall:\", recall)\n",
    "print(\"Training F1 Score:\", f1)\n",
    "print(\"Error Rate:\", error_rate)"
   ]
  },
  {
   "cell_type": "markdown",
   "id": "hK6fLoS8Nkof",
   "metadata": {
    "id": "hK6fLoS8Nkof"
   },
   "source": [
    "### 2.) Soft Voting Testing"
   ]
  },
  {
   "cell_type": "code",
   "execution_count": null,
   "id": "1ZvUAqD2HyoU",
   "metadata": {
    "colab": {
     "base_uri": "https://localhost:8080/"
    },
    "id": "1ZvUAqD2HyoU",
    "outputId": "fa4b0f64-096b-4bc7-aa5b-f4af12719f47"
   },
   "outputs": [
    {
     "name": "stdout",
     "output_type": "stream",
     "text": [
      "Confusion Matrix:\n",
      " [[16031   253   127]\n",
      " [   62  9244    27]\n",
      " [    0     0  7813]]\n",
      "Accuracy 0.9860237804332926\n",
      "Precision 0.9833925555142559\n",
      "Recall 0.9891029147869776\n",
      "F1 Score 0.9861599927183944\n",
      "Error Rate: 0.013976219566707393\n"
     ]
    }
   ],
   "source": [
    "y_pred = voting.predict(X_test)\n",
    "\n",
    "confusion = confusion_matrix(y_test, y_pred)\n",
    "print(\"Confusion Matrix:\\n\", confusion)\n",
    "\n",
    "print(\"Accuracy\",accuracy_score(y_test,y_pred))\n",
    "print(\"Precision\",precision_score(y_test,y_pred, average='macro'))\n",
    "print(\"Recall\",recall_score(y_test, y_pred, average='macro'))\n",
    "print(\"F1 Score\",f1_score(y_test, y_pred, average='macro'))\n",
    "error_rate = np.sum(y_pred != y_test) / len(y_test)\n",
    "print(\"Error Rate:\", error_rate)"
   ]
  },
  {
   "cell_type": "markdown",
   "id": "bc1c89a2-f1e4-462b-ae97-e212801cb548",
   "metadata": {},
   "source": [
    "##### The Soft Voting Classifier, which combines K-Nearest Neighbors (KNN), AdaBoost, and Logistic Regression, achieves an accuracy of 98.60%, with high precision (98.34%), recall (98.91%), and F1 score (98.62%), indicating strong performance. The error rate of 1.40% further confirms that the model is performing well on the test data, with minimal misclassifications."
   ]
  },
  {
   "cell_type": "markdown",
   "id": "_FidsEgyOe2e",
   "metadata": {
    "id": "_FidsEgyOe2e"
   },
   "source": [
    "### ii.) Hard voting\n",
    "it indicate that the hard voting classifier, which makes decisions based on the majority vote without considering probability estimates, performs well on the testing data."
   ]
  },
  {
   "cell_type": "code",
   "execution_count": null,
   "id": "lrtKukWkOWCa",
   "metadata": {
    "colab": {
     "base_uri": "https://localhost:8080/",
     "height": 212
    },
    "id": "lrtKukWkOWCa",
    "outputId": "83bad83e-23ea-4ed8-abe4-5ce75cf7432b"
   },
   "outputs": [
    {
     "name": "stderr",
     "output_type": "stream",
     "text": [
      "/usr/local/lib/python3.10/dist-packages/sklearn/ensemble/_weight_boosting.py:527: FutureWarning: The SAMME.R algorithm (the default) is deprecated and will be removed in 1.6. Use the SAMME algorithm to circumvent this warning.\n",
      "  warnings.warn(\n",
      "/usr/local/lib/python3.10/dist-packages/sklearn/svm/_base.py:1235: ConvergenceWarning: Liblinear failed to converge, increase the number of iterations.\n",
      "  warnings.warn(\n"
     ]
    },
    {
     "data": {
      "text/html": [
       "<style>#sk-container-id-2 {\n",
       "  /* Definition of color scheme common for light and dark mode */\n",
       "  --sklearn-color-text: black;\n",
       "  --sklearn-color-line: gray;\n",
       "  /* Definition of color scheme for unfitted estimators */\n",
       "  --sklearn-color-unfitted-level-0: #fff5e6;\n",
       "  --sklearn-color-unfitted-level-1: #f6e4d2;\n",
       "  --sklearn-color-unfitted-level-2: #ffe0b3;\n",
       "  --sklearn-color-unfitted-level-3: chocolate;\n",
       "  /* Definition of color scheme for fitted estimators */\n",
       "  --sklearn-color-fitted-level-0: #f0f8ff;\n",
       "  --sklearn-color-fitted-level-1: #d4ebff;\n",
       "  --sklearn-color-fitted-level-2: #b3dbfd;\n",
       "  --sklearn-color-fitted-level-3: cornflowerblue;\n",
       "\n",
       "  /* Specific color for light theme */\n",
       "  --sklearn-color-text-on-default-background: var(--sg-text-color, var(--theme-code-foreground, var(--jp-content-font-color1, black)));\n",
       "  --sklearn-color-background: var(--sg-background-color, var(--theme-background, var(--jp-layout-color0, white)));\n",
       "  --sklearn-color-border-box: var(--sg-text-color, var(--theme-code-foreground, var(--jp-content-font-color1, black)));\n",
       "  --sklearn-color-icon: #696969;\n",
       "\n",
       "  @media (prefers-color-scheme: dark) {\n",
       "    /* Redefinition of color scheme for dark theme */\n",
       "    --sklearn-color-text-on-default-background: var(--sg-text-color, var(--theme-code-foreground, var(--jp-content-font-color1, white)));\n",
       "    --sklearn-color-background: var(--sg-background-color, var(--theme-background, var(--jp-layout-color0, #111)));\n",
       "    --sklearn-color-border-box: var(--sg-text-color, var(--theme-code-foreground, var(--jp-content-font-color1, white)));\n",
       "    --sklearn-color-icon: #878787;\n",
       "  }\n",
       "}\n",
       "\n",
       "#sk-container-id-2 {\n",
       "  color: var(--sklearn-color-text);\n",
       "}\n",
       "\n",
       "#sk-container-id-2 pre {\n",
       "  padding: 0;\n",
       "}\n",
       "\n",
       "#sk-container-id-2 input.sk-hidden--visually {\n",
       "  border: 0;\n",
       "  clip: rect(1px 1px 1px 1px);\n",
       "  clip: rect(1px, 1px, 1px, 1px);\n",
       "  height: 1px;\n",
       "  margin: -1px;\n",
       "  overflow: hidden;\n",
       "  padding: 0;\n",
       "  position: absolute;\n",
       "  width: 1px;\n",
       "}\n",
       "\n",
       "#sk-container-id-2 div.sk-dashed-wrapped {\n",
       "  border: 1px dashed var(--sklearn-color-line);\n",
       "  margin: 0 0.4em 0.5em 0.4em;\n",
       "  box-sizing: border-box;\n",
       "  padding-bottom: 0.4em;\n",
       "  background-color: var(--sklearn-color-background);\n",
       "}\n",
       "\n",
       "#sk-container-id-2 div.sk-container {\n",
       "  /* jupyter's `normalize.less` sets `[hidden] { display: none; }`\n",
       "     but bootstrap.min.css set `[hidden] { display: none !important; }`\n",
       "     so we also need the `!important` here to be able to override the\n",
       "     default hidden behavior on the sphinx rendered scikit-learn.org.\n",
       "     See: https://github.com/scikit-learn/scikit-learn/issues/21755 */\n",
       "  display: inline-block !important;\n",
       "  position: relative;\n",
       "}\n",
       "\n",
       "#sk-container-id-2 div.sk-text-repr-fallback {\n",
       "  display: none;\n",
       "}\n",
       "\n",
       "div.sk-parallel-item,\n",
       "div.sk-serial,\n",
       "div.sk-item {\n",
       "  /* draw centered vertical line to link estimators */\n",
       "  background-image: linear-gradient(var(--sklearn-color-text-on-default-background), var(--sklearn-color-text-on-default-background));\n",
       "  background-size: 2px 100%;\n",
       "  background-repeat: no-repeat;\n",
       "  background-position: center center;\n",
       "}\n",
       "\n",
       "/* Parallel-specific style estimator block */\n",
       "\n",
       "#sk-container-id-2 div.sk-parallel-item::after {\n",
       "  content: \"\";\n",
       "  width: 100%;\n",
       "  border-bottom: 2px solid var(--sklearn-color-text-on-default-background);\n",
       "  flex-grow: 1;\n",
       "}\n",
       "\n",
       "#sk-container-id-2 div.sk-parallel {\n",
       "  display: flex;\n",
       "  align-items: stretch;\n",
       "  justify-content: center;\n",
       "  background-color: var(--sklearn-color-background);\n",
       "  position: relative;\n",
       "}\n",
       "\n",
       "#sk-container-id-2 div.sk-parallel-item {\n",
       "  display: flex;\n",
       "  flex-direction: column;\n",
       "}\n",
       "\n",
       "#sk-container-id-2 div.sk-parallel-item:first-child::after {\n",
       "  align-self: flex-end;\n",
       "  width: 50%;\n",
       "}\n",
       "\n",
       "#sk-container-id-2 div.sk-parallel-item:last-child::after {\n",
       "  align-self: flex-start;\n",
       "  width: 50%;\n",
       "}\n",
       "\n",
       "#sk-container-id-2 div.sk-parallel-item:only-child::after {\n",
       "  width: 0;\n",
       "}\n",
       "\n",
       "/* Serial-specific style estimator block */\n",
       "\n",
       "#sk-container-id-2 div.sk-serial {\n",
       "  display: flex;\n",
       "  flex-direction: column;\n",
       "  align-items: center;\n",
       "  background-color: var(--sklearn-color-background);\n",
       "  padding-right: 1em;\n",
       "  padding-left: 1em;\n",
       "}\n",
       "\n",
       "\n",
       "/* Toggleable style: style used for estimator/Pipeline/ColumnTransformer box that is\n",
       "clickable and can be expanded/collapsed.\n",
       "- Pipeline and ColumnTransformer use this feature and define the default style\n",
       "- Estimators will overwrite some part of the style using the `sk-estimator` class\n",
       "*/\n",
       "\n",
       "/* Pipeline and ColumnTransformer style (default) */\n",
       "\n",
       "#sk-container-id-2 div.sk-toggleable {\n",
       "  /* Default theme specific background. It is overwritten whether we have a\n",
       "  specific estimator or a Pipeline/ColumnTransformer */\n",
       "  background-color: var(--sklearn-color-background);\n",
       "}\n",
       "\n",
       "/* Toggleable label */\n",
       "#sk-container-id-2 label.sk-toggleable__label {\n",
       "  cursor: pointer;\n",
       "  display: block;\n",
       "  width: 100%;\n",
       "  margin-bottom: 0;\n",
       "  padding: 0.5em;\n",
       "  box-sizing: border-box;\n",
       "  text-align: center;\n",
       "}\n",
       "\n",
       "#sk-container-id-2 label.sk-toggleable__label-arrow:before {\n",
       "  /* Arrow on the left of the label */\n",
       "  content: \"▸\";\n",
       "  float: left;\n",
       "  margin-right: 0.25em;\n",
       "  color: var(--sklearn-color-icon);\n",
       "}\n",
       "\n",
       "#sk-container-id-2 label.sk-toggleable__label-arrow:hover:before {\n",
       "  color: var(--sklearn-color-text);\n",
       "}\n",
       "\n",
       "/* Toggleable content - dropdown */\n",
       "\n",
       "#sk-container-id-2 div.sk-toggleable__content {\n",
       "  max-height: 0;\n",
       "  max-width: 0;\n",
       "  overflow: hidden;\n",
       "  text-align: left;\n",
       "  /* unfitted */\n",
       "  background-color: var(--sklearn-color-unfitted-level-0);\n",
       "}\n",
       "\n",
       "#sk-container-id-2 div.sk-toggleable__content.fitted {\n",
       "  /* fitted */\n",
       "  background-color: var(--sklearn-color-fitted-level-0);\n",
       "}\n",
       "\n",
       "#sk-container-id-2 div.sk-toggleable__content pre {\n",
       "  margin: 0.2em;\n",
       "  border-radius: 0.25em;\n",
       "  color: var(--sklearn-color-text);\n",
       "  /* unfitted */\n",
       "  background-color: var(--sklearn-color-unfitted-level-0);\n",
       "}\n",
       "\n",
       "#sk-container-id-2 div.sk-toggleable__content.fitted pre {\n",
       "  /* unfitted */\n",
       "  background-color: var(--sklearn-color-fitted-level-0);\n",
       "}\n",
       "\n",
       "#sk-container-id-2 input.sk-toggleable__control:checked~div.sk-toggleable__content {\n",
       "  /* Expand drop-down */\n",
       "  max-height: 200px;\n",
       "  max-width: 100%;\n",
       "  overflow: auto;\n",
       "}\n",
       "\n",
       "#sk-container-id-2 input.sk-toggleable__control:checked~label.sk-toggleable__label-arrow:before {\n",
       "  content: \"▾\";\n",
       "}\n",
       "\n",
       "/* Pipeline/ColumnTransformer-specific style */\n",
       "\n",
       "#sk-container-id-2 div.sk-label input.sk-toggleable__control:checked~label.sk-toggleable__label {\n",
       "  color: var(--sklearn-color-text);\n",
       "  background-color: var(--sklearn-color-unfitted-level-2);\n",
       "}\n",
       "\n",
       "#sk-container-id-2 div.sk-label.fitted input.sk-toggleable__control:checked~label.sk-toggleable__label {\n",
       "  background-color: var(--sklearn-color-fitted-level-2);\n",
       "}\n",
       "\n",
       "/* Estimator-specific style */\n",
       "\n",
       "/* Colorize estimator box */\n",
       "#sk-container-id-2 div.sk-estimator input.sk-toggleable__control:checked~label.sk-toggleable__label {\n",
       "  /* unfitted */\n",
       "  background-color: var(--sklearn-color-unfitted-level-2);\n",
       "}\n",
       "\n",
       "#sk-container-id-2 div.sk-estimator.fitted input.sk-toggleable__control:checked~label.sk-toggleable__label {\n",
       "  /* fitted */\n",
       "  background-color: var(--sklearn-color-fitted-level-2);\n",
       "}\n",
       "\n",
       "#sk-container-id-2 div.sk-label label.sk-toggleable__label,\n",
       "#sk-container-id-2 div.sk-label label {\n",
       "  /* The background is the default theme color */\n",
       "  color: var(--sklearn-color-text-on-default-background);\n",
       "}\n",
       "\n",
       "/* On hover, darken the color of the background */\n",
       "#sk-container-id-2 div.sk-label:hover label.sk-toggleable__label {\n",
       "  color: var(--sklearn-color-text);\n",
       "  background-color: var(--sklearn-color-unfitted-level-2);\n",
       "}\n",
       "\n",
       "/* Label box, darken color on hover, fitted */\n",
       "#sk-container-id-2 div.sk-label.fitted:hover label.sk-toggleable__label.fitted {\n",
       "  color: var(--sklearn-color-text);\n",
       "  background-color: var(--sklearn-color-fitted-level-2);\n",
       "}\n",
       "\n",
       "/* Estimator label */\n",
       "\n",
       "#sk-container-id-2 div.sk-label label {\n",
       "  font-family: monospace;\n",
       "  font-weight: bold;\n",
       "  display: inline-block;\n",
       "  line-height: 1.2em;\n",
       "}\n",
       "\n",
       "#sk-container-id-2 div.sk-label-container {\n",
       "  text-align: center;\n",
       "}\n",
       "\n",
       "/* Estimator-specific */\n",
       "#sk-container-id-2 div.sk-estimator {\n",
       "  font-family: monospace;\n",
       "  border: 1px dotted var(--sklearn-color-border-box);\n",
       "  border-radius: 0.25em;\n",
       "  box-sizing: border-box;\n",
       "  margin-bottom: 0.5em;\n",
       "  /* unfitted */\n",
       "  background-color: var(--sklearn-color-unfitted-level-0);\n",
       "}\n",
       "\n",
       "#sk-container-id-2 div.sk-estimator.fitted {\n",
       "  /* fitted */\n",
       "  background-color: var(--sklearn-color-fitted-level-0);\n",
       "}\n",
       "\n",
       "/* on hover */\n",
       "#sk-container-id-2 div.sk-estimator:hover {\n",
       "  /* unfitted */\n",
       "  background-color: var(--sklearn-color-unfitted-level-2);\n",
       "}\n",
       "\n",
       "#sk-container-id-2 div.sk-estimator.fitted:hover {\n",
       "  /* fitted */\n",
       "  background-color: var(--sklearn-color-fitted-level-2);\n",
       "}\n",
       "\n",
       "/* Specification for estimator info (e.g. \"i\" and \"?\") */\n",
       "\n",
       "/* Common style for \"i\" and \"?\" */\n",
       "\n",
       ".sk-estimator-doc-link,\n",
       "a:link.sk-estimator-doc-link,\n",
       "a:visited.sk-estimator-doc-link {\n",
       "  float: right;\n",
       "  font-size: smaller;\n",
       "  line-height: 1em;\n",
       "  font-family: monospace;\n",
       "  background-color: var(--sklearn-color-background);\n",
       "  border-radius: 1em;\n",
       "  height: 1em;\n",
       "  width: 1em;\n",
       "  text-decoration: none !important;\n",
       "  margin-left: 1ex;\n",
       "  /* unfitted */\n",
       "  border: var(--sklearn-color-unfitted-level-1) 1pt solid;\n",
       "  color: var(--sklearn-color-unfitted-level-1);\n",
       "}\n",
       "\n",
       ".sk-estimator-doc-link.fitted,\n",
       "a:link.sk-estimator-doc-link.fitted,\n",
       "a:visited.sk-estimator-doc-link.fitted {\n",
       "  /* fitted */\n",
       "  border: var(--sklearn-color-fitted-level-1) 1pt solid;\n",
       "  color: var(--sklearn-color-fitted-level-1);\n",
       "}\n",
       "\n",
       "/* On hover */\n",
       "div.sk-estimator:hover .sk-estimator-doc-link:hover,\n",
       ".sk-estimator-doc-link:hover,\n",
       "div.sk-label-container:hover .sk-estimator-doc-link:hover,\n",
       ".sk-estimator-doc-link:hover {\n",
       "  /* unfitted */\n",
       "  background-color: var(--sklearn-color-unfitted-level-3);\n",
       "  color: var(--sklearn-color-background);\n",
       "  text-decoration: none;\n",
       "}\n",
       "\n",
       "div.sk-estimator.fitted:hover .sk-estimator-doc-link.fitted:hover,\n",
       ".sk-estimator-doc-link.fitted:hover,\n",
       "div.sk-label-container:hover .sk-estimator-doc-link.fitted:hover,\n",
       ".sk-estimator-doc-link.fitted:hover {\n",
       "  /* fitted */\n",
       "  background-color: var(--sklearn-color-fitted-level-3);\n",
       "  color: var(--sklearn-color-background);\n",
       "  text-decoration: none;\n",
       "}\n",
       "\n",
       "/* Span, style for the box shown on hovering the info icon */\n",
       ".sk-estimator-doc-link span {\n",
       "  display: none;\n",
       "  z-index: 9999;\n",
       "  position: relative;\n",
       "  font-weight: normal;\n",
       "  right: .2ex;\n",
       "  padding: .5ex;\n",
       "  margin: .5ex;\n",
       "  width: min-content;\n",
       "  min-width: 20ex;\n",
       "  max-width: 50ex;\n",
       "  color: var(--sklearn-color-text);\n",
       "  box-shadow: 2pt 2pt 4pt #999;\n",
       "  /* unfitted */\n",
       "  background: var(--sklearn-color-unfitted-level-0);\n",
       "  border: .5pt solid var(--sklearn-color-unfitted-level-3);\n",
       "}\n",
       "\n",
       ".sk-estimator-doc-link.fitted span {\n",
       "  /* fitted */\n",
       "  background: var(--sklearn-color-fitted-level-0);\n",
       "  border: var(--sklearn-color-fitted-level-3);\n",
       "}\n",
       "\n",
       ".sk-estimator-doc-link:hover span {\n",
       "  display: block;\n",
       "}\n",
       "\n",
       "/* \"?\"-specific style due to the `<a>` HTML tag */\n",
       "\n",
       "#sk-container-id-2 a.estimator_doc_link {\n",
       "  float: right;\n",
       "  font-size: 1rem;\n",
       "  line-height: 1em;\n",
       "  font-family: monospace;\n",
       "  background-color: var(--sklearn-color-background);\n",
       "  border-radius: 1rem;\n",
       "  height: 1rem;\n",
       "  width: 1rem;\n",
       "  text-decoration: none;\n",
       "  /* unfitted */\n",
       "  color: var(--sklearn-color-unfitted-level-1);\n",
       "  border: var(--sklearn-color-unfitted-level-1) 1pt solid;\n",
       "}\n",
       "\n",
       "#sk-container-id-2 a.estimator_doc_link.fitted {\n",
       "  /* fitted */\n",
       "  border: var(--sklearn-color-fitted-level-1) 1pt solid;\n",
       "  color: var(--sklearn-color-fitted-level-1);\n",
       "}\n",
       "\n",
       "/* On hover */\n",
       "#sk-container-id-2 a.estimator_doc_link:hover {\n",
       "  /* unfitted */\n",
       "  background-color: var(--sklearn-color-unfitted-level-3);\n",
       "  color: var(--sklearn-color-background);\n",
       "  text-decoration: none;\n",
       "}\n",
       "\n",
       "#sk-container-id-2 a.estimator_doc_link.fitted:hover {\n",
       "  /* fitted */\n",
       "  background-color: var(--sklearn-color-fitted-level-3);\n",
       "}\n",
       "</style><div id=\"sk-container-id-2\" class=\"sk-top-container\"><div class=\"sk-text-repr-fallback\"><pre>VotingClassifier(estimators=[(&#x27;KN&#x27;, KNeighborsClassifier(n_neighbors=3)),\n",
       "                             (&#x27;AdaBoost&#x27;, AdaBoostClassifier(random_state=2)),\n",
       "                             (&#x27;LR&#x27;,\n",
       "                              LogisticRegression(penalty=&#x27;l1&#x27;,\n",
       "                                                 solver=&#x27;liblinear&#x27;))])</pre><b>In a Jupyter environment, please rerun this cell to show the HTML representation or trust the notebook. <br />On GitHub, the HTML representation is unable to render, please try loading this page with nbviewer.org.</b></div><div class=\"sk-container\" hidden><div class=\"sk-item sk-dashed-wrapped\"><div class=\"sk-label-container\"><div class=\"sk-label fitted sk-toggleable\"><input class=\"sk-toggleable__control sk-hidden--visually\" id=\"sk-estimator-id-5\" type=\"checkbox\" ><label for=\"sk-estimator-id-5\" class=\"sk-toggleable__label fitted sk-toggleable__label-arrow fitted\">&nbsp;&nbsp;VotingClassifier<a class=\"sk-estimator-doc-link fitted\" rel=\"noreferrer\" target=\"_blank\" href=\"https://scikit-learn.org/1.5/modules/generated/sklearn.ensemble.VotingClassifier.html\">?<span>Documentation for VotingClassifier</span></a><span class=\"sk-estimator-doc-link fitted\">i<span>Fitted</span></span></label><div class=\"sk-toggleable__content fitted\"><pre>VotingClassifier(estimators=[(&#x27;KN&#x27;, KNeighborsClassifier(n_neighbors=3)),\n",
       "                             (&#x27;AdaBoost&#x27;, AdaBoostClassifier(random_state=2)),\n",
       "                             (&#x27;LR&#x27;,\n",
       "                              LogisticRegression(penalty=&#x27;l1&#x27;,\n",
       "                                                 solver=&#x27;liblinear&#x27;))])</pre></div> </div></div><div class=\"sk-parallel\"><div class=\"sk-parallel-item\"><div class=\"sk-item\"><div class=\"sk-label-container\"><div class=\"sk-label fitted sk-toggleable\"><label>KN</label></div></div><div class=\"sk-serial\"><div class=\"sk-item\"><div class=\"sk-estimator fitted sk-toggleable\"><input class=\"sk-toggleable__control sk-hidden--visually\" id=\"sk-estimator-id-6\" type=\"checkbox\" ><label for=\"sk-estimator-id-6\" class=\"sk-toggleable__label fitted sk-toggleable__label-arrow fitted\">&nbsp;KNeighborsClassifier<a class=\"sk-estimator-doc-link fitted\" rel=\"noreferrer\" target=\"_blank\" href=\"https://scikit-learn.org/1.5/modules/generated/sklearn.neighbors.KNeighborsClassifier.html\">?<span>Documentation for KNeighborsClassifier</span></a></label><div class=\"sk-toggleable__content fitted\"><pre>KNeighborsClassifier(n_neighbors=3)</pre></div> </div></div></div></div></div><div class=\"sk-parallel-item\"><div class=\"sk-item\"><div class=\"sk-label-container\"><div class=\"sk-label fitted sk-toggleable\"><label>AdaBoost</label></div></div><div class=\"sk-serial\"><div class=\"sk-item\"><div class=\"sk-estimator fitted sk-toggleable\"><input class=\"sk-toggleable__control sk-hidden--visually\" id=\"sk-estimator-id-7\" type=\"checkbox\" ><label for=\"sk-estimator-id-7\" class=\"sk-toggleable__label fitted sk-toggleable__label-arrow fitted\">&nbsp;AdaBoostClassifier<a class=\"sk-estimator-doc-link fitted\" rel=\"noreferrer\" target=\"_blank\" href=\"https://scikit-learn.org/1.5/modules/generated/sklearn.ensemble.AdaBoostClassifier.html\">?<span>Documentation for AdaBoostClassifier</span></a></label><div class=\"sk-toggleable__content fitted\"><pre>AdaBoostClassifier(random_state=2)</pre></div> </div></div></div></div></div><div class=\"sk-parallel-item\"><div class=\"sk-item\"><div class=\"sk-label-container\"><div class=\"sk-label fitted sk-toggleable\"><label>LR</label></div></div><div class=\"sk-serial\"><div class=\"sk-item\"><div class=\"sk-estimator fitted sk-toggleable\"><input class=\"sk-toggleable__control sk-hidden--visually\" id=\"sk-estimator-id-8\" type=\"checkbox\" ><label for=\"sk-estimator-id-8\" class=\"sk-toggleable__label fitted sk-toggleable__label-arrow fitted\">&nbsp;LogisticRegression<a class=\"sk-estimator-doc-link fitted\" rel=\"noreferrer\" target=\"_blank\" href=\"https://scikit-learn.org/1.5/modules/generated/sklearn.linear_model.LogisticRegression.html\">?<span>Documentation for LogisticRegression</span></a></label><div class=\"sk-toggleable__content fitted\"><pre>LogisticRegression(penalty=&#x27;l1&#x27;, solver=&#x27;liblinear&#x27;)</pre></div> </div></div></div></div></div></div></div></div></div>"
      ],
      "text/plain": [
       "VotingClassifier(estimators=[('KN', KNeighborsClassifier(n_neighbors=3)),\n",
       "                             ('AdaBoost', AdaBoostClassifier(random_state=2)),\n",
       "                             ('LR',\n",
       "                              LogisticRegression(penalty='l1',\n",
       "                                                 solver='liblinear'))])"
      ]
     },
     "execution_count": 94,
     "metadata": {},
     "output_type": "execute_result"
    }
   ],
   "source": [
    "# Voting Classifier\n",
    "knc = KNeighborsClassifier(n_neighbors=3)\n",
    "abc = AdaBoostClassifier(n_estimators=50, random_state=2)\n",
    "lrc = LogisticRegression(solver='liblinear', penalty='l1')\n",
    "voting_hard = VotingClassifier(estimators=[('KN', knc), ('AdaBoost', abc), ('LR', lrc)],voting='hard')\n",
    "voting_hard.fit(X_train,y_train)"
   ]
  },
  {
   "cell_type": "markdown",
   "id": "ZO3R3PccPKer",
   "metadata": {
    "id": "ZO3R3PccPKer"
   },
   "source": [
    "### 1.) Training"
   ]
  },
  {
   "cell_type": "code",
   "execution_count": null,
   "id": "uEYA4PPbPJ4P",
   "metadata": {
    "colab": {
     "base_uri": "https://localhost:8080/"
    },
    "id": "uEYA4PPbPJ4P",
    "outputId": "ade3336e-1c69-4e7b-9682-4307e5c6f7f1"
   },
   "outputs": [
    {
     "name": "stdout",
     "output_type": "stream",
     "text": [
      "Confusion Matrix:\n",
      " [[64429   834   349]\n",
      " [  138 36968    63]\n",
      " [    0     0 31443]]\n",
      "Training Accuracy: 0.9896888782930028\n",
      "Training Precision: 0.9876222517094911\n",
      "Training Recall: 0.9921873431263256\n",
      "Training F1 Score: 0.9898460671521424\n",
      "Error Rate: 0.010311121706997259\n"
     ]
    }
   ],
   "source": [
    "y_train_pred = voting_hard.predict(X_train)\n",
    "\n",
    "\n",
    "confusion = confusion_matrix(y_train, y_train_pred)\n",
    "print(\"Confusion Matrix:\\n\", confusion)\n",
    "\n",
    "\n",
    "# Calculate metrics\n",
    "accuracy = accuracy_score(y_train, y_train_pred)\n",
    "precision = precision_score(y_train, y_train_pred, average='macro')\n",
    "recall = recall_score(y_train, y_train_pred, average='macro')\n",
    "f1 = f1_score(y_train, y_train_pred, average='macro')\n",
    "error_rate = np.sum(y_train_pred != y_train) / len(y_train)\n",
    "\n",
    "    # Print metrics\n",
    "print(\"Training Accuracy:\", accuracy)\n",
    "print(\"Training Precision:\", precision)\n",
    "print(\"Training Recall:\", recall)\n",
    "print(\"Training F1 Score:\", f1)\n",
    "print(\"Error Rate:\", error_rate)"
   ]
  },
  {
   "cell_type": "markdown",
   "id": "g4CJ8s0kPgpB",
   "metadata": {
    "id": "g4CJ8s0kPgpB"
   },
   "source": [
    "### 2.) Testing"
   ]
  },
  {
   "cell_type": "code",
   "execution_count": null,
   "id": "FQIcywIUPjEv",
   "metadata": {
    "colab": {
     "base_uri": "https://localhost:8080/"
    },
    "id": "FQIcywIUPjEv",
    "outputId": "c0c528ae-d164-40ad-e5e9-87efbe9d22f8"
   },
   "outputs": [
    {
     "name": "stdout",
     "output_type": "stream",
     "text": [
      "Confusion Matrix:\n",
      " [[15948   335   128]\n",
      " [   71  9240    22]\n",
      " [    0     0  7813]]\n",
      "Accuracy 0.9834311768036476\n",
      "Precision 0.980581232141195\n",
      "Recall 0.9872741914324791\n",
      "F1 Score 0.9837965767129871\n",
      "Error Rate: 0.016568823196352476\n"
     ]
    }
   ],
   "source": [
    "y_pred = voting_hard.predict(X_test)\n",
    "\n",
    "confusion = confusion_matrix(y_test, y_pred)\n",
    "print(\"Confusion Matrix:\\n\", confusion)\n",
    "\n",
    "print(\"Accuracy\",accuracy_score(y_test,y_pred))\n",
    "print(\"Precision\",precision_score(y_test,y_pred, average='macro'))\n",
    "print(\"Recall\",recall_score(y_test, y_pred, average='macro'))\n",
    "print(\"F1 Score\",f1_score(y_test, y_pred, average='macro'))\n",
    "error_rate = np.sum(y_pred != y_test) / len(y_test)\n",
    "print(\"Error Rate:\", error_rate)"
   ]
  },
  {
   "cell_type": "markdown",
   "id": "bd63e40e-a0ea-4afa-a49e-d9f03b634a76",
   "metadata": {},
   "source": [
    "##### The Hard Voting Classifier, which combines K-Nearest Neighbors (KNN), AdaBoost, and Logistic Regression, achieves an accuracy of 98.34%, with precision (98.06%), recall (98.73%), and F1 score (98.38%), indicating strong performance. The error rate of 1.66% confirms that the model is performing well on the test data, with minimal misclassifications."
   ]
  },
  {
   "cell_type": "markdown",
   "id": "d85563ae-9e2b-4d9a-8b7a-d089d2a766a1",
   "metadata": {},
   "source": [
    "#### In this case, **the Soft Voting Classifier** is slightly better than the Hard Voting Classifier. \n",
    "\n",
    "- **Soft Voting** achieves an accuracy of 98.60%, which is higher than Hard Voting's accuracy of 98.34%. \n",
    "- Additionally, Soft Voting has slightly better precision (98.34% vs. 98.06%), recall (98.91% vs. 98.73%), and F1 score (98.62% vs. 98.38%).\n",
    "\n",
    "These differences suggest that Soft Voting, by averaging the predicted probabilities, may be more effective in capturing the nuanced patterns in the data."
   ]
  },
  {
   "cell_type": "markdown",
   "id": "gy7dpWENRPjj",
   "metadata": {
    "id": "gy7dpWENRPjj"
   },
   "source": [
    "### b.) Stacking\n",
    "it takes the idea a step further by introducing a meta-model (final_estimator) that learns to make predictions based on the outputs of the base classifiers.\n"
   ]
  },
  {
   "cell_type": "markdown",
   "id": "fg8HZ12VR9ge",
   "metadata": {
    "id": "fg8HZ12VR9ge"
   },
   "source": [
    "### 1.) Stacking Training"
   ]
  },
  {
   "cell_type": "code",
   "execution_count": null,
   "id": "jZKDjiTxRNaZ",
   "metadata": {
    "colab": {
     "base_uri": "https://localhost:8080/"
    },
    "id": "jZKDjiTxRNaZ",
    "outputId": "dfb3a8fd-d6c7-4029-ce85-03747996964e"
   },
   "outputs": [
    {
     "name": "stderr",
     "output_type": "stream",
     "text": [
      "/usr/local/lib/python3.10/dist-packages/sklearn/ensemble/_weight_boosting.py:527: FutureWarning: The SAMME.R algorithm (the default) is deprecated and will be removed in 1.6. Use the SAMME algorithm to circumvent this warning.\n",
      "  warnings.warn(\n",
      "/usr/local/lib/python3.10/dist-packages/sklearn/svm/_base.py:1235: ConvergenceWarning: Liblinear failed to converge, increase the number of iterations.\n",
      "  warnings.warn(\n",
      "/usr/local/lib/python3.10/dist-packages/sklearn/ensemble/_weight_boosting.py:527: FutureWarning: The SAMME.R algorithm (the default) is deprecated and will be removed in 1.6. Use the SAMME algorithm to circumvent this warning.\n",
      "  warnings.warn(\n",
      "/usr/local/lib/python3.10/dist-packages/sklearn/ensemble/_weight_boosting.py:527: FutureWarning: The SAMME.R algorithm (the default) is deprecated and will be removed in 1.6. Use the SAMME algorithm to circumvent this warning.\n",
      "  warnings.warn(\n",
      "/usr/local/lib/python3.10/dist-packages/sklearn/ensemble/_weight_boosting.py:527: FutureWarning: The SAMME.R algorithm (the default) is deprecated and will be removed in 1.6. Use the SAMME algorithm to circumvent this warning.\n",
      "  warnings.warn(\n",
      "/usr/local/lib/python3.10/dist-packages/sklearn/ensemble/_weight_boosting.py:527: FutureWarning: The SAMME.R algorithm (the default) is deprecated and will be removed in 1.6. Use the SAMME algorithm to circumvent this warning.\n",
      "  warnings.warn(\n",
      "/usr/local/lib/python3.10/dist-packages/sklearn/ensemble/_weight_boosting.py:527: FutureWarning: The SAMME.R algorithm (the default) is deprecated and will be removed in 1.6. Use the SAMME algorithm to circumvent this warning.\n",
      "  warnings.warn(\n",
      "/usr/local/lib/python3.10/dist-packages/sklearn/svm/_base.py:1235: ConvergenceWarning: Liblinear failed to converge, increase the number of iterations.\n",
      "  warnings.warn(\n",
      "/usr/local/lib/python3.10/dist-packages/sklearn/svm/_base.py:1235: ConvergenceWarning: Liblinear failed to converge, increase the number of iterations.\n",
      "  warnings.warn(\n",
      "/usr/local/lib/python3.10/dist-packages/sklearn/svm/_base.py:1235: ConvergenceWarning: Liblinear failed to converge, increase the number of iterations.\n",
      "  warnings.warn(\n",
      "/usr/local/lib/python3.10/dist-packages/sklearn/svm/_base.py:1235: ConvergenceWarning: Liblinear failed to converge, increase the number of iterations.\n",
      "  warnings.warn(\n",
      "/usr/local/lib/python3.10/dist-packages/sklearn/svm/_base.py:1235: ConvergenceWarning: Liblinear failed to converge, increase the number of iterations.\n",
      "  warnings.warn(\n"
     ]
    },
    {
     "name": "stdout",
     "output_type": "stream",
     "text": [
      "Confusion Matrix:\n",
      " [[65612     0     0]\n",
      " [    0 37169     0]\n",
      " [    0     0 31443]]\n",
      "Training Accuracy: 1.0\n",
      "Training Precision: 1.0\n",
      "Training Recall: 1.0\n",
      "Training F1 Score: 1.0\n",
      "Error Rate: 0.0\n"
     ]
    }
   ],
   "source": [
    "# Applying stacking\n",
    "knc = KNeighborsClassifier(n_neighbors=3)\n",
    "abc = AdaBoostClassifier(n_estimators=50, random_state=2)\n",
    "lrc = LogisticRegression(solver='liblinear', penalty='l1')\n",
    "estimators=[('KN', knc), ('AdaBoost', abc), ('LR', lrc)]\n",
    "final_estimator=RandomForestClassifier()\n",
    "\n",
    "stacks = StackingClassifier(estimators=estimators, final_estimator=final_estimator)\n",
    "\n",
    "stacks.fit(X_train,y_train)\n",
    "\n",
    "y_train_pred = clf.predict(X_train)\n",
    "\n",
    "confusion = confusion_matrix(y_train, y_train_pred)\n",
    "print(\"Confusion Matrix:\\n\", confusion)\n",
    "\n",
    "# Calculate metrics\n",
    "accuracy = accuracy_score(y_train, y_train_pred)\n",
    "precision = precision_score(y_train, y_train_pred, average='macro')\n",
    "recall = recall_score(y_train, y_train_pred, average='macro')\n",
    "f1 = f1_score(y_train, y_train_pred, average='macro')\n",
    "error_rate = np.sum(y_train_pred != y_train) / len(y_train)\n",
    "\n",
    "    # Print metrics\n",
    "print(\"Training Accuracy:\", accuracy)\n",
    "print(\"Training Precision:\", precision)\n",
    "print(\"Training Recall:\", recall)\n",
    "print(\"Training F1 Score:\", f1)\n",
    "print(\"Error Rate:\", error_rate)"
   ]
  },
  {
   "cell_type": "markdown",
   "id": "pG8BRgTtS9f_",
   "metadata": {
    "id": "pG8BRgTtS9f_"
   },
   "source": [
    "### 2.) Stacking Testing"
   ]
  },
  {
   "cell_type": "code",
   "execution_count": null,
   "id": "TupxrZbqS8kP",
   "metadata": {
    "colab": {
     "base_uri": "https://localhost:8080/"
    },
    "id": "TupxrZbqS8kP",
    "outputId": "32ba590c-ef41-4c16-ea6b-e612b7476c06"
   },
   "outputs": [
    {
     "name": "stdout",
     "output_type": "stream",
     "text": [
      "Confusion Matrix:\n",
      " [[16411     0     0]\n",
      " [    1  9332     0]\n",
      " [    0     0  7813]]\n",
      "Accuracy 0.99997019995828\n",
      "Precision 0.9999796896579739\n",
      "Recall 0.9999642844387299\n",
      "F1 Score 0.9999719857822077\n",
      "Error Rate: 2.9800041720058407e-05\n"
     ]
    }
   ],
   "source": [
    "y_pred = stacks.predict(X_test)\n",
    "\n",
    "confusion = confusion_matrix(y_test, y_pred)\n",
    "print(\"Confusion Matrix:\\n\", confusion)\n",
    "\n",
    "print(\"Accuracy\",accuracy_score(y_test,y_pred))\n",
    "print(\"Precision\",precision_score(y_test,y_pred, average='macro'))\n",
    "print(\"Recall\",recall_score(y_test, y_pred, average='macro'))\n",
    "print(\"F1 Score\",f1_score(y_test, y_pred, average='macro'))\n",
    "error_rate = np.sum(y_pred != y_test) / len(y_test)\n",
    "print(\"Error Rate:\", error_rate)"
   ]
  },
  {
   "cell_type": "markdown",
   "id": "1b2340b3-2542-40dc-ab18-84e6ff14347a",
   "metadata": {},
   "source": [
    "##### The Stacking Classifier outperforms both voting models with an accuracy of 99.997%, precision of 99.998%, recall of 99.996%, and an F1 score of 99.997%, indicating exceptional performance with a very low error rate."
   ]
  },
  {
   "cell_type": "markdown",
   "id": "9e266bcd-de0d-4e74-80ac-e419d2fd8314",
   "metadata": {},
   "source": [
    "## 8.) Evaluation metrics in the context of binary classification problem\n"
   ]
  },
  {
   "cell_type": "markdown",
   "id": "ed0a3c63-862b-45a3-8815-3710714c2a7a",
   "metadata": {},
   "source": [
    "#### ROC (Receiver Operating Characteristic) curves and Precision-Recall curves \n",
    "These curves provide valuable insights into the performance of a classification model beyond traditional metrics like accuracy, precision, recall, and F1 score."
   ]
  },
  {
   "cell_type": "markdown",
   "id": "4347b62a-5624-4486-9728-59d65f5ed0da",
   "metadata": {},
   "source": [
    "### a.) ROC (Receiver Operating Characteristic)"
   ]
  },
  {
   "cell_type": "code",
   "execution_count": null,
   "id": "nSklape0USRz",
   "metadata": {
    "colab": {
     "base_uri": "https://localhost:8080/",
     "height": 1000
    },
    "id": "nSklape0USRz",
    "outputId": "f695eb7f-ea16-4f1b-db4e-5286b42a2e45"
   },
   "outputs": [
    {
     "data": {
      "image/png": "[encoded data removed]",
      "text/plain": [
       "<Figure size 1200x600 with 1 Axes>"
      ]
     },
     "metadata": {},
     "output_type": "display_data"
    },
    {
     "data": {
      "image/png": "[encoded data removed]",
      "text/plain": [
       "<Figure size 1200x600 with 1 Axes>"
      ]
     },
     "metadata": {},
     "output_type": "display_data"
    }
   ],
   "source": [
    "\n",
    "# Class mapping\n",
    "class_mapping = {\n",
    "    0: 'Normal',\n",
    "    1: 'DDoS',\n",
    "    2: 'Scaning',\n",
    "}\n",
    "class_names = [class_mapping[i] for i in range(len(class_mapping))]\n",
    "\n",
    "# Number of classes\n",
    "n_classes = len(class_mapping)\n",
    "\n",
    "# y_test contains true labels and there are 3 classes\n",
    "y_test_binarized = label_binarize(y_test, classes=range(n_classes))\n",
    "\n",
    "# Get predicted probabilities for Voting and Stacking classifiers\n",
    "y_pred_probs_voting = voting.predict_proba(X_test)\n",
    "y_pred_probs_stacking = stacks.predict_proba(X_test)\n",
    "\n",
    "# Initialize dictionaries for ROC data\n",
    "fpr_voting, tpr_voting, roc_auc_voting = dict(), dict(), dict()\n",
    "fpr_stacking, tpr_stacking, roc_auc_stacking = dict(), dict(), dict()\n",
    "\n",
    "# Compute ROC curve and AUC for each class for Voting Classifier\n",
    "for i in range(n_classes):\n",
    "    fpr_voting[i], tpr_voting[i], _ = roc_curve(y_test_binarized[:, i], y_pred_probs_voting[:, i])\n",
    "    roc_auc_voting[i] = auc(fpr_voting[i], tpr_voting[i])\n",
    "\n",
    "# Compute ROC curve and AUC for each class for Stacking Classifier\n",
    "for i in range(n_classes):\n",
    "    fpr_stacking[i], tpr_stacking[i], _ = roc_curve(y_test_binarized[:, i], y_pred_probs_stacking[:, i])\n",
    "    roc_auc_stacking[i] = auc(fpr_stacking[i], tpr_stacking[i])\n",
    "\n",
    "# Plot ROC Curves for Voting Classifier\n",
    "plt.figure(figsize=(12, 6))\n",
    "for i in range(n_classes):\n",
    "    plt.plot(fpr_voting[i], tpr_voting[i], lw=2, label=f'{class_names[i]} ROC curve (AUC = {roc_auc_voting[i]:.4f})')\n",
    "plt.plot([0, 1], [0, 1], color='gray', lw=2, linestyle='--')\n",
    "plt.xlim([0.0, 1.0])\n",
    "plt.ylim([0.0, 1.05])\n",
    "plt.xlabel('False Positive Rate')\n",
    "plt.ylabel('True Positive Rate')\n",
    "plt.title('Voting Classifier - ROC Curve')\n",
    "plt.legend(loc=\"lower right\")\n",
    "plt.grid(True)\n",
    "plt.show()\n",
    "\n",
    "# Plot ROC Curves for Stacking Classifier\n",
    "plt.figure(figsize=(12, 6))\n",
    "for i in range(n_classes):\n",
    "    plt.plot(fpr_stacking[i], tpr_stacking[i], lw=2, label=f'{class_names[i]} ROC curve (AUC = {roc_auc_stacking[i]:.4f})')\n",
    "plt.plot([0, 1], [0, 1], color='gray', lw=2, linestyle='--')\n",
    "plt.xlim([0.0, 1.0])\n",
    "plt.ylim([0.0, 1.05])\n",
    "plt.xlabel('False Positive Rate')\n",
    "plt.ylabel('True Positive Rate')\n",
    "plt.title('Stacking Classifier - ROC Curve')\n",
    "plt.legend(loc=\"lower right\")\n",
    "plt.grid(True)\n",
    "plt.show()\n"
   ]
  },
  {
   "cell_type": "markdown",
   "id": "43a2f607-95aa-4b86-be1d-ba31a009bbdf",
   "metadata": {},
   "source": [
    "##### The ROC curves help visualize the performance of these classifiers in terms of their true positive rate (TPR) against the false positive rate (FPR) across different decision thresholds.\n",
    "\n",
    "Both classifiers exhibit outstanding ROC curve characteristics, and the small difference in AUC values may not be significant. These results suggest that both the Voting Classifier and the Stacking Classifier are effective in making predictions and distinguishing between classes."
   ]
  },
  {
   "cell_type": "markdown",
   "id": "fc7df40f-dda7-418c-8afc-31cd306437d9",
   "metadata": {},
   "source": [
    "### b.) Precision-Recall curves"
   ]
  },
  {
   "cell_type": "code",
   "execution_count": null,
   "id": "04MElxTTaZKA",
   "metadata": {
    "colab": {
     "base_uri": "https://localhost:8080/",
     "height": 1000
    },
    "id": "04MElxTTaZKA",
    "outputId": "987430ec-ab1c-4875-cfcd-1973dc7684af"
   },
   "outputs": [
    {
     "data": {
      "image/png": "[encoded data removed]",
      "text/plain": [
       "<Figure size 1200x600 with 1 Axes>"
      ]
     },
     "metadata": {},
     "output_type": "display_data"
    },
    {
     "data": {
      "image/png": "[encoded data removed]",
      "text/plain": [
       "<Figure size 1200x600 with 1 Axes>"
      ]
     },
     "metadata": {},
     "output_type": "display_data"
    }
   ],
   "source": [
    "\n",
    "\n",
    "# Initialize dictionaries for Precision-Recall data\n",
    "precision_voting, recall_voting, pr_auc_voting = dict(), dict(), dict()\n",
    "precision_stacking, recall_stacking, pr_auc_stacking = dict(), dict(), dict()\n",
    "\n",
    "# Compute Precision-Recall curve and AUC for each class for Voting Classifier\n",
    "for i in range(n_classes):\n",
    "    precision_voting[i], recall_voting[i], _ = precision_recall_curve(y_test_binarized[:, i], y_pred_probs_voting[:, i])\n",
    "    pr_auc_voting[i] = auc(recall_voting[i], precision_voting[i])\n",
    "\n",
    "# Compute Precision-Recall curve and AUC for each class for Stacking Classifier\n",
    "for i in range(n_classes):\n",
    "    precision_stacking[i], recall_stacking[i], _ = precision_recall_curve(y_test_binarized[:, i], y_pred_probs_stacking[:, i])\n",
    "    pr_auc_stacking[i] = auc(recall_stacking[i], precision_stacking[i])\n",
    "\n",
    "# Plot Precision-Recall Curves for Voting Classifier\n",
    "plt.figure(figsize=(12, 6))\n",
    "for i in range(n_classes):\n",
    "    plt.plot(recall_voting[i], precision_voting[i], lw=2, label=f'{class_names[i]} PR curve (AUC = {pr_auc_voting[i]:.4f})')\n",
    "plt.xlabel('Recall')\n",
    "plt.ylabel('Precision')\n",
    "plt.title('Voting Classifier - Precision-Recall Curve')\n",
    "plt.legend(loc=\"upper right\")\n",
    "plt.grid(True)\n",
    "plt.show()\n",
    "\n",
    "# Plot Precision-Recall Curves for Stacking Classifier\n",
    "plt.figure(figsize=(12, 6))\n",
    "for i in range(n_classes):\n",
    "    plt.plot(recall_stacking[i], precision_stacking[i], lw=2, label=f'{class_names[i]} PR curve (AUC = {pr_auc_stacking[i]:.4f})')\n",
    "plt.xlabel('Recall')\n",
    "plt.ylabel('Precision')\n",
    "plt.title('Stacking Classifier - Precision-Recall Curve')\n",
    "plt.legend(loc=\"upper right\")\n",
    "plt.grid(True)\n",
    "plt.show()\n"
   ]
  },
  {
   "cell_type": "markdown",
   "id": "e92d2d85-f25a-4c15-892c-abff6580648d",
   "metadata": {},
   "source": [
    "#### The Precision-Recall curve results show that the Stacking Classifier performs better than Voting, achieving a perfect score (1.0) for both normal and DDoS classes, while Voting Classifier has a slightly lower precision (0.97) for these classes but still maintains a high overall performance."
   ]
  },
  {
   "cell_type": "markdown",
   "id": "b24f3196-6d90-4f0c-bc5c-d6b3111ffc5f",
   "metadata": {},
   "source": [
    "##### For each class, this means that the Stacking Classifier is consistently performing better across all categories (normal, DDoS, and scannig), with perfect precision and recall (1.0) for each class. This indicates that the model is correctly classifying every instance in each category, without any false positives or false negatives. On the other hand, the Voting Classifier achieves a slightly lower precision (0.97) for both the normal and DDoS classes, meaning it misses a few true positives or incorrectly labels some instances, although its performance is still high overall."
   ]
  },
  {
   "cell_type": "code",
   "execution_count": 103,
   "id": "MGQFRW_ddlRM",
   "metadata": {
    "colab": {
     "base_uri": "https://localhost:8080/"
    },
    "id": "MGQFRW_ddlRM",
    "outputId": "4fd7dcad-64e6-4bd4-ebc1-0ba8d1efac9a"
   },
   "outputs": [
    {
     "name": "stdout",
     "output_type": "stream",
     "text": [
      "Soft Voting model saved successfully.\n",
      "Hard Voting Model saved successfully.\n",
      "Stacking Model saved successfully.\n"
     ]
    }
   ],
   "source": [
    "# Save the trained model to a file\n",
    "joblib.dump(voting, 'soft_model.pkl')\n",
    "print(\"Soft Voting model saved successfully.\")\n",
    "\n",
    "# Save the trained model to a file\n",
    "joblib.dump(voting_hard, 'hard_model.pkl')\n",
    "print(\"Hard Voting Model saved successfully.\")\n",
    "\n",
    "# Save the trained model to a file\n",
    "joblib.dump(stacks, 'Stacking_model.pkl')\n",
    "print(\"Stacking Model saved successfully.\")"
   ]
  },
  {
   "cell_type": "markdown",
   "id": "f15413f2-3423-46e2-bb29-2b891dae0214",
   "metadata": {},
   "source": [
    "#### Saving trained models using the joblib"
   ]
  },
  {
   "cell_type": "code",
   "execution_count": null,
   "id": "cffe3575-9ca3-4ae8-b02a-9db7d854c64a",
   "metadata": {},
   "outputs": [],
   "source": []
  }
 ],
 "metadata": {
  "colab": {
   "provenance": []
  },
  "kernelspec": {
   "display_name": "Python 3 (ipykernel)",
   "language": "python",
   "name": "python3"
  },
  "language_info": {
   "codemirror_mode": {
    "name": "ipython",
    "version": 3
   },
   "file_extension": ".py",
   "mimetype": "text/x-python",
   "name": "python",
   "nbconvert_exporter": "python",
   "pygments_lexer": "ipython3",
   "version": "3.10.0"
  }
 },
 "nbformat": 4,
 "nbformat_minor": 5
}
